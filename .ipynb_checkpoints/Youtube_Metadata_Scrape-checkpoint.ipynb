{
 "cells": [
  {
   "cell_type": "code",
   "execution_count": 1,
   "metadata": {},
   "outputs": [],
   "source": [
    "# imports\n",
    "import os"
   ]
  },
  {
   "cell_type": "code",
   "execution_count": 3,
   "metadata": {},
   "outputs": [
    {
     "data": {
      "text/plain": [
       "0"
      ]
     },
     "execution_count": 3,
     "metadata": {},
     "output_type": "execute_result"
    }
   ],
   "source": [
    "# make directory for our data\n",
    "os.system(\"mkdir data\")\n",
    "\n",
    "# aggregate the full data set\n",
    "os.system(\"cp sports-1m-dataset/original/test_partition.txt ./data/full_dataset.txt\")\n",
    "os.system(\"cat sports-1m-dataset/original/train_partition.txt >> ./data/full_dataset.txt\")"
   ]
  },
  {
   "cell_type": "markdown",
   "metadata": {},
   "source": [
    "### do not run section below again!!!"
   ]
  },
  {
   "cell_type": "code",
   "execution_count": 19,
   "metadata": {},
   "outputs": [
    {
     "data": {
      "text/plain": [
       "0"
      ]
     },
     "execution_count": 19,
     "metadata": {},
     "output_type": "execute_result"
    }
   ],
   "source": [
    "# 3 categories of videos\n",
    "# boxing (2)\n",
    "# table tennis (96)\n",
    "# american football (393)\n",
    "\n",
    "# create boxing videos dataset\n",
    "os.system(\"grep -m 1000 -o '^[^ ]\\+ 2$' ./data/full_dataset.txt > ./data/2.txt\")\n",
    "\n",
    "# create table tennis dataset\n",
    "os.system(\"grep -m 1000 -o '^[^ ]\\+ 96$' ./data/full_dataset.txt > ./data/96.txt\")\n",
    "\n",
    "# create american football dataset\n",
    "os.system(\"grep -m 1000 -o '^[^ ]\\+ 393$' ./data/full_dataset.txt > ./data/393.txt\")"
   ]
  },
  {
   "cell_type": "code",
   "execution_count": null,
   "metadata": {},
   "outputs": [],
   "source": []
  }
 ],
 "metadata": {
  "kernelspec": {
   "display_name": "Python 3",
   "language": "python",
   "name": "python3"
  },
  "language_info": {
   "codemirror_mode": {
    "name": "ipython",
    "version": 3
   },
   "file_extension": ".py",
   "mimetype": "text/x-python",
   "name": "python",
   "nbconvert_exporter": "python",
   "pygments_lexer": "ipython3",
   "version": "3.5.2"
  }
 },
 "nbformat": 4,
 "nbformat_minor": 2
}
