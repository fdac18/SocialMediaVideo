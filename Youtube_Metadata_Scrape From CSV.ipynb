{
 "cells": [
  {
   "cell_type": "code",
   "execution_count": 1,
   "metadata": {},
   "outputs": [],
   "source": [
    "# imports\n",
    "import os\n",
    "import re\n",
    "import pafy\n",
    "import pandas as pd\n",
    "import numpy as np\n",
    "import matplotlib.pyplot as plt"
   ]
  },
  {
   "cell_type": "code",
   "execution_count": 207,
   "metadata": {},
   "outputs": [],
   "source": [
    "from googletrans import Translator"
   ]
  },
  {
   "cell_type": "code",
   "execution_count": 82,
   "metadata": {},
   "outputs": [],
   "source": [
    "df_all = pd.read_csv('all_data.csv')"
   ]
  },
  {
   "cell_type": "code",
   "execution_count": 4,
   "metadata": {},
   "outputs": [
    {
     "name": "stdout",
     "output_type": "stream",
     "text": [
      "1541560972.1954129\n"
     ]
    }
   ],
   "source": [
    "import datetime as dt\n",
    "\n",
    "# Get Current Time\n",
    "current_time = pd.to_datetime(dt.datetime.now())\n",
    "current_time = (current_time - dt.datetime(1970,1,1)).total_seconds()\n",
    "\n",
    "print(current_time)"
   ]
  },
  {
   "cell_type": "code",
   "execution_count": 83,
   "metadata": {},
   "outputs": [
    {
     "name": "stdout",
     "output_type": "stream",
     "text": [
      "      length  likes  dislikes    rating  date_published  viewcount  \\\n",
      "0        543    0.0       0.0  0.000000    1.272672e+09        150   \n",
      "1         24    6.0       0.0  5.000000    1.224725e+09       3745   \n",
      "2         52    1.0       0.0  5.000000    1.365526e+09        262   \n",
      "3         26    3.0       1.0  4.000000    1.195130e+09       5148   \n",
      "4        415    1.0       0.0  5.000000    1.369036e+09         34   \n",
      "5         56    0.0       0.0  0.000000    1.226965e+09        712   \n",
      "6        621   10.0       0.0  5.000000    1.370207e+09       2695   \n",
      "7          6    0.0       0.0  0.000000    1.196091e+09         19   \n",
      "8        589    0.0       0.0  0.000000    1.348449e+09         36   \n",
      "9        596    0.0       0.0  0.000000    1.369108e+09         29   \n",
      "10        86    0.0       0.0  0.000000    1.352587e+09        433   \n",
      "11       194    0.0       0.0  0.000000    1.271176e+09         21   \n",
      "12       598    1.0       0.0  5.000000    1.349069e+09        126   \n",
      "13       298    5.0       0.0  5.000000    1.352241e+09       6660   \n",
      "14       367    7.0       0.0  5.000000    1.354400e+09        945   \n",
      "15        16    0.0       0.0  0.000000    1.348447e+09         15   \n",
      "16       271  172.0      14.0  4.698925    1.348243e+09      84582   \n",
      "17        28    0.0       0.0  0.000000    1.306121e+09         19   \n",
      "18       500    4.0       0.0  5.000000    1.365549e+09        505   \n",
      "19       441    4.0       0.0  5.000000    1.215694e+09       3944   \n",
      "20       334    0.0       0.0  0.000000    1.361223e+09        207   \n",
      "21       465    NaN       NaN  0.000000    1.223580e+09         49   \n",
      "22       472    2.0       0.0  5.000000    1.328285e+09        212   \n",
      "23        20    1.0       0.0  5.000000    1.249432e+09        123   \n",
      "24        92    0.0       0.0  0.000000    1.357442e+09         90   \n",
      "25        10    1.0       0.0  5.000000    1.263758e+09         65   \n",
      "26       109    0.0       0.0  0.000000    1.289942e+09         94   \n",
      "27        11    1.0       0.0  5.000000    1.213883e+09        414   \n",
      "28       249    1.0       0.0  5.000000    1.304628e+09        451   \n",
      "29        31    1.0       0.0  5.000000    1.327446e+09        889   \n",
      "...      ...    ...       ...       ...             ...        ...   \n",
      "2699      23    0.0       0.0  0.000000    1.257983e+09         83   \n",
      "2700     467   12.0       3.0  4.200000    1.244910e+09       7836   \n",
      "2701      41    1.0       0.0  5.000000    1.319578e+09         71   \n",
      "2702     539   13.0       3.0  4.250000    1.224125e+09       9819   \n",
      "2703      71    0.0       0.0  0.000000    1.221417e+09        978   \n",
      "2704      44    2.0      14.0  1.500000    1.244402e+09      22178   \n",
      "2705      25    5.0       0.0  5.000000    1.288291e+09        507   \n",
      "2706       8    0.0       0.0  0.000000    1.293670e+09         56   \n",
      "2707      39   23.0       0.0  5.000000    1.257188e+09      10852   \n",
      "2708     374    6.0       0.0  5.000000    1.192847e+09       4803   \n",
      "2709      97   14.0       2.0  4.500000    1.245434e+09      12918   \n",
      "2710       8    0.0       0.0  0.000000    1.245997e+09        431   \n",
      "2711      99    3.0       1.0  4.000000    1.360431e+09        664   \n",
      "2712      43    7.0      11.0  2.555556    1.263636e+09      83137   \n",
      "2713     108   10.0      35.0  1.888889    1.288688e+09      58211   \n",
      "2714     173   63.0      23.0  3.930233    1.269571e+09      45433   \n",
      "2715     591    8.0       1.0  4.555555    1.257977e+09       5413   \n",
      "2716     202    0.0       1.0  1.000000    1.257815e+09        156   \n",
      "2717     545    0.0       0.0  0.000000    1.355079e+09         51   \n",
      "2718      68    0.0       0.0  0.000000    1.275031e+09         86   \n",
      "2719     137   94.0       4.0  4.836735    1.269893e+09      91147   \n",
      "2720     224    1.0       1.0  3.000000    1.197413e+09        462   \n",
      "2721      13    2.0       0.0  5.000000    1.250654e+09       1301   \n",
      "2722     287    1.0       0.0  5.000000    1.299077e+09        389   \n",
      "2723      76    4.0       0.0  5.000000    1.253053e+09       3700   \n",
      "2724     158   62.0       3.0  4.815384    1.375412e+09      24023   \n",
      "2725      15    2.0       1.0  3.666667    1.274067e+09       4041   \n",
      "2726      55    1.0       0.0  5.000000    1.250278e+09        842   \n",
      "2727     170    4.0       3.0  3.285714    1.183755e+09       4610   \n",
      "2729      61   38.0       1.0  4.897436    1.363904e+09      11073   \n",
      "\n",
      "      subscriberCount  time_since_published  \n",
      "0                   2          2.688895e+08  \n",
      "1                  33          3.168361e+08  \n",
      "2                   2          1.760353e+08  \n",
      "3                   5          3.464310e+08  \n",
      "4                   5          1.725254e+08  \n",
      "5                  22          3.145964e+08  \n",
      "6                1852          1.713536e+08  \n",
      "7                   7          3.454696e+08  \n",
      "8                   2          1.931120e+08  \n",
      "9                  32          1.724525e+08  \n",
      "10                364          1.889742e+08  \n",
      "11                 44          2.703850e+08  \n",
      "12                 60          1.924921e+08  \n",
      "13                318          1.893200e+08  \n",
      "14                  4          1.871609e+08  \n",
      "15                  2          1.931144e+08  \n",
      "16               3992          1.933181e+08  \n",
      "17                 40          2.354398e+08  \n",
      "18                145          1.760125e+08  \n",
      "19                 25          3.258673e+08  \n",
      "20                 23          1.803382e+08  \n",
      "21                  6          3.179807e+08  \n",
      "22                 11          2.132764e+08  \n",
      "23                  3          2.921293e+08  \n",
      "24                  1          1.841191e+08  \n",
      "25                  0          2.778032e+08  \n",
      "26                  0          2.516190e+08  \n",
      "27                  2          3.276777e+08  \n",
      "28                 63          2.369327e+08  \n",
      "29                  3          2.141152e+08  \n",
      "...               ...                   ...  \n",
      "2699               35          2.835779e+08  \n",
      "2700             3393          2.966515e+08  \n",
      "2701                4          2.219830e+08  \n",
      "2702             6835          3.174355e+08  \n",
      "2703                1          3.201435e+08  \n",
      "2704               13          2.971594e+08  \n",
      "2705                0          2.532697e+08  \n",
      "2706              176          2.478909e+08  \n",
      "2707           111850          2.843730e+08  \n",
      "2708             6835          3.487143e+08  \n",
      "2709              157          2.961268e+08  \n",
      "2710                2          2.955640e+08  \n",
      "2711               17          1.811303e+08  \n",
      "2712              818          2.779248e+08  \n",
      "2713               56          2.528734e+08  \n",
      "2714              100          2.719904e+08  \n",
      "2715            11990          2.835836e+08  \n",
      "2716              132          2.837461e+08  \n",
      "2717             4468          1.864819e+08  \n",
      "2718               28          2.665298e+08  \n",
      "2719            31582          2.716676e+08  \n",
      "2720                8          3.441478e+08  \n",
      "2721              148          2.909067e+08  \n",
      "2722              109          2.424842e+08  \n",
      "2723               96          2.885080e+08  \n",
      "2724            72106          1.661494e+08  \n",
      "2725              148          2.674936e+08  \n",
      "2726                3          2.912834e+08  \n",
      "2727               18          3.578056e+08  \n",
      "2729            10237          1.776574e+08  \n",
      "\n",
      "[2567 rows x 8 columns]\n"
     ]
    }
   ],
   "source": [
    "# Remving outliers\n",
    "qviews = df_all[\"viewcount\"].quantile(0.99)\n",
    "qlength = df_all[\"length\"].quantile(0.95)\n",
    "\n",
    "df_all_num_lf = df_all[df_all[\"viewcount\"] < qviews]\n",
    "# 2702 obs after filter\n",
    "# df_all_num_lf.describe()\n",
    "\n",
    "df_all_num_lf_lf = df_all_num_lf[df_all_num_lf[\"length\"] < qlength]\n",
    "# 2567 obs after filter\n",
    "# df_all_num_lf_lf.describe()\n",
    "\n",
    "# Selecting numeric columns\n",
    "columns = ['length','likes','dislikes','rating','date_published','viewcount','subscriberCount']\n",
    "df_all_num = pd.DataFrame(df_all_num_lf_lf, columns=columns)\n",
    "\n",
    "# Converting date published to epoch\n",
    "df_all_num['date_published'] = pd.to_datetime(df_all_num['date_published'])\n",
    "df_all_num['date_published'] = (df_all_num['date_published'] - dt.datetime(1970,1,1)).dt.total_seconds()\n",
    "\n",
    "# Add time since published column\n",
    "df_all_num['time_since_published'] = current_time - df_all_num['date_published']\n",
    "\n",
    "print(df_all_num)"
   ]
  },
  {
   "cell_type": "code",
   "execution_count": 186,
   "metadata": {},
   "outputs": [
    {
     "name": "stdout",
     "output_type": "stream",
     "text": [
      "646.6092996400587\n",
      "3805.935216941795\n"
     ]
    }
   ],
   "source": [
    "viewlike_ratio = np.mean((df_all_num['viewcount']+1) / (df_all_num['likes']+1))\n",
    "viewdislike_ratio = np.mean((df_all_num['viewcount']+1) / (df_all_num['dislikes']+1))\n",
    "print(viewlike_ratio)\n",
    "print(viewdislike_ratio)"
   ]
  },
  {
   "cell_type": "code",
   "execution_count": 84,
   "metadata": {},
   "outputs": [
    {
     "name": "stdout",
     "output_type": "stream",
     "text": [
      "length                   0\n",
      "likes                   34\n",
      "dislikes                34\n",
      "rating                   0\n",
      "date_published           0\n",
      "viewcount                0\n",
      "subscriberCount          0\n",
      "time_since_published     0\n",
      "dtype: int64\n"
     ]
    }
   ],
   "source": [
    "# Number of nan\n",
    "num_na = df_all_num.isna().sum()\n",
    "print(num_na)\n",
    "\n",
    "df_all_num = df_all_num.fillna(0)"
   ]
  },
  {
   "cell_type": "code",
   "execution_count": 85,
   "metadata": {},
   "outputs": [
    {
     "name": "stderr",
     "output_type": "stream",
     "text": [
      "/usr/local/lib/python3.5/dist-packages/scipy/stats/stats.py:1713: FutureWarning: Using a non-tuple sequence for multidimensional indexing is deprecated; use `arr[tuple(seq)]` instead of `arr[seq]`. In the future this will be interpreted as an array index, `arr[np.array(seq)]`, which will result either in an error or a different result.\n",
      "  return np.add.reduce(sorted[indexer] * weights, axis=axis) / sumval\n"
     ]
    },
    {
     "data": {
      "text/plain": [
       "Text(0.5,1,'Length Distribution')"
      ]
     },
     "execution_count": 85,
     "metadata": {},
     "output_type": "execute_result"
    },
    {
     "data": {
      "image/png": "[encoded data removed]",
      "text/plain": [
       "<Figure size 432x288 with 1 Axes>"
      ]
     },
     "metadata": {},
     "output_type": "display_data"
    }
   ],
   "source": [
    "import seaborn as sns\n",
    "\n",
    "sns.distplot(df_all_num.loc[:,'length'])\n",
    "plt.title('Length Distribution')"
   ]
  },
  {
   "cell_type": "code",
   "execution_count": 86,
   "metadata": {},
   "outputs": [
    {
     "name": "stderr",
     "output_type": "stream",
     "text": [
      "/usr/local/lib/python3.5/dist-packages/scipy/stats/stats.py:1713: FutureWarning: Using a non-tuple sequence for multidimensional indexing is deprecated; use `arr[tuple(seq)]` instead of `arr[seq]`. In the future this will be interpreted as an array index, `arr[np.array(seq)]`, which will result either in an error or a different result.\n",
      "  return np.add.reduce(sorted[indexer] * weights, axis=axis) / sumval\n"
     ]
    },
    {
     "data": {
      "text/plain": [
       "Text(0.5,1,'Likes Distribution')"
      ]
     },
     "execution_count": 86,
     "metadata": {},
     "output_type": "execute_result"
    },
    {
     "data": {
      "image/png": "[encoded data removed]",
      "text/plain": [
       "<Figure size 432x288 with 1 Axes>"
      ]
     },
     "metadata": {},
     "output_type": "display_data"
    }
   ],
   "source": [
    "sns.distplot(df_all_num.loc[:,'likes'])\n",
    "plt.title('Likes Distribution')"
   ]
  },
  {
   "cell_type": "code",
   "execution_count": 87,
   "metadata": {},
   "outputs": [
    {
     "name": "stderr",
     "output_type": "stream",
     "text": [
      "/usr/local/lib/python3.5/dist-packages/scipy/stats/stats.py:1713: FutureWarning: Using a non-tuple sequence for multidimensional indexing is deprecated; use `arr[tuple(seq)]` instead of `arr[seq]`. In the future this will be interpreted as an array index, `arr[np.array(seq)]`, which will result either in an error or a different result.\n",
      "  return np.add.reduce(sorted[indexer] * weights, axis=axis) / sumval\n"
     ]
    },
    {
     "data": {
      "text/plain": [
       "Text(0.5,1,'Dislikes Distribution')"
      ]
     },
     "execution_count": 87,
     "metadata": {},
     "output_type": "execute_result"
    },
    {
     "data": {
      "image/png": "[encoded data removed]",
      "text/plain": [
       "<Figure size 432x288 with 1 Axes>"
      ]
     },
     "metadata": {},
     "output_type": "display_data"
    }
   ],
   "source": [
    "sns.distplot(df_all_num.loc[:,'dislikes'])\n",
    "plt.title('Dislikes Distribution')"
   ]
  },
  {
   "cell_type": "code",
   "execution_count": 88,
   "metadata": {},
   "outputs": [
    {
     "name": "stderr",
     "output_type": "stream",
     "text": [
      "/usr/local/lib/python3.5/dist-packages/scipy/stats/stats.py:1713: FutureWarning: Using a non-tuple sequence for multidimensional indexing is deprecated; use `arr[tuple(seq)]` instead of `arr[seq]`. In the future this will be interpreted as an array index, `arr[np.array(seq)]`, which will result either in an error or a different result.\n",
      "  return np.add.reduce(sorted[indexer] * weights, axis=axis) / sumval\n"
     ]
    },
    {
     "data": {
      "text/plain": [
       "Text(0.5,1,'Rating Distribution')"
      ]
     },
     "execution_count": 88,
     "metadata": {},
     "output_type": "execute_result"
    },
    {
     "data": {
      "image/png": "[encoded data removed]",
      "text/plain": [
       "<Figure size 432x288 with 1 Axes>"
      ]
     },
     "metadata": {},
     "output_type": "display_data"
    }
   ],
   "source": [
    "sns.distplot(df_all_num.loc[:,'rating'])\n",
    "plt.title('Rating Distribution')"
   ]
  },
  {
   "cell_type": "code",
   "execution_count": 89,
   "metadata": {},
   "outputs": [
    {
     "name": "stderr",
     "output_type": "stream",
     "text": [
      "/usr/local/lib/python3.5/dist-packages/scipy/stats/stats.py:1713: FutureWarning: Using a non-tuple sequence for multidimensional indexing is deprecated; use `arr[tuple(seq)]` instead of `arr[seq]`. In the future this will be interpreted as an array index, `arr[np.array(seq)]`, which will result either in an error or a different result.\n",
      "  return np.add.reduce(sorted[indexer] * weights, axis=axis) / sumval\n"
     ]
    },
    {
     "data": {
      "text/plain": [
       "Text(0.5,1,'Date Published Distribution')"
      ]
     },
     "execution_count": 89,
     "metadata": {},
     "output_type": "execute_result"
    },
    {
     "data": {
      "image/png": "[encoded data removed]",
      "text/plain": [
       "<Figure size 432x288 with 1 Axes>"
      ]
     },
     "metadata": {},
     "output_type": "display_data"
    }
   ],
   "source": [
    "sns.distplot(df_all_num.loc[:,'date_published'])\n",
    "plt.title('Date Published Distribution')"
   ]
  },
  {
   "cell_type": "code",
   "execution_count": 151,
   "metadata": {},
   "outputs": [
    {
     "name": "stderr",
     "output_type": "stream",
     "text": [
      "/usr/local/lib/python3.5/dist-packages/scipy/stats/stats.py:1713: FutureWarning: Using a non-tuple sequence for multidimensional indexing is deprecated; use `arr[tuple(seq)]` instead of `arr[seq]`. In the future this will be interpreted as an array index, `arr[np.array(seq)]`, which will result either in an error or a different result.\n",
      "  return np.add.reduce(sorted[indexer] * weights, axis=axis) / sumval\n"
     ]
    },
    {
     "data": {
      "text/plain": [
       "(0, 200000)"
      ]
     },
     "execution_count": 151,
     "metadata": {},
     "output_type": "execute_result"
    },
    {
     "data": {
      "image/png": "[encoded data removed]",
      "text/plain": [
       "<Figure size 432x288 with 1 Axes>"
      ]
     },
     "metadata": {},
     "output_type": "display_data"
    }
   ],
   "source": [
    "sns.distplot(df_all_num.loc[:,'viewcount'])\n",
    "plt.title('Viewcount Distribution')\n",
    "# Goes up to 200,000\n",
    "plt.xlim(0, 200000)"
   ]
  },
  {
   "cell_type": "code",
   "execution_count": 32,
   "metadata": {},
   "outputs": [],
   "source": [
    "from vaderSentiment.vaderSentiment import SentimentIntensityAnalyzer"
   ]
  },
  {
   "cell_type": "code",
   "execution_count": 92,
   "metadata": {},
   "outputs": [],
   "source": [
    "def analyze_sentiment(df):\n",
    "    sentiments = []\n",
    "    sid = SentimentIntensityAnalyzer()\n",
    "    for i in range(df.shape[0]):\n",
    "        line = df.iloc[i,0]\n",
    "        sentiment = sid.polarity_scores(line)\n",
    "        sentiments.append([sentiment['neg'], sentiment['pos'],\n",
    "                           sentiment['neu'], sentiment['compound']])\n",
    "    df[['neg', 'pos', 'neu', 'compound']] = pd.DataFrame(sentiments)\n",
    "    df['Negative'] = df['compound'] < -0.1\n",
    "    df['Positive'] = df['compound'] > 0.1\n",
    "    return df"
   ]
  },
  {
   "cell_type": "code",
   "execution_count": 213,
   "metadata": {},
   "outputs": [],
   "source": [
    "translator = Translator()\n",
    "\n",
    "# col_title = ['title']\n",
    "# title = pd.DataFrame(df_all_num_lf_lf, columns=col_title).astype(str)\n",
    "# translations = translator.translate(title.loc[2,'title'])\n",
    "# print(title_english)\n",
    "# print(title)"
   ]
  },
  {
   "cell_type": "code",
   "execution_count": 93,
   "metadata": {},
   "outputs": [
    {
     "name": "stdout",
     "output_type": "stream",
     "text": [
      "                                      title_title  neg_title  pos_title  \\\n",
      "0        Biosite Flag Football Super Bowl 2010 V2      0.000      0.394   \n",
      "1     East Orange Rams Flag football \"boobie doo\"      0.000      0.000   \n",
      "2  Jugada de Cross Pase tochito Morgan vs Chotes.      0.000      0.000   \n",
      "3        Flag Football Block - Hit Las Vegas 2007      0.326      0.000   \n",
      "4               Jaxson's Flag Football Highlights      0.000      0.000   \n",
      "\n",
      "   neu_title  compound_title  Negative_title  Positive_title  \n",
      "0      0.606          0.5994           False            True  \n",
      "1      1.000          0.0000           False           False  \n",
      "2      1.000          0.0000           False           False  \n",
      "3      0.674         -0.4404            True           False  \n",
      "4      1.000          0.0000           False           False  \n",
      "                             description_description  neg_description  \\\n",
      "0  Biosite Football League... White Shadows 2010 ...            0.000   \n",
      "1  My son Playing his 2nd year at flag but first ...            0.000   \n",
      "2  Asi se ve cuando se graba con lentes con camar...            0.000   \n",
      "3  Flag Football game WYNN vs. BBWC in Las Vegas,...            0.056   \n",
      "4  Jaxson is 8 years old, this was his first seas...            0.000   \n",
      "\n",
      "   pos_description  neu_description  compound_description  \\\n",
      "0            0.279            0.721                0.4753   \n",
      "1            0.091            0.909                0.1027   \n",
      "2            0.000            1.000                0.0000   \n",
      "3            0.088            0.856                0.0387   \n",
      "4            0.228            0.772                0.9579   \n",
      "\n",
      "   Negative_description  Positive_description  \n",
      "0                 False                  True  \n",
      "1                 False                  True  \n",
      "2                 False                 False  \n",
      "3                 False                 False  \n",
      "4                 False                  True  \n"
     ]
    }
   ],
   "source": [
    "# Analyze sentiment in title\n",
    "col_title = ['title']\n",
    "title = pd.DataFrame(df_all_num_lf_lf, columns=col_title).astype(str)\n",
    "title_sent = analyze_sentiment(title)\n",
    "title_sent = title_sent.add_suffix('_title')\n",
    "print(title_sent.head())\n",
    "\n",
    "# Analyze sentiment in description\n",
    "col_description = ['description']\n",
    "description = pd.DataFrame(df_all_num_lf_lf, columns=col_description).astype(str)\n",
    "description_sent = analyze_sentiment(description)\n",
    "description_sent = description_sent.add_suffix('_description')\n",
    "print(description_sent.head())\n",
    "\n",
    "# # Analyze sentiment in keywords\n",
    "# col_keywords = ['keywords']\n",
    "# keywords = pd.DataFrame(df_all, columns=col_keywords)\n",
    "# keywords_sent = analyze_sentiment(keywords)\n",
    "# print(keywords_sent.head())"
   ]
  },
  {
   "cell_type": "code",
   "execution_count": 94,
   "metadata": {},
   "outputs": [
    {
     "name": "stdout",
     "output_type": "stream",
     "text": [
      "   compound_title\n",
      "0          0.5994\n",
      "1          0.0000\n",
      "2          0.0000\n",
      "3         -0.4404\n",
      "4          0.0000\n",
      "2567\n",
      "   compound_description\n",
      "0                0.4753\n",
      "1                0.1027\n",
      "2                0.0000\n",
      "3                0.0387\n",
      "4                0.9579\n",
      "2567\n",
      "   compound_title  compound_description\n",
      "0          0.5994                0.4753\n",
      "1          0.0000                0.1027\n",
      "2          0.0000                0.0000\n",
      "3         -0.4404                0.0387\n",
      "4          0.0000                0.9579\n"
     ]
    }
   ],
   "source": [
    "# Selecting columns that we plan to use from sentiment\n",
    "cols_sent_title = ['compound_title']\n",
    "title_1 = pd.DataFrame(title_sent, columns=cols_sent_title)\n",
    "print(title_1.head())\n",
    "print(len(title_1))\n",
    "\n",
    "cols_sent_description = ['compound_description']\n",
    "description_1 = pd.DataFrame(description_sent, columns=cols_sent_description)\n",
    "print(description_1.head())\n",
    "print(len(description_1))\n",
    "\n",
    "df_all_sent = pd.concat([title_1, description_1], axis = 1)\n",
    "print(df_all_sent.head())"
   ]
  },
  {
   "cell_type": "code",
   "execution_count": 141,
   "metadata": {},
   "outputs": [
    {
     "name": "stdout",
     "output_type": "stream",
     "text": [
      "   length  likes  dislikes  rating  date_published  viewcount  \\\n",
      "0     543    0.0       0.0     0.0    1.272672e+09        150   \n",
      "1      24    6.0       0.0     5.0    1.224725e+09       3745   \n",
      "2      52    1.0       0.0     5.0    1.365526e+09        262   \n",
      "3      26    3.0       1.0     4.0    1.195130e+09       5148   \n",
      "4     415    1.0       0.0     5.0    1.369036e+09         34   \n",
      "\n",
      "   subscriberCount  time_since_published  compound_title  compound_description  \n",
      "0                2          2.688895e+08          0.5994                0.4753  \n",
      "1               33          3.168361e+08          0.0000                0.1027  \n",
      "2                2          1.760353e+08          0.0000                0.0000  \n",
      "3                5          3.464310e+08         -0.4404                0.0387  \n",
      "4                5          1.725254e+08          0.0000                0.9579  \n",
      "            length        likes     dislikes       rating  date_published  \\\n",
      "count  2567.000000  2567.000000  2567.000000  2567.000000    2.567000e+03   \n",
      "mean    243.746007    15.912739     1.231788     3.378046    1.283965e+09   \n",
      "std     193.761416    38.295038     5.360834     2.158307    5.574054e+07   \n",
      "min       2.000000     0.000000     0.000000     0.000000    1.138162e+09   \n",
      "25%      54.000000     0.000000     0.000000     0.000000    1.241615e+09   \n",
      "50%     222.000000     3.000000     0.000000     4.789474    1.279905e+09   \n",
      "75%     385.500000    14.000000     1.000000     5.000000    1.337202e+09   \n",
      "max     783.000000   721.000000   159.000000     5.000000    1.376483e+09   \n",
      "\n",
      "           viewcount  subscriberCount  time_since_published  compound_title  \\\n",
      "count    2567.000000     2.567000e+03          2.567000e+03     2413.000000   \n",
      "mean     9722.958317     1.825612e+04          2.575959e+08        0.050637   \n",
      "std     22435.228770     8.703382e+04          5.574054e+07        0.198388   \n",
      "min         1.000000     0.000000e+00          1.650775e+08       -0.851900   \n",
      "25%       261.500000     1.400000e+01          2.043588e+08        0.000000   \n",
      "50%      1518.000000     5.370000e+02          2.616560e+08        0.000000   \n",
      "75%      7942.000000     9.015000e+03          2.999464e+08        0.000000   \n",
      "max    208974.000000     3.432609e+06          4.033993e+08        0.822500   \n",
      "\n",
      "       compound_description  \n",
      "count           2413.000000  \n",
      "mean               0.241391  \n",
      "std                0.390073  \n",
      "min               -0.995200  \n",
      "25%                0.000000  \n",
      "50%                0.000000  \n",
      "75%                0.623900  \n",
      "max                0.993900  \n"
     ]
    }
   ],
   "source": [
    "# Adding numeric features and sentiment values\n",
    "df_all_num_sent = pd.concat([df_all_num, df_all_sent], axis = 1)\n",
    "print(df_all_num_sent.head())\n",
    "print(df_all_num_sent.describe())"
   ]
  },
  {
   "cell_type": "code",
   "execution_count": 142,
   "metadata": {},
   "outputs": [
    {
     "name": "stdout",
     "output_type": "stream",
     "text": [
      "length                    0\n",
      "likes                     0\n",
      "dislikes                  0\n",
      "rating                    0\n",
      "date_published            0\n",
      "viewcount                 0\n",
      "subscriberCount           0\n",
      "time_since_published      0\n",
      "compound_title          154\n",
      "compound_description    154\n",
      "dtype: int64\n",
      "length                  0\n",
      "likes                   0\n",
      "dislikes                0\n",
      "rating                  0\n",
      "date_published          0\n",
      "viewcount               0\n",
      "subscriberCount         0\n",
      "time_since_published    0\n",
      "compound_title          0\n",
      "compound_description    0\n",
      "dtype: int64\n"
     ]
    }
   ],
   "source": [
    "# Number of nan\n",
    "num_na_final = df_all_num_sent.isna().sum()\n",
    "print(num_na_final)\n",
    "\n",
    "df_all_num_sent = df_all_num_sent.fillna(0)\n",
    "num_na_final = df_all_num_sent.isna().sum()\n",
    "print(num_na_final)"
   ]
  },
  {
   "cell_type": "code",
   "execution_count": 143,
   "metadata": {},
   "outputs": [
    {
     "name": "stdout",
     "output_type": "stream",
     "text": [
      "            length        likes     dislikes       rating  date_published  \\\n",
      "count  2567.000000  2567.000000  2567.000000  2567.000000     2567.000000   \n",
      "mean      2.148049     0.693697     0.169110     0.543379        9.108142   \n",
      "std       0.555911     0.645081     0.298158     0.337389        0.018936   \n",
      "min       0.477121     0.000000     0.000000     0.000000        9.056204   \n",
      "25%       1.740363     0.000000     0.000000     0.000000        9.093987   \n",
      "50%       2.348305     0.602060     0.000000     0.762639        9.107178   \n",
      "75%       2.587149     1.176091     0.301030     0.778151        9.126197   \n",
      "max       2.894316     2.858537     2.204120     0.778151        9.138771   \n",
      "\n",
      "         viewcount  subscriberCount  time_since_published  compound_title  \\\n",
      "count  2567.000000      2567.000000           2567.000000     2567.000000   \n",
      "mean      3.157493         2.603452              8.400468        0.012802   \n",
      "std       0.960704         1.577991              0.096284        0.082585   \n",
      "min       0.301030         0.000000              8.217688       -0.829445   \n",
      "25%       2.419129         1.176091              8.310393        0.000000   \n",
      "50%       3.181558         2.730782              8.417731        0.000000   \n",
      "75%       3.899984         3.955014              8.477044        0.000000   \n",
      "max       5.320094         6.535624              8.605735        0.260668   \n",
      "\n",
      "       compound_description  \n",
      "count           2567.000000  \n",
      "mean               0.065786  \n",
      "std                0.152037  \n",
      "min               -2.318759  \n",
      "25%                0.000000  \n",
      "50%                0.000000  \n",
      "75%                0.203957  \n",
      "max                0.299703  \n"
     ]
    }
   ],
   "source": [
    "# Log transform\n",
    "df_all_num_sent_log = np.log10(df_all_num_sent+1)\n",
    "print(df_all_num_sent_log.describe())"
   ]
  },
  {
   "cell_type": "code",
   "execution_count": 144,
   "metadata": {},
   "outputs": [
    {
     "name": "stdout",
     "output_type": "stream",
     "text": [
      "            length        likes     dislikes       rating  date_published  \\\n",
      "count  2567.000000  2567.000000  2567.000000  2567.000000    2.567000e+03   \n",
      "mean    243.746007    15.912739     1.231788     3.378046    1.283965e+09   \n",
      "std     193.761416    38.295038     5.360834     2.158307    5.574054e+07   \n",
      "min       2.000000     0.000000     0.000000     0.000000    1.138162e+09   \n",
      "25%      54.000000     0.000000     0.000000     0.000000    1.241615e+09   \n",
      "50%     222.000000     3.000000     0.000000     4.789474    1.279905e+09   \n",
      "75%     385.500000    14.000000     1.000000     5.000000    1.337202e+09   \n",
      "max     783.000000   721.000000   159.000000     5.000000    1.376483e+09   \n",
      "\n",
      "           viewcount  subscriberCount  time_since_published  compound_title  \\\n",
      "count    2567.000000     2.567000e+03          2.567000e+03     2567.000000   \n",
      "mean     9722.958317     1.825612e+04          2.575959e+08        0.047599   \n",
      "std     22435.228770     8.703382e+04          5.574054e+07        0.192718   \n",
      "min         1.000000     0.000000e+00          1.650775e+08       -0.851900   \n",
      "25%       261.500000     1.400000e+01          2.043588e+08        0.000000   \n",
      "50%      1518.000000     5.370000e+02          2.616560e+08        0.000000   \n",
      "75%      7942.000000     9.015000e+03          2.999464e+08        0.000000   \n",
      "max    208974.000000     3.432609e+06          4.033993e+08        0.822500   \n",
      "\n",
      "       compound_description  \n",
      "count           2567.000000  \n",
      "mean               0.226910  \n",
      "std                0.382508  \n",
      "min               -0.995200  \n",
      "25%                0.000000  \n",
      "50%                0.000000  \n",
      "75%                0.599400  \n",
      "max                0.993900  \n"
     ]
    }
   ],
   "source": [
    "# Checking that transform to original data is correct\n",
    "woop = (10 ** df_all_num_sent_log) - 1\n",
    "print(woop.describe())"
   ]
  },
  {
   "cell_type": "code",
   "execution_count": 153,
   "metadata": {},
   "outputs": [],
   "source": [
    "features = df_all_num_sent_log\n",
    "\n",
    "# Labels are the values we want to predict\n",
    "labels = np.array(features['viewcount'])\n",
    "# Remove the labels from the features\n",
    "# axis 1 refers to the columns\n",
    "features= features.drop('viewcount', axis = 1)\n",
    "# Saving feature names for later use\n",
    "feature_list = list(features.columns)\n",
    "# Convert to numpy array\n",
    "features = np.array(features)"
   ]
  },
  {
   "cell_type": "code",
   "execution_count": 154,
   "metadata": {},
   "outputs": [],
   "source": [
    "# Using Skicit-learn to split data into training and testing sets\n",
    "from sklearn.model_selection import train_test_split\n",
    "# Split the data into training and testing sets\n",
    "train_features, test_features, train_labels, test_labels = train_test_split(features, labels, test_size = 0.25, random_state = 42)"
   ]
  },
  {
   "cell_type": "code",
   "execution_count": 217,
   "metadata": {},
   "outputs": [],
   "source": [
    "test = pd.concat([pd.DataFrame(test_features), pd.DataFrame(test_labels)] , axis = 1)\n",
    "test.columns = ['length', \n",
    "                'likes', \n",
    "                'dislikes', \n",
    "                'rating', \n",
    "                'date_published', \n",
    "                'subscriberCount', \n",
    "                'time_since_published', \n",
    "                'compound_title', \n",
    "                'compound_description', \n",
    "                'viewcount']"
   ]
  },
  {
   "cell_type": "code",
   "execution_count": 231,
   "metadata": {},
   "outputs": [],
   "source": [
    "test_0_5000 = test[test['viewcount'] < 3.699]\n",
    "test_0_5000_l = test_0_5000['viewcount']\n",
    "test_0_5000_f = test_0_5000.drop(['viewcount'], axis =1)\n",
    "\n",
    "test_0_1000 = test[test['viewcount'] < 3]\n",
    "test_0_1000_l = test_0_1000['viewcount']\n",
    "test_0_1000_f = test_0_1000.drop(['viewcount'], axis =1)"
   ]
  },
  {
   "cell_type": "code",
   "execution_count": 155,
   "metadata": {},
   "outputs": [],
   "source": [
    "# Import the model we are using\n",
    "from sklearn.ensemble import RandomForestRegressor\n",
    "# Instantiate model with 300 decision trees\n",
    "rf = RandomForestRegressor(n_estimators=300, random_state = 42)"
   ]
  },
  {
   "cell_type": "code",
   "execution_count": 152,
   "metadata": {},
   "outputs": [
    {
     "name": "stdout",
     "output_type": "stream",
     "text": [
      "Fitting 5 folds for each of 100 candidates, totalling 500 fits\n",
      "[CV] bootstrap=True, n_estimators=400, min_samples_split=5, max_depth=30, max_features=sqrt, min_samples_leaf=1 \n",
      "[CV] bootstrap=True, n_estimators=400, min_samples_split=5, max_depth=30, max_features=sqrt, min_samples_leaf=1 \n",
      "[CV] bootstrap=True, n_estimators=400, min_samples_split=5, max_depth=30, max_features=sqrt, min_samples_leaf=1 \n",
      "[CV] bootstrap=True, n_estimators=400, min_samples_split=5, max_depth=30, max_features=sqrt, min_samples_leaf=1 \n",
      "[CV] bootstrap=True, n_estimators=400, min_samples_split=5, max_depth=30, max_features=sqrt, min_samples_leaf=1 \n",
      "[CV] bootstrap=True, n_estimators=2000, min_samples_split=5, max_depth=10, max_features=sqrt, min_samples_leaf=1 \n",
      "[CV] bootstrap=True, n_estimators=2000, min_samples_split=5, max_depth=10, max_features=sqrt, min_samples_leaf=1 \n",
      "[CV] bootstrap=True, n_estimators=2000, min_samples_split=5, max_depth=10, max_features=sqrt, min_samples_leaf=1 \n",
      "[CV] bootstrap=True, n_estimators=2000, min_samples_split=5, max_depth=10, max_features=sqrt, min_samples_leaf=1 \n",
      "[CV] bootstrap=True, n_estimators=2000, min_samples_split=5, max_depth=10, max_features=sqrt, min_samples_leaf=1 \n",
      "[CV] bootstrap=False, n_estimators=1200, min_samples_split=5, max_depth=10, max_features=sqrt, min_samples_leaf=2 \n",
      "[CV] bootstrap=False, n_estimators=1200, min_samples_split=5, max_depth=10, max_features=sqrt, min_samples_leaf=2 \n",
      "[CV] bootstrap=False, n_estimators=1200, min_samples_split=5, max_depth=10, max_features=sqrt, min_samples_leaf=2 \n",
      "[CV] bootstrap=False, n_estimators=1200, min_samples_split=5, max_depth=10, max_features=sqrt, min_samples_leaf=2 \n",
      "[CV] bootstrap=False, n_estimators=2000, min_samples_split=2, max_depth=30, max_features=auto, min_samples_leaf=4 \n",
      "[CV] bootstrap=False, n_estimators=1200, min_samples_split=5, max_depth=10, max_features=sqrt, min_samples_leaf=2 \n",
      "[CV] bootstrap=False, n_estimators=2000, min_samples_split=2, max_depth=30, max_features=auto, min_samples_leaf=4 \n",
      "[CV] bootstrap=False, n_estimators=2000, min_samples_split=2, max_depth=30, max_features=auto, min_samples_leaf=4 \n",
      "[CV] bootstrap=False, n_estimators=2000, min_samples_split=2, max_depth=30, max_features=auto, min_samples_leaf=4 \n",
      "[CV] bootstrap=False, n_estimators=2000, min_samples_split=2, max_depth=30, max_features=auto, min_samples_leaf=4 \n",
      "[CV] bootstrap=True, n_estimators=1600, min_samples_split=2, max_depth=10, max_features=sqrt, min_samples_leaf=4 \n",
      "[CV] bootstrap=True, n_estimators=1600, min_samples_split=2, max_depth=10, max_features=sqrt, min_samples_leaf=4 \n",
      "[CV] bootstrap=True, n_estimators=1600, min_samples_split=2, max_depth=10, max_features=sqrt, min_samples_leaf=4 \n",
      "[CV] bootstrap=True, n_estimators=1600, min_samples_split=2, max_depth=10, max_features=sqrt, min_samples_leaf=4 \n",
      "[CV]  bootstrap=True, n_estimators=400, min_samples_split=5, max_depth=30, max_features=sqrt, min_samples_leaf=1, total=   2.3s\n",
      "[CV] bootstrap=True, n_estimators=1600, min_samples_split=2, max_depth=10, max_features=sqrt, min_samples_leaf=4 \n",
      "[CV]  bootstrap=True, n_estimators=400, min_samples_split=5, max_depth=30, max_features=sqrt, min_samples_leaf=1, total=   2.3s\n",
      "[CV] bootstrap=False, n_estimators=800, min_samples_split=5, max_depth=30, max_features=sqrt, min_samples_leaf=4 \n",
      "[CV]  bootstrap=True, n_estimators=400, min_samples_split=5, max_depth=30, max_features=sqrt, min_samples_leaf=1, total=   2.5s\n",
      "[CV] bootstrap=False, n_estimators=800, min_samples_split=5, max_depth=30, max_features=sqrt, min_samples_leaf=4 \n",
      "[CV]  bootstrap=True, n_estimators=400, min_samples_split=5, max_depth=30, max_features=sqrt, min_samples_leaf=1, total=   2.6s\n",
      "[CV] bootstrap=False, n_estimators=800, min_samples_split=5, max_depth=30, max_features=sqrt, min_samples_leaf=4 \n",
      "[CV]  bootstrap=True, n_estimators=400, min_samples_split=5, max_depth=30, max_features=sqrt, min_samples_leaf=1, total=   2.9s\n",
      "[CV] bootstrap=False, n_estimators=800, min_samples_split=5, max_depth=30, max_features=sqrt, min_samples_leaf=4 \n",
      "[CV]  bootstrap=True, n_estimators=1600, min_samples_split=2, max_depth=10, max_features=sqrt, min_samples_leaf=4, total=   8.0s\n",
      "[CV] bootstrap=False, n_estimators=800, min_samples_split=5, max_depth=30, max_features=sqrt, min_samples_leaf=4 \n",
      "[CV]  bootstrap=False, n_estimators=1200, min_samples_split=5, max_depth=10, max_features=sqrt, min_samples_leaf=2, total=   8.7s\n",
      "[CV] bootstrap=False, n_estimators=1000, min_samples_split=5, max_depth=100, max_features=sqrt, min_samples_leaf=2 \n",
      "[CV]  bootstrap=False, n_estimators=800, min_samples_split=5, max_depth=30, max_features=sqrt, min_samples_leaf=4, total=   6.2s\n",
      "[CV] bootstrap=False, n_estimators=1000, min_samples_split=5, max_depth=100, max_features=sqrt, min_samples_leaf=2 \n",
      "[CV]  bootstrap=False, n_estimators=1200, min_samples_split=5, max_depth=10, max_features=sqrt, min_samples_leaf=2, total=   9.0s\n",
      "[CV]  bootstrap=True, n_estimators=1600, min_samples_split=2, max_depth=10, max_features=sqrt, min_samples_leaf=4, total=   8.8s\n",
      "[CV] bootstrap=False, n_estimators=1000, min_samples_split=5, max_depth=100, max_features=sqrt, min_samples_leaf=2 \n",
      "[CV] bootstrap=False, n_estimators=1000, min_samples_split=5, max_depth=100, max_features=sqrt, min_samples_leaf=2 \n",
      "[CV]  bootstrap=True, n_estimators=1600, min_samples_split=2, max_depth=10, max_features=sqrt, min_samples_leaf=4, total=   8.9s\n",
      "[CV] bootstrap=False, n_estimators=1000, min_samples_split=5, max_depth=100, max_features=sqrt, min_samples_leaf=2 \n",
      "[CV]  bootstrap=False, n_estimators=1200, min_samples_split=5, max_depth=10, max_features=sqrt, min_samples_leaf=2, total=   9.2s\n",
      "[CV] bootstrap=False, n_estimators=600, min_samples_split=5, max_depth=60, max_features=sqrt, min_samples_leaf=1 \n",
      "[CV]  bootstrap=False, n_estimators=800, min_samples_split=5, max_depth=30, max_features=sqrt, min_samples_leaf=4, total=   6.9s\n",
      "[CV] bootstrap=False, n_estimators=600, min_samples_split=5, max_depth=60, max_features=sqrt, min_samples_leaf=1 \n",
      "[CV]  bootstrap=False, n_estimators=800, min_samples_split=5, max_depth=30, max_features=sqrt, min_samples_leaf=4, total=   6.8s\n",
      "[CV] bootstrap=False, n_estimators=600, min_samples_split=5, max_depth=60, max_features=sqrt, min_samples_leaf=1 \n",
      "[CV]  bootstrap=True, n_estimators=1600, min_samples_split=2, max_depth=10, max_features=sqrt, min_samples_leaf=4, total=  10.0s\n",
      "[CV] bootstrap=False, n_estimators=600, min_samples_split=5, max_depth=60, max_features=sqrt, min_samples_leaf=1 \n",
      "[CV]  bootstrap=False, n_estimators=1200, min_samples_split=5, max_depth=10, max_features=sqrt, min_samples_leaf=2, total=  10.5s\n",
      "[CV] bootstrap=False, n_estimators=600, min_samples_split=5, max_depth=60, max_features=sqrt, min_samples_leaf=1 \n",
      "[CV]  bootstrap=False, n_estimators=1200, min_samples_split=5, max_depth=10, max_features=sqrt, min_samples_leaf=2, total=  10.7s\n",
      "[CV] bootstrap=False, n_estimators=1000, min_samples_split=2, max_depth=50, max_features=auto, min_samples_leaf=1 \n",
      "[CV]  bootstrap=False, n_estimators=800, min_samples_split=5, max_depth=30, max_features=sqrt, min_samples_leaf=4, total=   8.4s\n",
      "[CV] bootstrap=False, n_estimators=1000, min_samples_split=2, max_depth=50, max_features=auto, min_samples_leaf=1 \n",
      "[CV]  bootstrap=True, n_estimators=2000, min_samples_split=5, max_depth=10, max_features=sqrt, min_samples_leaf=1, total=  11.8s\n",
      "[CV] bootstrap=False, n_estimators=1000, min_samples_split=2, max_depth=50, max_features=auto, min_samples_leaf=1 \n",
      "[CV]  bootstrap=True, n_estimators=2000, min_samples_split=5, max_depth=10, max_features=sqrt, min_samples_leaf=1, total=  11.9s\n",
      "[CV] bootstrap=False, n_estimators=1000, min_samples_split=2, max_depth=50, max_features=auto, min_samples_leaf=1 \n",
      "[CV]  bootstrap=True, n_estimators=1600, min_samples_split=2, max_depth=10, max_features=sqrt, min_samples_leaf=4, total=   9.6s\n",
      "[CV] bootstrap=False, n_estimators=1000, min_samples_split=2, max_depth=50, max_features=auto, min_samples_leaf=1 \n",
      "[CV]  bootstrap=True, n_estimators=2000, min_samples_split=5, max_depth=10, max_features=sqrt, min_samples_leaf=1, total=  12.6s\n",
      "[CV] bootstrap=False, n_estimators=1800, min_samples_split=5, max_depth=10, max_features=auto, min_samples_leaf=4 \n",
      "[CV]  bootstrap=True, n_estimators=2000, min_samples_split=5, max_depth=10, max_features=sqrt, min_samples_leaf=1, total=  13.7s\n"
     ]
    },
    {
     "name": "stdout",
     "output_type": "stream",
     "text": [
      "[CV]  bootstrap=False, n_estimators=800, min_samples_split=5, max_depth=30, max_features=sqrt, min_samples_leaf=4, total=   5.4s\n",
      "[CV] bootstrap=False, n_estimators=1800, min_samples_split=5, max_depth=10, max_features=auto, min_samples_leaf=4 \n",
      "[CV] bootstrap=False, n_estimators=1800, min_samples_split=5, max_depth=10, max_features=auto, min_samples_leaf=4 \n",
      "[CV]  bootstrap=True, n_estimators=2000, min_samples_split=5, max_depth=10, max_features=sqrt, min_samples_leaf=1, total=  13.9s\n",
      "[CV] bootstrap=False, n_estimators=1800, min_samples_split=5, max_depth=10, max_features=auto, min_samples_leaf=4 \n",
      "[CV]  bootstrap=False, n_estimators=600, min_samples_split=5, max_depth=60, max_features=sqrt, min_samples_leaf=1, total=   5.3s\n",
      "[CV]  bootstrap=False, n_estimators=600, min_samples_split=5, max_depth=60, max_features=sqrt, min_samples_leaf=1, total=   5.2s\n",
      "[CV] bootstrap=False, n_estimators=1800, min_samples_split=5, max_depth=10, max_features=auto, min_samples_leaf=4 \n",
      "[CV] bootstrap=True, n_estimators=400, min_samples_split=10, max_depth=70, max_features=auto, min_samples_leaf=4 \n",
      "[CV]  bootstrap=False, n_estimators=600, min_samples_split=5, max_depth=60, max_features=sqrt, min_samples_leaf=1, total=   5.0s\n",
      "[CV] bootstrap=True, n_estimators=400, min_samples_split=10, max_depth=70, max_features=auto, min_samples_leaf=4 \n",
      "[CV]  bootstrap=False, n_estimators=600, min_samples_split=5, max_depth=60, max_features=sqrt, min_samples_leaf=1, total=   5.6s\n",
      "[CV] bootstrap=True, n_estimators=400, min_samples_split=10, max_depth=70, max_features=auto, min_samples_leaf=4 \n",
      "[CV]  bootstrap=False, n_estimators=600, min_samples_split=5, max_depth=60, max_features=sqrt, min_samples_leaf=1, total=   6.9s\n",
      "[CV] bootstrap=True, n_estimators=400, min_samples_split=10, max_depth=70, max_features=auto, min_samples_leaf=4 \n",
      "[CV]  bootstrap=False, n_estimators=1000, min_samples_split=5, max_depth=100, max_features=sqrt, min_samples_leaf=2, total=   8.0s\n",
      "[CV] bootstrap=True, n_estimators=400, min_samples_split=10, max_depth=70, max_features=auto, min_samples_leaf=4 \n",
      "[CV]  bootstrap=False, n_estimators=1000, min_samples_split=5, max_depth=100, max_features=sqrt, min_samples_leaf=2, total=   8.1s\n",
      "[CV] bootstrap=False, n_estimators=800, min_samples_split=5, max_depth=90, max_features=sqrt, min_samples_leaf=1 \n",
      "[CV]  bootstrap=False, n_estimators=1000, min_samples_split=5, max_depth=100, max_features=sqrt, min_samples_leaf=2, total=   8.9s\n",
      "[CV] bootstrap=False, n_estimators=800, min_samples_split=5, max_depth=90, max_features=sqrt, min_samples_leaf=1 \n",
      "[CV]  bootstrap=False, n_estimators=1000, min_samples_split=5, max_depth=100, max_features=sqrt, min_samples_leaf=2, total=   8.5s\n",
      "[CV] bootstrap=False, n_estimators=800, min_samples_split=5, max_depth=90, max_features=sqrt, min_samples_leaf=1 \n",
      "[CV]  bootstrap=False, n_estimators=1000, min_samples_split=5, max_depth=100, max_features=sqrt, min_samples_leaf=2, total=   9.3s\n",
      "[CV] bootstrap=False, n_estimators=800, min_samples_split=5, max_depth=90, max_features=sqrt, min_samples_leaf=1 \n",
      "[CV]  bootstrap=True, n_estimators=400, min_samples_split=10, max_depth=70, max_features=auto, min_samples_leaf=4, total=   3.4s\n",
      "[CV] bootstrap=False, n_estimators=800, min_samples_split=5, max_depth=90, max_features=sqrt, min_samples_leaf=1 \n",
      "[CV]  bootstrap=True, n_estimators=400, min_samples_split=10, max_depth=70, max_features=auto, min_samples_leaf=4, total=   3.2s\n",
      "[CV] bootstrap=False, n_estimators=2000, min_samples_split=10, max_depth=10, max_features=sqrt, min_samples_leaf=1 \n",
      "[CV]  bootstrap=True, n_estimators=400, min_samples_split=10, max_depth=70, max_features=auto, min_samples_leaf=4, total=   3.6s\n",
      "[CV] bootstrap=False, n_estimators=2000, min_samples_split=10, max_depth=10, max_features=sqrt, min_samples_leaf=1 \n",
      "[CV]  bootstrap=True, n_estimators=400, min_samples_split=10, max_depth=70, max_features=auto, min_samples_leaf=4, total=   3.8s\n",
      "[CV] bootstrap=False, n_estimators=2000, min_samples_split=10, max_depth=10, max_features=sqrt, min_samples_leaf=1 \n",
      "[CV]  bootstrap=True, n_estimators=400, min_samples_split=10, max_depth=70, max_features=auto, min_samples_leaf=4, total=   3.5s\n",
      "[CV] bootstrap=False, n_estimators=2000, min_samples_split=10, max_depth=10, max_features=sqrt, min_samples_leaf=1 \n",
      "[CV]  bootstrap=False, n_estimators=800, min_samples_split=5, max_depth=90, max_features=sqrt, min_samples_leaf=1, total=   6.1s\n",
      "[CV] bootstrap=False, n_estimators=2000, min_samples_split=10, max_depth=10, max_features=sqrt, min_samples_leaf=1 \n",
      "[CV]  bootstrap=False, n_estimators=800, min_samples_split=5, max_depth=90, max_features=sqrt, min_samples_leaf=1, total=   6.3s\n",
      "[CV] bootstrap=False, n_estimators=1600, min_samples_split=5, max_depth=10, max_features=sqrt, min_samples_leaf=2 \n",
      "[CV]  bootstrap=False, n_estimators=800, min_samples_split=5, max_depth=90, max_features=sqrt, min_samples_leaf=1, total=   7.3s\n",
      "[CV] bootstrap=False, n_estimators=1600, min_samples_split=5, max_depth=10, max_features=sqrt, min_samples_leaf=2 \n",
      "[CV]  bootstrap=False, n_estimators=800, min_samples_split=5, max_depth=90, max_features=sqrt, min_samples_leaf=1, total=   7.1s\n",
      "[CV] bootstrap=False, n_estimators=1600, min_samples_split=5, max_depth=10, max_features=sqrt, min_samples_leaf=2 \n",
      "[CV]  bootstrap=False, n_estimators=2000, min_samples_split=2, max_depth=30, max_features=auto, min_samples_leaf=4, total=  26.4s\n",
      "[CV] bootstrap=False, n_estimators=1600, min_samples_split=5, max_depth=10, max_features=sqrt, min_samples_leaf=2 \n",
      "[CV]  bootstrap=False, n_estimators=2000, min_samples_split=2, max_depth=30, max_features=auto, min_samples_leaf=4, total=  26.6s\n",
      "[CV] bootstrap=False, n_estimators=1600, min_samples_split=5, max_depth=10, max_features=sqrt, min_samples_leaf=2 \n",
      "[CV]  bootstrap=False, n_estimators=800, min_samples_split=5, max_depth=90, max_features=sqrt, min_samples_leaf=1, total=   8.0s\n",
      "[CV] bootstrap=False, n_estimators=800, min_samples_split=10, max_depth=30, max_features=sqrt, min_samples_leaf=2 \n",
      "[CV]  bootstrap=False, n_estimators=2000, min_samples_split=2, max_depth=30, max_features=auto, min_samples_leaf=4, total=  29.3s\n",
      "[CV] bootstrap=False, n_estimators=800, min_samples_split=10, max_depth=30, max_features=sqrt, min_samples_leaf=2 \n",
      "[CV]  bootstrap=False, n_estimators=2000, min_samples_split=2, max_depth=30, max_features=auto, min_samples_leaf=4, total=  29.5s\n",
      "[CV] bootstrap=False, n_estimators=800, min_samples_split=10, max_depth=30, max_features=sqrt, min_samples_leaf=2 \n",
      "[CV]  bootstrap=False, n_estimators=2000, min_samples_split=2, max_depth=30, max_features=auto, min_samples_leaf=4, total=  31.8s\n",
      "[CV] bootstrap=False, n_estimators=800, min_samples_split=10, max_depth=30, max_features=sqrt, min_samples_leaf=2 \n",
      "[CV]  bootstrap=False, n_estimators=2000, min_samples_split=10, max_depth=10, max_features=sqrt, min_samples_leaf=1, total=  12.5s\n",
      "[CV] bootstrap=False, n_estimators=800, min_samples_split=10, max_depth=30, max_features=sqrt, min_samples_leaf=2 \n",
      "[CV]  bootstrap=False, n_estimators=1000, min_samples_split=2, max_depth=50, max_features=auto, min_samples_leaf=1, total=  19.9s\n",
      "[CV] bootstrap=False, n_estimators=1800, min_samples_split=2, max_depth=50, max_features=auto, min_samples_leaf=4 \n",
      "[CV]  bootstrap=False, n_estimators=800, min_samples_split=10, max_depth=30, max_features=sqrt, min_samples_leaf=2, total=   5.2s\n",
      "[CV] bootstrap=False, n_estimators=1800, min_samples_split=2, max_depth=50, max_features=auto, min_samples_leaf=4 \n",
      "[CV]  bootstrap=False, n_estimators=1000, min_samples_split=2, max_depth=50, max_features=auto, min_samples_leaf=1, total=  22.0s\n",
      "[CV] bootstrap=False, n_estimators=1800, min_samples_split=2, max_depth=50, max_features=auto, min_samples_leaf=4 \n",
      "[CV]  bootstrap=False, n_estimators=1000, min_samples_split=2, max_depth=50, max_features=auto, min_samples_leaf=1, total=  22.5s\n",
      "[CV] bootstrap=False, n_estimators=1800, min_samples_split=2, max_depth=50, max_features=auto, min_samples_leaf=4 \n",
      "[CV]  bootstrap=False, n_estimators=2000, min_samples_split=10, max_depth=10, max_features=sqrt, min_samples_leaf=1, total=  12.4s\n",
      "[CV] bootstrap=False, n_estimators=1800, min_samples_split=2, max_depth=50, max_features=auto, min_samples_leaf=4 \n",
      "[CV]  bootstrap=False, n_estimators=1000, min_samples_split=2, max_depth=50, max_features=auto, min_samples_leaf=1, total=  21.2s\n"
     ]
    },
    {
     "name": "stdout",
     "output_type": "stream",
     "text": [
      "[CV] bootstrap=False, n_estimators=600, min_samples_split=5, max_depth=70, max_features=auto, min_samples_leaf=2 \n",
      "[CV]  bootstrap=False, n_estimators=2000, min_samples_split=10, max_depth=10, max_features=sqrt, min_samples_leaf=1, total=  13.7s\n",
      "[CV] bootstrap=False, n_estimators=600, min_samples_split=5, max_depth=70, max_features=auto, min_samples_leaf=2 \n",
      "[CV]  bootstrap=False, n_estimators=1600, min_samples_split=5, max_depth=10, max_features=sqrt, min_samples_leaf=2, total=   9.6s\n",
      "[CV] bootstrap=False, n_estimators=600, min_samples_split=5, max_depth=70, max_features=auto, min_samples_leaf=2 \n",
      "[CV]  bootstrap=False, n_estimators=1800, min_samples_split=5, max_depth=10, max_features=auto, min_samples_leaf=4, total=  22.4s\n",
      "[CV]  bootstrap=False, n_estimators=800, min_samples_split=10, max_depth=30, max_features=sqrt, min_samples_leaf=2, total=   5.9s\n",
      "[CV] bootstrap=False, n_estimators=600, min_samples_split=5, max_depth=70, max_features=auto, min_samples_leaf=2 \n",
      "[CV] bootstrap=False, n_estimators=600, min_samples_split=5, max_depth=70, max_features=auto, min_samples_leaf=2 \n",
      "[CV]  bootstrap=False, n_estimators=1000, min_samples_split=2, max_depth=50, max_features=auto, min_samples_leaf=1, total=  23.3s\n",
      "[CV] bootstrap=True, n_estimators=1000, min_samples_split=2, max_depth=20, max_features=sqrt, min_samples_leaf=1 \n",
      "[CV]  bootstrap=False, n_estimators=1800, min_samples_split=5, max_depth=10, max_features=auto, min_samples_leaf=4, total=  21.6s\n",
      "[CV]  bootstrap=False, n_estimators=800, min_samples_split=10, max_depth=30, max_features=sqrt, min_samples_leaf=2, total=   6.7s\n",
      "[CV] bootstrap=True, n_estimators=1000, min_samples_split=2, max_depth=20, max_features=sqrt, min_samples_leaf=1 \n",
      "[CV] bootstrap=True, n_estimators=1000, min_samples_split=2, max_depth=20, max_features=sqrt, min_samples_leaf=1 \n",
      "[CV]  bootstrap=False, n_estimators=2000, min_samples_split=10, max_depth=10, max_features=sqrt, min_samples_leaf=1, total=  15.1s\n",
      "[CV] bootstrap=True, n_estimators=1000, min_samples_split=2, max_depth=20, max_features=sqrt, min_samples_leaf=1 \n",
      "[CV]  bootstrap=False, n_estimators=1600, min_samples_split=5, max_depth=10, max_features=sqrt, min_samples_leaf=2, total=   9.8s\n",
      "[CV] bootstrap=True, n_estimators=1000, min_samples_split=2, max_depth=20, max_features=sqrt, min_samples_leaf=1 \n",
      "[CV]  bootstrap=False, n_estimators=1800, min_samples_split=5, max_depth=10, max_features=auto, min_samples_leaf=4, total=  21.8s\n",
      "[CV] bootstrap=False, n_estimators=1800, min_samples_split=10, max_depth=110, max_features=auto, min_samples_leaf=2 \n",
      "[CV]  bootstrap=False, n_estimators=1600, min_samples_split=5, max_depth=10, max_features=sqrt, min_samples_leaf=2, total=  10.6s\n",
      "[CV] bootstrap=False, n_estimators=1800, min_samples_split=10, max_depth=110, max_features=auto, min_samples_leaf=2 \n",
      "[CV]  bootstrap=False, n_estimators=1600, min_samples_split=5, max_depth=10, max_features=sqrt, min_samples_leaf=2, total=  12.7s\n",
      "[CV] bootstrap=False, n_estimators=1800, min_samples_split=10, max_depth=110, max_features=auto, min_samples_leaf=2 \n",
      "[CV]  bootstrap=False, n_estimators=800, min_samples_split=10, max_depth=30, max_features=sqrt, min_samples_leaf=2, total=   6.3s\n",
      "[CV] bootstrap=False, n_estimators=1800, min_samples_split=10, max_depth=110, max_features=auto, min_samples_leaf=2 \n",
      "[CV]  bootstrap=False, n_estimators=1600, min_samples_split=5, max_depth=10, max_features=sqrt, min_samples_leaf=2, total=  12.3s\n",
      "[CV] bootstrap=False, n_estimators=1800, min_samples_split=10, max_depth=110, max_features=auto, min_samples_leaf=2 \n",
      "[CV]  bootstrap=False, n_estimators=800, min_samples_split=10, max_depth=30, max_features=sqrt, min_samples_leaf=2, total=   6.6s\n",
      "[CV] bootstrap=True, n_estimators=600, min_samples_split=5, max_depth=80, max_features=auto, min_samples_leaf=1 \n",
      "[CV]  bootstrap=False, n_estimators=2000, min_samples_split=10, max_depth=10, max_features=sqrt, min_samples_leaf=1, total=  13.9s\n",
      "[CV] bootstrap=True, n_estimators=600, min_samples_split=5, max_depth=80, max_features=auto, min_samples_leaf=1 \n",
      "[CV]  bootstrap=False, n_estimators=1800, min_samples_split=5, max_depth=10, max_features=auto, min_samples_leaf=4, total=  25.7s\n",
      "[CV] bootstrap=True, n_estimators=600, min_samples_split=5, max_depth=80, max_features=auto, min_samples_leaf=1 \n",
      "[CV]  bootstrap=False, n_estimators=1800, min_samples_split=5, max_depth=10, max_features=auto, min_samples_leaf=4, total=  26.3s\n",
      "[CV] bootstrap=True, n_estimators=600, min_samples_split=5, max_depth=80, max_features=auto, min_samples_leaf=1 \n",
      "[CV]  bootstrap=True, n_estimators=1000, min_samples_split=2, max_depth=20, max_features=sqrt, min_samples_leaf=1, total=   6.5s\n",
      "[CV] bootstrap=True, n_estimators=600, min_samples_split=5, max_depth=80, max_features=auto, min_samples_leaf=1 \n",
      "[CV]  bootstrap=True, n_estimators=1000, min_samples_split=2, max_depth=20, max_features=sqrt, min_samples_leaf=1, total=   6.8s\n",
      "[CV] bootstrap=False, n_estimators=1800, min_samples_split=10, max_depth=30, max_features=sqrt, min_samples_leaf=1 \n",
      "[CV]  bootstrap=True, n_estimators=1000, min_samples_split=2, max_depth=20, max_features=sqrt, min_samples_leaf=1, total=   7.8s\n",
      "[CV] bootstrap=False, n_estimators=1800, min_samples_split=10, max_depth=30, max_features=sqrt, min_samples_leaf=1 \n",
      "[CV]  bootstrap=True, n_estimators=1000, min_samples_split=2, max_depth=20, max_features=sqrt, min_samples_leaf=1, total=   7.4s\n",
      "[CV] bootstrap=False, n_estimators=1800, min_samples_split=10, max_depth=30, max_features=sqrt, min_samples_leaf=1 \n",
      "[CV]  bootstrap=False, n_estimators=600, min_samples_split=5, max_depth=70, max_features=auto, min_samples_leaf=2, total=  10.3s\n",
      "[CV]  bootstrap=True, n_estimators=1000, min_samples_split=2, max_depth=20, max_features=sqrt, min_samples_leaf=1, total=   8.0s\n",
      "[CV] bootstrap=False, n_estimators=1800, min_samples_split=10, max_depth=30, max_features=sqrt, min_samples_leaf=1 \n",
      "[CV] bootstrap=False, n_estimators=1800, min_samples_split=10, max_depth=30, max_features=sqrt, min_samples_leaf=1 \n",
      "[CV]  bootstrap=False, n_estimators=600, min_samples_split=5, max_depth=70, max_features=auto, min_samples_leaf=2, total=   9.8s\n",
      "[CV] bootstrap=False, n_estimators=1600, min_samples_split=5, max_depth=70, max_features=sqrt, min_samples_leaf=1 \n",
      "[CV]  bootstrap=False, n_estimators=600, min_samples_split=5, max_depth=70, max_features=auto, min_samples_leaf=2, total=  11.0s\n",
      "[CV] bootstrap=False, n_estimators=1600, min_samples_split=5, max_depth=70, max_features=sqrt, min_samples_leaf=1 \n",
      "[CV]  bootstrap=False, n_estimators=600, min_samples_split=5, max_depth=70, max_features=auto, min_samples_leaf=2, total=  11.3s\n",
      "[CV] bootstrap=False, n_estimators=1600, min_samples_split=5, max_depth=70, max_features=sqrt, min_samples_leaf=1 \n",
      "[CV]  bootstrap=True, n_estimators=600, min_samples_split=5, max_depth=80, max_features=auto, min_samples_leaf=1, total=   7.9s\n",
      "[CV] bootstrap=False, n_estimators=1600, min_samples_split=5, max_depth=70, max_features=sqrt, min_samples_leaf=1 \n",
      "[CV]  bootstrap=True, n_estimators=600, min_samples_split=5, max_depth=80, max_features=auto, min_samples_leaf=1, total=   8.6s\n",
      "[CV] bootstrap=False, n_estimators=1600, min_samples_split=5, max_depth=70, max_features=sqrt, min_samples_leaf=1 \n",
      "[CV]  bootstrap=False, n_estimators=600, min_samples_split=5, max_depth=70, max_features=auto, min_samples_leaf=2, total=  12.5s\n",
      "[CV] bootstrap=True, n_estimators=1400, min_samples_split=5, max_depth=80, max_features=sqrt, min_samples_leaf=4 \n",
      "[CV]  bootstrap=True, n_estimators=600, min_samples_split=5, max_depth=80, max_features=auto, min_samples_leaf=1, total=   8.3s\n",
      "[CV] bootstrap=True, n_estimators=1400, min_samples_split=5, max_depth=80, max_features=sqrt, min_samples_leaf=4 \n",
      "[CV]  bootstrap=True, n_estimators=600, min_samples_split=5, max_depth=80, max_features=auto, min_samples_leaf=1, total=   7.9s\n",
      "[CV] bootstrap=True, n_estimators=1400, min_samples_split=5, max_depth=80, max_features=sqrt, min_samples_leaf=4 \n",
      "[CV]  bootstrap=True, n_estimators=600, min_samples_split=5, max_depth=80, max_features=auto, min_samples_leaf=1, total=   9.1s\n",
      "[CV] bootstrap=True, n_estimators=1400, min_samples_split=5, max_depth=80, max_features=sqrt, min_samples_leaf=4 \n",
      "[CV]  bootstrap=True, n_estimators=1400, min_samples_split=5, max_depth=80, max_features=sqrt, min_samples_leaf=4, total=   7.8s\n"
     ]
    },
    {
     "name": "stdout",
     "output_type": "stream",
     "text": [
      "[CV] bootstrap=True, n_estimators=1400, min_samples_split=5, max_depth=80, max_features=sqrt, min_samples_leaf=4 \n",
      "[CV]  bootstrap=True, n_estimators=1400, min_samples_split=5, max_depth=80, max_features=sqrt, min_samples_leaf=4, total=   9.0s\n",
      "[CV]  bootstrap=False, n_estimators=1800, min_samples_split=10, max_depth=30, max_features=sqrt, min_samples_leaf=1, total=  14.6s\n",
      "[CV] bootstrap=True, n_estimators=1800, min_samples_split=2, max_depth=None, max_features=auto, min_samples_leaf=2 \n",
      "[CV] bootstrap=True, n_estimators=1800, min_samples_split=2, max_depth=None, max_features=auto, min_samples_leaf=2 \n",
      "[CV]  bootstrap=True, n_estimators=1400, min_samples_split=5, max_depth=80, max_features=sqrt, min_samples_leaf=4, total=  10.0s\n",
      "[CV] bootstrap=True, n_estimators=1800, min_samples_split=2, max_depth=None, max_features=auto, min_samples_leaf=2 \n",
      "[CV]  bootstrap=False, n_estimators=1800, min_samples_split=2, max_depth=50, max_features=auto, min_samples_leaf=4, total=  25.6s\n",
      "[CV] bootstrap=True, n_estimators=1800, min_samples_split=2, max_depth=None, max_features=auto, min_samples_leaf=2 \n",
      "[CV]  bootstrap=False, n_estimators=1800, min_samples_split=10, max_depth=30, max_features=sqrt, min_samples_leaf=1, total=  15.0s\n",
      "[CV] bootstrap=True, n_estimators=1800, min_samples_split=2, max_depth=None, max_features=auto, min_samples_leaf=2 \n",
      "[CV]  bootstrap=False, n_estimators=1800, min_samples_split=2, max_depth=50, max_features=auto, min_samples_leaf=4, total=  26.6s\n",
      "[CV] bootstrap=False, n_estimators=1400, min_samples_split=5, max_depth=80, max_features=sqrt, min_samples_leaf=1 \n",
      "[CV]  bootstrap=False, n_estimators=1800, min_samples_split=10, max_depth=30, max_features=sqrt, min_samples_leaf=1, total=  15.4s\n",
      "[CV] bootstrap=False, n_estimators=1400, min_samples_split=5, max_depth=80, max_features=sqrt, min_samples_leaf=1 \n",
      "[CV]  bootstrap=False, n_estimators=1800, min_samples_split=10, max_depth=30, max_features=sqrt, min_samples_leaf=1, total=  15.5s\n",
      "[CV] bootstrap=False, n_estimators=1400, min_samples_split=5, max_depth=80, max_features=sqrt, min_samples_leaf=1 \n",
      "[CV]  bootstrap=False, n_estimators=1800, min_samples_split=2, max_depth=50, max_features=auto, min_samples_leaf=4, total=  27.2s\n",
      "[CV] bootstrap=False, n_estimators=1400, min_samples_split=5, max_depth=80, max_features=sqrt, min_samples_leaf=1 \n",
      "[CV]  bootstrap=False, n_estimators=1600, min_samples_split=5, max_depth=70, max_features=sqrt, min_samples_leaf=1, total=  13.7s\n",
      "[CV] bootstrap=False, n_estimators=1400, min_samples_split=5, max_depth=80, max_features=sqrt, min_samples_leaf=1 \n",
      "[CV]  bootstrap=False, n_estimators=1800, min_samples_split=10, max_depth=30, max_features=sqrt, min_samples_leaf=1, total=  16.8s\n",
      "[CV]  bootstrap=False, n_estimators=1800, min_samples_split=2, max_depth=50, max_features=auto, min_samples_leaf=4, total=  28.9s\n",
      "[CV] bootstrap=False, n_estimators=400, min_samples_split=2, max_depth=None, max_features=sqrt, min_samples_leaf=1 \n",
      "[CV] bootstrap=False, n_estimators=400, min_samples_split=2, max_depth=None, max_features=sqrt, min_samples_leaf=1 \n",
      "[CV]  bootstrap=False, n_estimators=1600, min_samples_split=5, max_depth=70, max_features=sqrt, min_samples_leaf=1, total=  15.9s\n",
      "[CV] bootstrap=False, n_estimators=400, min_samples_split=2, max_depth=None, max_features=sqrt, min_samples_leaf=1 \n",
      "[CV]  bootstrap=True, n_estimators=1400, min_samples_split=5, max_depth=80, max_features=sqrt, min_samples_leaf=4, total=  10.3s\n",
      "[CV] bootstrap=False, n_estimators=400, min_samples_split=2, max_depth=None, max_features=sqrt, min_samples_leaf=1 \n",
      "[CV]  bootstrap=False, n_estimators=1800, min_samples_split=2, max_depth=50, max_features=auto, min_samples_leaf=4, total=  30.1s\n",
      "[CV] bootstrap=False, n_estimators=400, min_samples_split=2, max_depth=None, max_features=sqrt, min_samples_leaf=1 \n",
      "[CV]  bootstrap=False, n_estimators=1800, min_samples_split=10, max_depth=110, max_features=auto, min_samples_leaf=2, total=  24.6s\n",
      "[CV] bootstrap=False, n_estimators=1400, min_samples_split=2, max_depth=40, max_features=auto, min_samples_leaf=1 \n",
      "[CV]  bootstrap=False, n_estimators=1800, min_samples_split=10, max_depth=110, max_features=auto, min_samples_leaf=2, total=  25.4s\n",
      "[CV] bootstrap=False, n_estimators=1400, min_samples_split=2, max_depth=40, max_features=auto, min_samples_leaf=1 \n",
      "[CV]  bootstrap=False, n_estimators=1600, min_samples_split=5, max_depth=70, max_features=sqrt, min_samples_leaf=1, total=  17.2s\n",
      "[CV]  bootstrap=False, n_estimators=1600, min_samples_split=5, max_depth=70, max_features=sqrt, min_samples_leaf=1, total=  16.5s\n",
      "[CV] bootstrap=False, n_estimators=1400, min_samples_split=2, max_depth=40, max_features=auto, min_samples_leaf=1 \n",
      "[CV] bootstrap=False, n_estimators=1400, min_samples_split=2, max_depth=40, max_features=auto, min_samples_leaf=1 \n",
      "[CV]  bootstrap=False, n_estimators=1600, min_samples_split=5, max_depth=70, max_features=sqrt, min_samples_leaf=1, total=  16.0s\n",
      "[CV] bootstrap=False, n_estimators=1400, min_samples_split=2, max_depth=40, max_features=auto, min_samples_leaf=1 \n",
      "[CV]  bootstrap=False, n_estimators=1800, min_samples_split=10, max_depth=110, max_features=auto, min_samples_leaf=2, total=  27.2s\n",
      "[CV] bootstrap=True, n_estimators=1000, min_samples_split=5, max_depth=20, max_features=sqrt, min_samples_leaf=2 \n",
      "[CV]  bootstrap=False, n_estimators=1800, min_samples_split=10, max_depth=110, max_features=auto, min_samples_leaf=2, total=  26.4s\n",
      "[CV] bootstrap=True, n_estimators=1000, min_samples_split=5, max_depth=20, max_features=sqrt, min_samples_leaf=2 \n",
      "[CV]  bootstrap=False, n_estimators=400, min_samples_split=2, max_depth=None, max_features=sqrt, min_samples_leaf=1, total=   4.0s\n",
      "[CV] bootstrap=True, n_estimators=1000, min_samples_split=5, max_depth=20, max_features=sqrt, min_samples_leaf=2 \n"
     ]
    },
    {
     "name": "stderr",
     "output_type": "stream",
     "text": [
      "[Parallel(n_jobs=-1)]: Done 114 tasks      | elapsed:  1.1min\n"
     ]
    },
    {
     "name": "stdout",
     "output_type": "stream",
     "text": [
      "[CV]  bootstrap=False, n_estimators=400, min_samples_split=2, max_depth=None, max_features=sqrt, min_samples_leaf=1, total=   4.2s\n",
      "[CV] bootstrap=True, n_estimators=1000, min_samples_split=5, max_depth=20, max_features=sqrt, min_samples_leaf=2 \n",
      "[CV]  bootstrap=False, n_estimators=1800, min_samples_split=10, max_depth=110, max_features=auto, min_samples_leaf=2, total=  28.4s\n",
      "[CV] bootstrap=True, n_estimators=1000, min_samples_split=5, max_depth=20, max_features=sqrt, min_samples_leaf=2 \n",
      "[CV]  bootstrap=False, n_estimators=400, min_samples_split=2, max_depth=None, max_features=sqrt, min_samples_leaf=1, total=   4.5s\n",
      "[CV] bootstrap=False, n_estimators=2000, min_samples_split=10, max_depth=100, max_features=auto, min_samples_leaf=4 \n",
      "[CV]  bootstrap=False, n_estimators=400, min_samples_split=2, max_depth=None, max_features=sqrt, min_samples_leaf=1, total=   3.7s\n",
      "[CV] bootstrap=False, n_estimators=2000, min_samples_split=10, max_depth=100, max_features=auto, min_samples_leaf=4 \n",
      "[CV]  bootstrap=False, n_estimators=400, min_samples_split=2, max_depth=None, max_features=sqrt, min_samples_leaf=1, total=   4.0s\n",
      "[CV] bootstrap=False, n_estimators=2000, min_samples_split=10, max_depth=100, max_features=auto, min_samples_leaf=4 \n",
      "[CV]  bootstrap=True, n_estimators=1400, min_samples_split=5, max_depth=80, max_features=sqrt, min_samples_leaf=4, total=   9.4s\n",
      "[CV] bootstrap=False, n_estimators=2000, min_samples_split=10, max_depth=100, max_features=auto, min_samples_leaf=4 \n",
      "[CV]  bootstrap=True, n_estimators=1000, min_samples_split=5, max_depth=20, max_features=sqrt, min_samples_leaf=2, total=   6.2s\n",
      "[CV] bootstrap=False, n_estimators=2000, min_samples_split=10, max_depth=100, max_features=auto, min_samples_leaf=4 \n",
      "[CV]  bootstrap=True, n_estimators=1000, min_samples_split=5, max_depth=20, max_features=sqrt, min_samples_leaf=2, total=   6.6s\n",
      "[CV] bootstrap=True, n_estimators=1200, min_samples_split=2, max_depth=20, max_features=sqrt, min_samples_leaf=2 \n",
      "[CV]  bootstrap=True, n_estimators=1000, min_samples_split=5, max_depth=20, max_features=sqrt, min_samples_leaf=2, total=   6.0s\n",
      "[CV] bootstrap=True, n_estimators=1200, min_samples_split=2, max_depth=20, max_features=sqrt, min_samples_leaf=2 \n",
      "[CV]  bootstrap=True, n_estimators=1000, min_samples_split=5, max_depth=20, max_features=sqrt, min_samples_leaf=2, total=   6.7s\n",
      "[CV] bootstrap=True, n_estimators=1200, min_samples_split=2, max_depth=20, max_features=sqrt, min_samples_leaf=2 \n",
      "[CV]  bootstrap=True, n_estimators=1000, min_samples_split=5, max_depth=20, max_features=sqrt, min_samples_leaf=2, total=   6.4s\n",
      "[CV] bootstrap=True, n_estimators=1200, min_samples_split=2, max_depth=20, max_features=sqrt, min_samples_leaf=2 \n",
      "[CV]  bootstrap=False, n_estimators=1400, min_samples_split=5, max_depth=80, max_features=sqrt, min_samples_leaf=1, total=  13.0s\n",
      "[CV] bootstrap=True, n_estimators=1200, min_samples_split=2, max_depth=20, max_features=sqrt, min_samples_leaf=2 \n",
      "[CV]  bootstrap=False, n_estimators=1400, min_samples_split=5, max_depth=80, max_features=sqrt, min_samples_leaf=1, total=  13.5s\n",
      "[CV] bootstrap=False, n_estimators=1200, min_samples_split=10, max_depth=20, max_features=sqrt, min_samples_leaf=4 \n",
      "[CV]  bootstrap=False, n_estimators=1400, min_samples_split=5, max_depth=80, max_features=sqrt, min_samples_leaf=1, total=  13.9s\n",
      "[CV] bootstrap=False, n_estimators=1200, min_samples_split=10, max_depth=20, max_features=sqrt, min_samples_leaf=4 \n",
      "[CV]  bootstrap=False, n_estimators=1400, min_samples_split=5, max_depth=80, max_features=sqrt, min_samples_leaf=1, total=  13.3s\n",
      "[CV] bootstrap=False, n_estimators=1200, min_samples_split=10, max_depth=20, max_features=sqrt, min_samples_leaf=4 \n",
      "[CV]  bootstrap=False, n_estimators=1400, min_samples_split=5, max_depth=80, max_features=sqrt, min_samples_leaf=1, total=  14.6s\n",
      "[CV] bootstrap=False, n_estimators=1200, min_samples_split=10, max_depth=20, max_features=sqrt, min_samples_leaf=4 \n",
      "[CV]  bootstrap=True, n_estimators=1800, min_samples_split=2, max_depth=None, max_features=auto, min_samples_leaf=2, total=  20.4s\n",
      "[CV] bootstrap=False, n_estimators=1200, min_samples_split=10, max_depth=20, max_features=sqrt, min_samples_leaf=4 \n",
      "[CV]  bootstrap=True, n_estimators=1800, min_samples_split=2, max_depth=None, max_features=auto, min_samples_leaf=2, total=  20.3s\n",
      "[CV] bootstrap=False, n_estimators=800, min_samples_split=2, max_depth=50, max_features=sqrt, min_samples_leaf=2 \n",
      "[CV]  bootstrap=True, n_estimators=1800, min_samples_split=2, max_depth=None, max_features=auto, min_samples_leaf=2, total=  21.1s\n",
      "[CV] bootstrap=False, n_estimators=800, min_samples_split=2, max_depth=50, max_features=sqrt, min_samples_leaf=2 \n",
      "[CV]  bootstrap=True, n_estimators=1200, min_samples_split=2, max_depth=20, max_features=sqrt, min_samples_leaf=2, total=   7.2s\n",
      "[CV]  bootstrap=True, n_estimators=1800, min_samples_split=2, max_depth=None, max_features=auto, min_samples_leaf=2, total=  20.1s\n",
      "[CV] bootstrap=False, n_estimators=800, min_samples_split=2, max_depth=50, max_features=sqrt, min_samples_leaf=2 \n",
      "[CV] bootstrap=False, n_estimators=800, min_samples_split=2, max_depth=50, max_features=sqrt, min_samples_leaf=2 \n",
      "[CV]  bootstrap=True, n_estimators=1200, min_samples_split=2, max_depth=20, max_features=sqrt, min_samples_leaf=2, total=   8.0s\n",
      "[CV] bootstrap=False, n_estimators=800, min_samples_split=2, max_depth=50, max_features=sqrt, min_samples_leaf=2 \n",
      "[CV]  bootstrap=True, n_estimators=1200, min_samples_split=2, max_depth=20, max_features=sqrt, min_samples_leaf=2, total=   8.8s\n",
      "[CV] bootstrap=False, n_estimators=800, min_samples_split=5, max_depth=100, max_features=sqrt, min_samples_leaf=1 \n",
      "[CV]  bootstrap=True, n_estimators=1800, min_samples_split=2, max_depth=None, max_features=auto, min_samples_leaf=2, total=  21.3s\n",
      "[CV] bootstrap=False, n_estimators=800, min_samples_split=5, max_depth=100, max_features=sqrt, min_samples_leaf=1 \n",
      "[CV]  bootstrap=True, n_estimators=1200, min_samples_split=2, max_depth=20, max_features=sqrt, min_samples_leaf=2, total=   8.2s\n",
      "[CV] bootstrap=False, n_estimators=800, min_samples_split=5, max_depth=100, max_features=sqrt, min_samples_leaf=1 \n",
      "[CV]  bootstrap=False, n_estimators=1200, min_samples_split=10, max_depth=20, max_features=sqrt, min_samples_leaf=4, total=   8.0s\n",
      "[CV] bootstrap=False, n_estimators=800, min_samples_split=5, max_depth=100, max_features=sqrt, min_samples_leaf=1 \n",
      "[CV]  bootstrap=False, n_estimators=1200, min_samples_split=10, max_depth=20, max_features=sqrt, min_samples_leaf=4, total=   8.5s\n",
      "[CV] bootstrap=False, n_estimators=800, min_samples_split=5, max_depth=100, max_features=sqrt, min_samples_leaf=1 \n",
      "[CV]  bootstrap=True, n_estimators=1200, min_samples_split=2, max_depth=20, max_features=sqrt, min_samples_leaf=2, total=  10.2s\n",
      "[CV] bootstrap=True, n_estimators=800, min_samples_split=10, max_depth=50, max_features=sqrt, min_samples_leaf=4 \n",
      "[CV]  bootstrap=False, n_estimators=800, min_samples_split=2, max_depth=50, max_features=sqrt, min_samples_leaf=2, total=   5.7s\n",
      "[CV] bootstrap=True, n_estimators=800, min_samples_split=10, max_depth=50, max_features=sqrt, min_samples_leaf=4 \n",
      "[CV]  bootstrap=False, n_estimators=800, min_samples_split=2, max_depth=50, max_features=sqrt, min_samples_leaf=2, total=   6.0s\n",
      "[CV] bootstrap=True, n_estimators=800, min_samples_split=10, max_depth=50, max_features=sqrt, min_samples_leaf=4 \n",
      "[CV]  bootstrap=False, n_estimators=1200, min_samples_split=10, max_depth=20, max_features=sqrt, min_samples_leaf=4, total=  10.8s\n",
      "[CV] bootstrap=True, n_estimators=800, min_samples_split=10, max_depth=50, max_features=sqrt, min_samples_leaf=4 \n",
      "[CV]  bootstrap=False, n_estimators=1200, min_samples_split=10, max_depth=20, max_features=sqrt, min_samples_leaf=4, total=   9.8s\n",
      "[CV] bootstrap=True, n_estimators=800, min_samples_split=10, max_depth=50, max_features=sqrt, min_samples_leaf=4 \n",
      "[CV]  bootstrap=False, n_estimators=800, min_samples_split=5, max_depth=100, max_features=sqrt, min_samples_leaf=1, total=   6.1s\n",
      "[CV] bootstrap=True, n_estimators=1800, min_samples_split=2, max_depth=90, max_features=sqrt, min_samples_leaf=4 \n",
      "[CV]  bootstrap=False, n_estimators=800, min_samples_split=2, max_depth=50, max_features=sqrt, min_samples_leaf=2, total=   6.7s\n"
     ]
    },
    {
     "name": "stdout",
     "output_type": "stream",
     "text": [
      "[CV] bootstrap=True, n_estimators=1800, min_samples_split=2, max_depth=90, max_features=sqrt, min_samples_leaf=4 \n",
      "[CV]  bootstrap=False, n_estimators=800, min_samples_split=2, max_depth=50, max_features=sqrt, min_samples_leaf=2, total=   7.3s\n",
      "[CV] bootstrap=True, n_estimators=1800, min_samples_split=2, max_depth=90, max_features=sqrt, min_samples_leaf=4 \n",
      "[CV]  bootstrap=True, n_estimators=800, min_samples_split=10, max_depth=50, max_features=sqrt, min_samples_leaf=4, total=   4.4s\n",
      "[CV] bootstrap=True, n_estimators=1800, min_samples_split=2, max_depth=90, max_features=sqrt, min_samples_leaf=4 \n",
      "[CV]  bootstrap=False, n_estimators=800, min_samples_split=5, max_depth=100, max_features=sqrt, min_samples_leaf=1, total=   6.3s\n",
      "[CV] bootstrap=True, n_estimators=1800, min_samples_split=2, max_depth=90, max_features=sqrt, min_samples_leaf=4 \n",
      "[CV]  bootstrap=False, n_estimators=1200, min_samples_split=10, max_depth=20, max_features=sqrt, min_samples_leaf=4, total=  10.1s\n",
      "[CV]  bootstrap=False, n_estimators=800, min_samples_split=2, max_depth=50, max_features=sqrt, min_samples_leaf=2, total=   8.2s\n",
      "[CV] bootstrap=False, n_estimators=800, min_samples_split=10, max_depth=20, max_features=sqrt, min_samples_leaf=2 \n",
      "[CV]  bootstrap=True, n_estimators=800, min_samples_split=10, max_depth=50, max_features=sqrt, min_samples_leaf=4, total=   3.6s\n",
      "[CV] bootstrap=False, n_estimators=800, min_samples_split=10, max_depth=20, max_features=sqrt, min_samples_leaf=2 \n",
      "[CV] bootstrap=False, n_estimators=800, min_samples_split=10, max_depth=20, max_features=sqrt, min_samples_leaf=2 \n",
      "[CV]  bootstrap=True, n_estimators=800, min_samples_split=10, max_depth=50, max_features=sqrt, min_samples_leaf=4, total=   4.3s\n",
      "[CV] bootstrap=False, n_estimators=800, min_samples_split=10, max_depth=20, max_features=sqrt, min_samples_leaf=2 \n",
      "[CV]  bootstrap=True, n_estimators=800, min_samples_split=10, max_depth=50, max_features=sqrt, min_samples_leaf=4, total=   3.6s\n",
      "[CV] bootstrap=False, n_estimators=800, min_samples_split=10, max_depth=20, max_features=sqrt, min_samples_leaf=2 \n",
      "[CV]  bootstrap=False, n_estimators=800, min_samples_split=5, max_depth=100, max_features=sqrt, min_samples_leaf=1, total=   6.9s\n",
      "[CV] bootstrap=True, n_estimators=1200, min_samples_split=5, max_depth=20, max_features=sqrt, min_samples_leaf=2 \n",
      "[CV]  bootstrap=False, n_estimators=800, min_samples_split=5, max_depth=100, max_features=sqrt, min_samples_leaf=1, total=   9.1s\n",
      "[CV] bootstrap=True, n_estimators=1200, min_samples_split=5, max_depth=20, max_features=sqrt, min_samples_leaf=2 \n",
      "[CV]  bootstrap=False, n_estimators=800, min_samples_split=5, max_depth=100, max_features=sqrt, min_samples_leaf=1, total=   7.9s\n",
      "[CV]  bootstrap=True, n_estimators=800, min_samples_split=10, max_depth=50, max_features=sqrt, min_samples_leaf=4, total=   5.3s\n",
      "[CV] bootstrap=True, n_estimators=1200, min_samples_split=5, max_depth=20, max_features=sqrt, min_samples_leaf=2 \n",
      "[CV] bootstrap=True, n_estimators=1200, min_samples_split=5, max_depth=20, max_features=sqrt, min_samples_leaf=2 \n",
      "[CV]  bootstrap=False, n_estimators=1400, min_samples_split=2, max_depth=40, max_features=auto, min_samples_leaf=1, total=  28.5s\n",
      "[CV] bootstrap=True, n_estimators=1200, min_samples_split=5, max_depth=20, max_features=sqrt, min_samples_leaf=2 \n",
      "[CV]  bootstrap=False, n_estimators=1400, min_samples_split=2, max_depth=40, max_features=auto, min_samples_leaf=1, total=  28.8s\n",
      "[CV] bootstrap=True, n_estimators=800, min_samples_split=2, max_depth=100, max_features=auto, min_samples_leaf=1 \n",
      "[CV]  bootstrap=False, n_estimators=2000, min_samples_split=10, max_depth=100, max_features=auto, min_samples_leaf=4, total=  26.6s\n",
      "[CV] bootstrap=True, n_estimators=800, min_samples_split=2, max_depth=100, max_features=auto, min_samples_leaf=1 \n",
      "[CV]  bootstrap=False, n_estimators=1400, min_samples_split=2, max_depth=40, max_features=auto, min_samples_leaf=1, total=  30.3s\n",
      "[CV] bootstrap=True, n_estimators=800, min_samples_split=2, max_depth=100, max_features=auto, min_samples_leaf=1 \n",
      "[CV]  bootstrap=False, n_estimators=1400, min_samples_split=2, max_depth=40, max_features=auto, min_samples_leaf=1, total=  30.2s\n",
      "[CV] bootstrap=True, n_estimators=800, min_samples_split=2, max_depth=100, max_features=auto, min_samples_leaf=1 \n",
      "[CV]  bootstrap=False, n_estimators=2000, min_samples_split=10, max_depth=100, max_features=auto, min_samples_leaf=4, total=  27.6s\n",
      "[CV] bootstrap=True, n_estimators=800, min_samples_split=2, max_depth=100, max_features=auto, min_samples_leaf=1 \n",
      "[CV]  bootstrap=False, n_estimators=800, min_samples_split=10, max_depth=20, max_features=sqrt, min_samples_leaf=2, total=   5.7s\n",
      "[CV] bootstrap=True, n_estimators=800, min_samples_split=5, max_depth=None, max_features=auto, min_samples_leaf=2 \n",
      "[CV]  bootstrap=False, n_estimators=2000, min_samples_split=10, max_depth=100, max_features=auto, min_samples_leaf=4, total=  28.1s\n",
      "[CV] bootstrap=True, n_estimators=800, min_samples_split=5, max_depth=None, max_features=auto, min_samples_leaf=2 \n",
      "[CV]  bootstrap=False, n_estimators=800, min_samples_split=10, max_depth=20, max_features=sqrt, min_samples_leaf=2, total=   5.2s\n",
      "[CV] bootstrap=True, n_estimators=800, min_samples_split=5, max_depth=None, max_features=auto, min_samples_leaf=2 \n",
      "[CV]  bootstrap=False, n_estimators=800, min_samples_split=10, max_depth=20, max_features=sqrt, min_samples_leaf=2, total=   6.3s\n",
      "[CV] bootstrap=True, n_estimators=800, min_samples_split=5, max_depth=None, max_features=auto, min_samples_leaf=2 \n",
      "[CV]  bootstrap=False, n_estimators=2000, min_samples_split=10, max_depth=100, max_features=auto, min_samples_leaf=4, total=  28.5s\n",
      "[CV] bootstrap=True, n_estimators=800, min_samples_split=5, max_depth=None, max_features=auto, min_samples_leaf=2 \n",
      "[CV]  bootstrap=False, n_estimators=800, min_samples_split=10, max_depth=20, max_features=sqrt, min_samples_leaf=2, total=   6.7s\n",
      "[CV] bootstrap=True, n_estimators=1000, min_samples_split=2, max_depth=60, max_features=sqrt, min_samples_leaf=2 \n",
      "[CV]  bootstrap=False, n_estimators=1400, min_samples_split=2, max_depth=40, max_features=auto, min_samples_leaf=1, total=  32.0s\n",
      "[CV] bootstrap=True, n_estimators=1000, min_samples_split=2, max_depth=60, max_features=sqrt, min_samples_leaf=2 \n",
      "[CV]  bootstrap=False, n_estimators=800, min_samples_split=10, max_depth=20, max_features=sqrt, min_samples_leaf=2, total=   7.1s\n",
      "[CV] bootstrap=True, n_estimators=1000, min_samples_split=2, max_depth=60, max_features=sqrt, min_samples_leaf=2 \n",
      "[CV]  bootstrap=True, n_estimators=1200, min_samples_split=5, max_depth=20, max_features=sqrt, min_samples_leaf=2, total=   7.1s\n",
      "[CV] bootstrap=True, n_estimators=1000, min_samples_split=2, max_depth=60, max_features=sqrt, min_samples_leaf=2 \n",
      "[CV]  bootstrap=True, n_estimators=1200, min_samples_split=5, max_depth=20, max_features=sqrt, min_samples_leaf=2, total=   6.7s\n",
      "[CV] bootstrap=True, n_estimators=1000, min_samples_split=2, max_depth=60, max_features=sqrt, min_samples_leaf=2 \n",
      "[CV]  bootstrap=True, n_estimators=1800, min_samples_split=2, max_depth=90, max_features=sqrt, min_samples_leaf=4, total=  10.8s\n",
      "[CV] bootstrap=True, n_estimators=200, min_samples_split=5, max_depth=10, max_features=auto, min_samples_leaf=4 \n",
      "[CV]  bootstrap=True, n_estimators=1200, min_samples_split=5, max_depth=20, max_features=sqrt, min_samples_leaf=2, total=   8.2s\n",
      "[CV] bootstrap=True, n_estimators=200, min_samples_split=5, max_depth=10, max_features=auto, min_samples_leaf=4 \n",
      "[CV]  bootstrap=False, n_estimators=2000, min_samples_split=10, max_depth=100, max_features=auto, min_samples_leaf=4, total=  27.6s\n",
      "[CV] bootstrap=True, n_estimators=200, min_samples_split=5, max_depth=10, max_features=auto, min_samples_leaf=4 \n",
      "[CV]  bootstrap=True, n_estimators=1800, min_samples_split=2, max_depth=90, max_features=sqrt, min_samples_leaf=4, total=  11.2s\n",
      "[CV] bootstrap=True, n_estimators=200, min_samples_split=5, max_depth=10, max_features=auto, min_samples_leaf=4 \n",
      "[CV]  bootstrap=True, n_estimators=1800, min_samples_split=2, max_depth=90, max_features=sqrt, min_samples_leaf=4, total=  11.1s\n",
      "[CV] bootstrap=True, n_estimators=200, min_samples_split=5, max_depth=10, max_features=auto, min_samples_leaf=4 \n",
      "[CV]  bootstrap=True, n_estimators=1800, min_samples_split=2, max_depth=90, max_features=sqrt, min_samples_leaf=4, total=  10.9s\n"
     ]
    },
    {
     "name": "stdout",
     "output_type": "stream",
     "text": [
      "[CV] bootstrap=True, n_estimators=600, min_samples_split=10, max_depth=60, max_features=sqrt, min_samples_leaf=2 \n",
      "[CV]  bootstrap=True, n_estimators=1800, min_samples_split=2, max_depth=90, max_features=sqrt, min_samples_leaf=4, total=  12.4s\n",
      "[CV] bootstrap=True, n_estimators=600, min_samples_split=10, max_depth=60, max_features=sqrt, min_samples_leaf=2 \n",
      "[CV]  bootstrap=True, n_estimators=1200, min_samples_split=5, max_depth=20, max_features=sqrt, min_samples_leaf=2, total=   8.8s\n",
      "[CV] bootstrap=True, n_estimators=600, min_samples_split=10, max_depth=60, max_features=sqrt, min_samples_leaf=2 \n",
      "[CV]  bootstrap=True, n_estimators=1200, min_samples_split=5, max_depth=20, max_features=sqrt, min_samples_leaf=2, total=   8.3s\n",
      "[CV] bootstrap=True, n_estimators=600, min_samples_split=10, max_depth=60, max_features=sqrt, min_samples_leaf=2 \n",
      "[CV]  bootstrap=True, n_estimators=200, min_samples_split=5, max_depth=10, max_features=auto, min_samples_leaf=4, total=   2.0s\n",
      "[CV] bootstrap=True, n_estimators=600, min_samples_split=10, max_depth=60, max_features=sqrt, min_samples_leaf=2 \n",
      "[CV]  bootstrap=True, n_estimators=200, min_samples_split=5, max_depth=10, max_features=auto, min_samples_leaf=4, total=   1.7s\n",
      "[CV] bootstrap=True, n_estimators=800, min_samples_split=2, max_depth=90, max_features=sqrt, min_samples_leaf=4 \n",
      "[CV]  bootstrap=True, n_estimators=200, min_samples_split=5, max_depth=10, max_features=auto, min_samples_leaf=4, total=   2.8s\n",
      "[CV] bootstrap=True, n_estimators=800, min_samples_split=2, max_depth=90, max_features=sqrt, min_samples_leaf=4 \n",
      "[CV]  bootstrap=True, n_estimators=200, min_samples_split=5, max_depth=10, max_features=auto, min_samples_leaf=4, total=   2.0s\n",
      "[CV] bootstrap=True, n_estimators=800, min_samples_split=2, max_depth=90, max_features=sqrt, min_samples_leaf=4 \n",
      "[CV]  bootstrap=True, n_estimators=200, min_samples_split=5, max_depth=10, max_features=auto, min_samples_leaf=4, total=   2.2s\n",
      "[CV] bootstrap=True, n_estimators=800, min_samples_split=2, max_depth=90, max_features=sqrt, min_samples_leaf=4 \n",
      "[CV]  bootstrap=True, n_estimators=800, min_samples_split=2, max_depth=100, max_features=auto, min_samples_leaf=1, total=   9.6s\n",
      "[CV] bootstrap=True, n_estimators=800, min_samples_split=2, max_depth=90, max_features=sqrt, min_samples_leaf=4 \n",
      "[CV]  bootstrap=True, n_estimators=1000, min_samples_split=2, max_depth=60, max_features=sqrt, min_samples_leaf=2, total=   6.6s\n",
      "[CV]  bootstrap=True, n_estimators=800, min_samples_split=2, max_depth=100, max_features=auto, min_samples_leaf=1, total=   9.8s\n",
      "[CV] bootstrap=True, n_estimators=400, min_samples_split=10, max_depth=90, max_features=sqrt, min_samples_leaf=4 \n",
      "[CV] bootstrap=True, n_estimators=400, min_samples_split=10, max_depth=90, max_features=sqrt, min_samples_leaf=4 \n",
      "[CV]  bootstrap=True, n_estimators=1000, min_samples_split=2, max_depth=60, max_features=sqrt, min_samples_leaf=2, total=   6.9s\n",
      "[CV] bootstrap=True, n_estimators=400, min_samples_split=10, max_depth=90, max_features=sqrt, min_samples_leaf=4 \n",
      "[CV]  bootstrap=True, n_estimators=800, min_samples_split=5, max_depth=None, max_features=auto, min_samples_leaf=2, total=   8.5s\n",
      "[CV] bootstrap=True, n_estimators=400, min_samples_split=10, max_depth=90, max_features=sqrt, min_samples_leaf=4 \n",
      "[CV]  bootstrap=True, n_estimators=600, min_samples_split=10, max_depth=60, max_features=sqrt, min_samples_leaf=2, total=   4.2s\n",
      "[CV] bootstrap=True, n_estimators=400, min_samples_split=10, max_depth=90, max_features=sqrt, min_samples_leaf=4 \n",
      "[CV]  bootstrap=True, n_estimators=800, min_samples_split=5, max_depth=None, max_features=auto, min_samples_leaf=2, total=   8.8s\n",
      "[CV]  bootstrap=True, n_estimators=800, min_samples_split=5, max_depth=None, max_features=auto, min_samples_leaf=2, total=   8.9s\n",
      "[CV] bootstrap=False, n_estimators=200, min_samples_split=5, max_depth=90, max_features=auto, min_samples_leaf=2 \n",
      "[CV] bootstrap=False, n_estimators=200, min_samples_split=5, max_depth=90, max_features=auto, min_samples_leaf=2 \n",
      "[CV]  bootstrap=True, n_estimators=800, min_samples_split=5, max_depth=None, max_features=auto, min_samples_leaf=2, total=   8.7s\n",
      "[CV]  bootstrap=True, n_estimators=800, min_samples_split=2, max_depth=100, max_features=auto, min_samples_leaf=1, total=  10.7s\n",
      "[CV] bootstrap=False, n_estimators=200, min_samples_split=5, max_depth=90, max_features=auto, min_samples_leaf=2 \n",
      "[CV]  bootstrap=True, n_estimators=600, min_samples_split=10, max_depth=60, max_features=sqrt, min_samples_leaf=2, total=   4.0s\n",
      "[CV]  bootstrap=True, n_estimators=600, min_samples_split=10, max_depth=60, max_features=sqrt, min_samples_leaf=2, total=   3.5s\n",
      "[CV] bootstrap=False, n_estimators=200, min_samples_split=5, max_depth=90, max_features=auto, min_samples_leaf=2 \n",
      "[CV] bootstrap=False, n_estimators=200, min_samples_split=5, max_depth=90, max_features=auto, min_samples_leaf=2 \n",
      "[CV] bootstrap=True, n_estimators=1000, min_samples_split=2, max_depth=110, max_features=sqrt, min_samples_leaf=1 \n",
      "[CV]  bootstrap=True, n_estimators=600, min_samples_split=10, max_depth=60, max_features=sqrt, min_samples_leaf=2, total=   3.6s\n",
      "[CV] bootstrap=True, n_estimators=1000, min_samples_split=2, max_depth=110, max_features=sqrt, min_samples_leaf=1 \n",
      "[CV]  bootstrap=True, n_estimators=1000, min_samples_split=2, max_depth=60, max_features=sqrt, min_samples_leaf=2, total=   7.7s\n",
      "[CV] bootstrap=True, n_estimators=1000, min_samples_split=2, max_depth=110, max_features=sqrt, min_samples_leaf=1 \n",
      "[CV]  bootstrap=True, n_estimators=400, min_samples_split=10, max_depth=90, max_features=sqrt, min_samples_leaf=4, total=   1.9s\n",
      "[CV] bootstrap=True, n_estimators=1000, min_samples_split=2, max_depth=110, max_features=sqrt, min_samples_leaf=1 \n",
      "[CV]  bootstrap=True, n_estimators=600, min_samples_split=10, max_depth=60, max_features=sqrt, min_samples_leaf=2, total=   4.7s\n",
      "[CV]  bootstrap=True, n_estimators=1000, min_samples_split=2, max_depth=60, max_features=sqrt, min_samples_leaf=2, total=   7.1s\n",
      "[CV] bootstrap=True, n_estimators=1000, min_samples_split=2, max_depth=110, max_features=sqrt, min_samples_leaf=1 \n",
      "[CV] bootstrap=True, n_estimators=2000, min_samples_split=2, max_depth=90, max_features=auto, min_samples_leaf=2 \n",
      "[CV]  bootstrap=True, n_estimators=800, min_samples_split=2, max_depth=100, max_features=auto, min_samples_leaf=1, total=  10.6s\n",
      "[CV] bootstrap=True, n_estimators=2000, min_samples_split=2, max_depth=90, max_features=auto, min_samples_leaf=2 \n",
      "[CV]  bootstrap=True, n_estimators=400, min_samples_split=10, max_depth=90, max_features=sqrt, min_samples_leaf=4, total=   2.3s\n",
      "[CV] bootstrap=True, n_estimators=2000, min_samples_split=2, max_depth=90, max_features=auto, min_samples_leaf=2 \n",
      "[CV]  bootstrap=True, n_estimators=800, min_samples_split=5, max_depth=None, max_features=auto, min_samples_leaf=2, total=   9.6s\n",
      "[CV] bootstrap=True, n_estimators=2000, min_samples_split=2, max_depth=90, max_features=auto, min_samples_leaf=2 \n",
      "[CV]  bootstrap=True, n_estimators=400, min_samples_split=10, max_depth=90, max_features=sqrt, min_samples_leaf=4, total=   2.4s\n",
      "[CV]  bootstrap=True, n_estimators=800, min_samples_split=2, max_depth=100, max_features=auto, min_samples_leaf=1, total=  10.8s\n",
      "[CV] bootstrap=True, n_estimators=2000, min_samples_split=2, max_depth=90, max_features=auto, min_samples_leaf=2 \n",
      "[CV] bootstrap=False, n_estimators=400, min_samples_split=10, max_depth=80, max_features=sqrt, min_samples_leaf=4 \n",
      "[CV]  bootstrap=True, n_estimators=800, min_samples_split=2, max_depth=90, max_features=sqrt, min_samples_leaf=4, total=   4.3s\n",
      "[CV] bootstrap=False, n_estimators=400, min_samples_split=10, max_depth=80, max_features=sqrt, min_samples_leaf=4 \n",
      "[CV]  bootstrap=True, n_estimators=1000, min_samples_split=2, max_depth=60, max_features=sqrt, min_samples_leaf=2, total=   7.2s\n",
      "[CV] bootstrap=False, n_estimators=400, min_samples_split=10, max_depth=80, max_features=sqrt, min_samples_leaf=4 \n",
      "[CV]  bootstrap=True, n_estimators=400, min_samples_split=10, max_depth=90, max_features=sqrt, min_samples_leaf=4, total=   2.8s\n",
      "[CV] bootstrap=False, n_estimators=400, min_samples_split=10, max_depth=80, max_features=sqrt, min_samples_leaf=4 \n",
      "[CV]  bootstrap=True, n_estimators=400, min_samples_split=10, max_depth=90, max_features=sqrt, min_samples_leaf=4, total=   2.3s\n"
     ]
    },
    {
     "name": "stdout",
     "output_type": "stream",
     "text": [
      "[CV] bootstrap=False, n_estimators=400, min_samples_split=10, max_depth=80, max_features=sqrt, min_samples_leaf=4 \n",
      "[CV]  bootstrap=True, n_estimators=800, min_samples_split=2, max_depth=90, max_features=sqrt, min_samples_leaf=4, total=   4.7s\n",
      "[CV] bootstrap=False, n_estimators=1200, min_samples_split=2, max_depth=70, max_features=sqrt, min_samples_leaf=4 \n",
      "[CV]  bootstrap=True, n_estimators=800, min_samples_split=2, max_depth=90, max_features=sqrt, min_samples_leaf=4, total=   5.2s\n",
      "[CV] bootstrap=False, n_estimators=1200, min_samples_split=2, max_depth=70, max_features=sqrt, min_samples_leaf=4 \n",
      "[CV]  bootstrap=True, n_estimators=800, min_samples_split=2, max_depth=90, max_features=sqrt, min_samples_leaf=4, total=   4.9s\n",
      "[CV] bootstrap=False, n_estimators=1200, min_samples_split=2, max_depth=70, max_features=sqrt, min_samples_leaf=4 \n",
      "[CV]  bootstrap=False, n_estimators=200, min_samples_split=5, max_depth=90, max_features=auto, min_samples_leaf=2, total=   3.1s\n",
      "[CV] bootstrap=False, n_estimators=1200, min_samples_split=2, max_depth=70, max_features=sqrt, min_samples_leaf=4 \n",
      "[CV]  bootstrap=False, n_estimators=200, min_samples_split=5, max_depth=90, max_features=auto, min_samples_leaf=2, total=   3.2s\n",
      "[CV] bootstrap=False, n_estimators=1200, min_samples_split=2, max_depth=70, max_features=sqrt, min_samples_leaf=4 \n",
      "[CV]  bootstrap=False, n_estimators=200, min_samples_split=5, max_depth=90, max_features=auto, min_samples_leaf=2, total=   3.3s\n",
      "[CV] bootstrap=False, n_estimators=600, min_samples_split=2, max_depth=110, max_features=sqrt, min_samples_leaf=2 \n",
      "[CV]  bootstrap=False, n_estimators=200, min_samples_split=5, max_depth=90, max_features=auto, min_samples_leaf=2, total=   3.4s\n",
      "[CV]  bootstrap=False, n_estimators=200, min_samples_split=5, max_depth=90, max_features=auto, min_samples_leaf=2, total=   3.4s\n",
      "[CV] bootstrap=False, n_estimators=600, min_samples_split=2, max_depth=110, max_features=sqrt, min_samples_leaf=2 \n",
      "[CV] bootstrap=False, n_estimators=600, min_samples_split=2, max_depth=110, max_features=sqrt, min_samples_leaf=2 \n",
      "[CV]  bootstrap=True, n_estimators=800, min_samples_split=2, max_depth=90, max_features=sqrt, min_samples_leaf=4, total=   5.8s\n",
      "[CV] bootstrap=False, n_estimators=600, min_samples_split=2, max_depth=110, max_features=sqrt, min_samples_leaf=2 \n",
      "[CV]  bootstrap=False, n_estimators=400, min_samples_split=10, max_depth=80, max_features=sqrt, min_samples_leaf=4, total=   3.3s\n",
      "[CV] bootstrap=False, n_estimators=600, min_samples_split=2, max_depth=110, max_features=sqrt, min_samples_leaf=2 \n",
      "[CV]  bootstrap=False, n_estimators=400, min_samples_split=10, max_depth=80, max_features=sqrt, min_samples_leaf=4, total=   3.6s\n",
      "[CV]  bootstrap=False, n_estimators=400, min_samples_split=10, max_depth=80, max_features=sqrt, min_samples_leaf=4, total=   3.3s\n",
      "[CV] bootstrap=False, n_estimators=1800, min_samples_split=2, max_depth=20, max_features=auto, min_samples_leaf=1 \n",
      "[CV] bootstrap=False, n_estimators=1800, min_samples_split=2, max_depth=20, max_features=auto, min_samples_leaf=1 \n",
      "[CV]  bootstrap=False, n_estimators=400, min_samples_split=10, max_depth=80, max_features=sqrt, min_samples_leaf=4, total=   3.4s\n",
      "[CV] bootstrap=False, n_estimators=1800, min_samples_split=2, max_depth=20, max_features=auto, min_samples_leaf=1 \n",
      "[CV]  bootstrap=False, n_estimators=400, min_samples_split=10, max_depth=80, max_features=sqrt, min_samples_leaf=4, total=   3.7s\n",
      "[CV] bootstrap=False, n_estimators=1800, min_samples_split=2, max_depth=20, max_features=auto, min_samples_leaf=1 \n",
      "[CV]  bootstrap=True, n_estimators=1000, min_samples_split=2, max_depth=110, max_features=sqrt, min_samples_leaf=1, total=   6.5s\n",
      "[CV] bootstrap=False, n_estimators=1800, min_samples_split=2, max_depth=20, max_features=auto, min_samples_leaf=1 \n",
      "[CV]  bootstrap=True, n_estimators=1000, min_samples_split=2, max_depth=110, max_features=sqrt, min_samples_leaf=1, total=   6.9s\n",
      "[CV] bootstrap=False, n_estimators=2000, min_samples_split=10, max_depth=50, max_features=auto, min_samples_leaf=2 \n",
      "[CV]  bootstrap=True, n_estimators=1000, min_samples_split=2, max_depth=110, max_features=sqrt, min_samples_leaf=1, total=   8.1s\n",
      "[CV] bootstrap=False, n_estimators=2000, min_samples_split=10, max_depth=50, max_features=auto, min_samples_leaf=2 \n",
      "[CV]  bootstrap=False, n_estimators=600, min_samples_split=2, max_depth=110, max_features=sqrt, min_samples_leaf=2, total=   5.2s\n",
      "[CV]  bootstrap=False, n_estimators=600, min_samples_split=2, max_depth=110, max_features=sqrt, min_samples_leaf=2, total=   5.3s\n",
      "[CV] bootstrap=False, n_estimators=2000, min_samples_split=10, max_depth=50, max_features=auto, min_samples_leaf=2 \n",
      "[CV] bootstrap=False, n_estimators=2000, min_samples_split=10, max_depth=50, max_features=auto, min_samples_leaf=2 \n",
      "[CV]  bootstrap=True, n_estimators=1000, min_samples_split=2, max_depth=110, max_features=sqrt, min_samples_leaf=1, total=   8.1s\n",
      "[CV]  bootstrap=True, n_estimators=1000, min_samples_split=2, max_depth=110, max_features=sqrt, min_samples_leaf=1, total=   8.6s\n",
      "[CV] bootstrap=False, n_estimators=2000, min_samples_split=10, max_depth=50, max_features=auto, min_samples_leaf=2 \n",
      "[CV] bootstrap=False, n_estimators=1000, min_samples_split=10, max_depth=50, max_features=auto, min_samples_leaf=4 \n",
      "[CV]  bootstrap=False, n_estimators=600, min_samples_split=2, max_depth=110, max_features=sqrt, min_samples_leaf=2, total=   5.1s\n",
      "[CV] bootstrap=False, n_estimators=1000, min_samples_split=10, max_depth=50, max_features=auto, min_samples_leaf=4 \n",
      "[CV]  bootstrap=False, n_estimators=600, min_samples_split=2, max_depth=110, max_features=sqrt, min_samples_leaf=2, total=   6.5s\n",
      "[CV] bootstrap=False, n_estimators=1000, min_samples_split=10, max_depth=50, max_features=auto, min_samples_leaf=4 \n",
      "[CV]  bootstrap=False, n_estimators=600, min_samples_split=2, max_depth=110, max_features=sqrt, min_samples_leaf=2, total=   5.4s\n",
      "[CV] bootstrap=False, n_estimators=1000, min_samples_split=10, max_depth=50, max_features=auto, min_samples_leaf=4 \n",
      "[CV]  bootstrap=False, n_estimators=1200, min_samples_split=2, max_depth=70, max_features=sqrt, min_samples_leaf=4, total=   7.6s\n",
      "[CV] bootstrap=False, n_estimators=1000, min_samples_split=10, max_depth=50, max_features=auto, min_samples_leaf=4 \n",
      "[CV]  bootstrap=False, n_estimators=1200, min_samples_split=2, max_depth=70, max_features=sqrt, min_samples_leaf=4, total=   8.5s\n",
      "[CV]  bootstrap=False, n_estimators=1200, min_samples_split=2, max_depth=70, max_features=sqrt, min_samples_leaf=4, total=   8.2s\n",
      "[CV] bootstrap=False, n_estimators=1000, min_samples_split=5, max_depth=30, max_features=auto, min_samples_leaf=4 \n",
      "[CV] bootstrap=False, n_estimators=1000, min_samples_split=5, max_depth=30, max_features=auto, min_samples_leaf=4 \n",
      "[CV]  bootstrap=False, n_estimators=1200, min_samples_split=2, max_depth=70, max_features=sqrt, min_samples_leaf=4, total=   9.0s\n",
      "[CV] bootstrap=False, n_estimators=1000, min_samples_split=5, max_depth=30, max_features=auto, min_samples_leaf=4 \n",
      "[CV]  bootstrap=False, n_estimators=1200, min_samples_split=2, max_depth=70, max_features=sqrt, min_samples_leaf=4, total=   9.2s\n",
      "[CV] bootstrap=False, n_estimators=1000, min_samples_split=5, max_depth=30, max_features=auto, min_samples_leaf=4 \n",
      "[CV]  bootstrap=False, n_estimators=1000, min_samples_split=10, max_depth=50, max_features=auto, min_samples_leaf=4, total=  13.0s\n",
      "[CV] bootstrap=False, n_estimators=1000, min_samples_split=5, max_depth=30, max_features=auto, min_samples_leaf=4 \n",
      "[CV]  bootstrap=True, n_estimators=2000, min_samples_split=2, max_depth=90, max_features=auto, min_samples_leaf=2, total=  22.4s\n",
      "[CV] bootstrap=False, n_estimators=1400, min_samples_split=5, max_depth=None, max_features=sqrt, min_samples_leaf=2 \n",
      "[CV]  bootstrap=False, n_estimators=1000, min_samples_split=5, max_depth=30, max_features=auto, min_samples_leaf=4, total=  12.0s\n",
      "[CV] bootstrap=False, n_estimators=1400, min_samples_split=5, max_depth=None, max_features=sqrt, min_samples_leaf=2 \n",
      "[CV]  bootstrap=False, n_estimators=1000, min_samples_split=10, max_depth=50, max_features=auto, min_samples_leaf=4, total=  12.7s\n",
      "[CV] bootstrap=False, n_estimators=1400, min_samples_split=5, max_depth=None, max_features=sqrt, min_samples_leaf=2 \n"
     ]
    },
    {
     "name": "stdout",
     "output_type": "stream",
     "text": [
      "[CV]  bootstrap=False, n_estimators=1000, min_samples_split=10, max_depth=50, max_features=auto, min_samples_leaf=4, total=  14.2s\n",
      "[CV] bootstrap=False, n_estimators=1400, min_samples_split=5, max_depth=None, max_features=sqrt, min_samples_leaf=2 \n",
      "[CV]  bootstrap=True, n_estimators=2000, min_samples_split=2, max_depth=90, max_features=auto, min_samples_leaf=2, total=  23.1s\n",
      "[CV] bootstrap=False, n_estimators=1400, min_samples_split=5, max_depth=None, max_features=sqrt, min_samples_leaf=2 \n",
      "[CV]  bootstrap=False, n_estimators=1000, min_samples_split=10, max_depth=50, max_features=auto, min_samples_leaf=4, total=  14.6s\n",
      "[CV] bootstrap=False, n_estimators=600, min_samples_split=2, max_depth=60, max_features=sqrt, min_samples_leaf=4 \n",
      "[CV]  bootstrap=True, n_estimators=2000, min_samples_split=2, max_depth=90, max_features=auto, min_samples_leaf=2, total=  23.7s\n",
      "[CV]  bootstrap=True, n_estimators=2000, min_samples_split=2, max_depth=90, max_features=auto, min_samples_leaf=2, total=  23.3s\n",
      "[CV] bootstrap=False, n_estimators=600, min_samples_split=2, max_depth=60, max_features=sqrt, min_samples_leaf=4 \n",
      "[CV] bootstrap=False, n_estimators=600, min_samples_split=2, max_depth=60, max_features=sqrt, min_samples_leaf=4 \n",
      "[CV]  bootstrap=True, n_estimators=2000, min_samples_split=2, max_depth=90, max_features=auto, min_samples_leaf=2, total=  23.7s\n",
      "[CV] bootstrap=False, n_estimators=600, min_samples_split=2, max_depth=60, max_features=sqrt, min_samples_leaf=4 \n",
      "[CV]  bootstrap=False, n_estimators=1000, min_samples_split=5, max_depth=30, max_features=auto, min_samples_leaf=4, total=  16.4s\n",
      "[CV] bootstrap=False, n_estimators=600, min_samples_split=2, max_depth=60, max_features=sqrt, min_samples_leaf=4 \n",
      "[CV]  bootstrap=False, n_estimators=1000, min_samples_split=10, max_depth=50, max_features=auto, min_samples_leaf=4, total=  18.1s\n",
      "[CV]  bootstrap=False, n_estimators=1000, min_samples_split=5, max_depth=30, max_features=auto, min_samples_leaf=4, total=  16.2s\n",
      "[CV] bootstrap=True, n_estimators=1600, min_samples_split=5, max_depth=10, max_features=auto, min_samples_leaf=1 \n",
      "[CV] bootstrap=True, n_estimators=1600, min_samples_split=5, max_depth=10, max_features=auto, min_samples_leaf=1 \n",
      "[CV]  bootstrap=False, n_estimators=600, min_samples_split=2, max_depth=60, max_features=sqrt, min_samples_leaf=4, total=   4.0s\n",
      "[CV] bootstrap=True, n_estimators=1600, min_samples_split=5, max_depth=10, max_features=auto, min_samples_leaf=1 \n",
      "[CV]  bootstrap=False, n_estimators=600, min_samples_split=2, max_depth=60, max_features=sqrt, min_samples_leaf=4, total=   4.2s\n",
      "[CV] bootstrap=True, n_estimators=1600, min_samples_split=5, max_depth=10, max_features=auto, min_samples_leaf=1 \n",
      "[CV]  bootstrap=False, n_estimators=600, min_samples_split=2, max_depth=60, max_features=sqrt, min_samples_leaf=4, total=   4.5s\n",
      "[CV] bootstrap=True, n_estimators=1600, min_samples_split=5, max_depth=10, max_features=auto, min_samples_leaf=1 \n",
      "[CV]  bootstrap=False, n_estimators=1000, min_samples_split=5, max_depth=30, max_features=auto, min_samples_leaf=4, total=  18.5s\n",
      "[CV] bootstrap=True, n_estimators=1800, min_samples_split=2, max_depth=80, max_features=auto, min_samples_leaf=2 \n",
      "[CV]  bootstrap=False, n_estimators=600, min_samples_split=2, max_depth=60, max_features=sqrt, min_samples_leaf=4, total=   4.5s\n",
      "[CV] bootstrap=True, n_estimators=1800, min_samples_split=2, max_depth=80, max_features=auto, min_samples_leaf=2 \n",
      "[CV]  bootstrap=False, n_estimators=600, min_samples_split=2, max_depth=60, max_features=sqrt, min_samples_leaf=4, total=   3.9s\n",
      "[CV] bootstrap=True, n_estimators=1800, min_samples_split=2, max_depth=80, max_features=auto, min_samples_leaf=2 \n",
      "[CV]  bootstrap=False, n_estimators=1400, min_samples_split=5, max_depth=None, max_features=sqrt, min_samples_leaf=2, total=   9.0s\n",
      "[CV] bootstrap=True, n_estimators=1800, min_samples_split=2, max_depth=80, max_features=auto, min_samples_leaf=2 \n",
      "[CV]  bootstrap=False, n_estimators=1400, min_samples_split=5, max_depth=None, max_features=sqrt, min_samples_leaf=2, total=   9.9s\n",
      "[CV] bootstrap=True, n_estimators=1800, min_samples_split=2, max_depth=80, max_features=auto, min_samples_leaf=2 \n",
      "[CV]  bootstrap=False, n_estimators=1000, min_samples_split=5, max_depth=30, max_features=auto, min_samples_leaf=4, total=  12.5s\n",
      "[CV] bootstrap=True, n_estimators=1400, min_samples_split=2, max_depth=100, max_features=auto, min_samples_leaf=1 \n",
      "[CV]  bootstrap=False, n_estimators=2000, min_samples_split=10, max_depth=50, max_features=auto, min_samples_leaf=2, total=  27.0s\n",
      "[CV] bootstrap=True, n_estimators=1400, min_samples_split=2, max_depth=100, max_features=auto, min_samples_leaf=1 \n",
      "[CV]  bootstrap=False, n_estimators=1400, min_samples_split=5, max_depth=None, max_features=sqrt, min_samples_leaf=2, total=  11.7s\n",
      "[CV] bootstrap=True, n_estimators=1400, min_samples_split=2, max_depth=100, max_features=auto, min_samples_leaf=1 \n",
      "[CV]  bootstrap=False, n_estimators=1400, min_samples_split=5, max_depth=None, max_features=sqrt, min_samples_leaf=2, total=  12.3s\n",
      "[CV] bootstrap=True, n_estimators=1400, min_samples_split=2, max_depth=100, max_features=auto, min_samples_leaf=1 \n",
      "[CV]  bootstrap=False, n_estimators=1400, min_samples_split=5, max_depth=None, max_features=sqrt, min_samples_leaf=2, total=  12.4s\n",
      "[CV] bootstrap=True, n_estimators=1400, min_samples_split=2, max_depth=100, max_features=auto, min_samples_leaf=1 \n",
      "[CV]  bootstrap=False, n_estimators=2000, min_samples_split=10, max_depth=50, max_features=auto, min_samples_leaf=2, total=  28.5s\n",
      "[CV] bootstrap=True, n_estimators=1400, min_samples_split=10, max_depth=80, max_features=sqrt, min_samples_leaf=2 \n",
      "[CV]  bootstrap=False, n_estimators=2000, min_samples_split=10, max_depth=50, max_features=auto, min_samples_leaf=2, total=  28.7s\n",
      "[CV] bootstrap=True, n_estimators=1400, min_samples_split=10, max_depth=80, max_features=sqrt, min_samples_leaf=2 \n",
      "[CV]  bootstrap=False, n_estimators=1800, min_samples_split=2, max_depth=20, max_features=auto, min_samples_leaf=1, total=  33.5s\n",
      "[CV] bootstrap=True, n_estimators=1400, min_samples_split=10, max_depth=80, max_features=sqrt, min_samples_leaf=2 \n",
      "[CV]  bootstrap=False, n_estimators=2000, min_samples_split=10, max_depth=50, max_features=auto, min_samples_leaf=2, total=  31.3s\n",
      "[CV] bootstrap=True, n_estimators=1400, min_samples_split=10, max_depth=80, max_features=sqrt, min_samples_leaf=2 \n",
      "[CV]  bootstrap=False, n_estimators=2000, min_samples_split=10, max_depth=50, max_features=auto, min_samples_leaf=2, total=  32.6s\n",
      "[CV] bootstrap=True, n_estimators=1400, min_samples_split=10, max_depth=80, max_features=sqrt, min_samples_leaf=2 \n",
      "[CV]  bootstrap=False, n_estimators=1800, min_samples_split=2, max_depth=20, max_features=auto, min_samples_leaf=1, total=  35.5s\n",
      "[CV] bootstrap=True, n_estimators=200, min_samples_split=2, max_depth=50, max_features=sqrt, min_samples_leaf=1 \n",
      "[CV]  bootstrap=False, n_estimators=1800, min_samples_split=2, max_depth=20, max_features=auto, min_samples_leaf=1, total=  35.7s\n",
      "[CV] bootstrap=True, n_estimators=200, min_samples_split=2, max_depth=50, max_features=sqrt, min_samples_leaf=1 \n",
      "[CV]  bootstrap=False, n_estimators=1800, min_samples_split=2, max_depth=20, max_features=auto, min_samples_leaf=1, total=  37.6s\n",
      "[CV]  bootstrap=True, n_estimators=200, min_samples_split=2, max_depth=50, max_features=sqrt, min_samples_leaf=1, total=   1.4s\n",
      "[CV] bootstrap=True, n_estimators=200, min_samples_split=2, max_depth=50, max_features=sqrt, min_samples_leaf=1 \n",
      "[CV] bootstrap=True, n_estimators=200, min_samples_split=2, max_depth=50, max_features=sqrt, min_samples_leaf=1 \n",
      "[CV]  bootstrap=True, n_estimators=200, min_samples_split=2, max_depth=50, max_features=sqrt, min_samples_leaf=1, total=   2.1s\n",
      "[CV] bootstrap=True, n_estimators=200, min_samples_split=2, max_depth=50, max_features=sqrt, min_samples_leaf=1 \n",
      "[CV]  bootstrap=True, n_estimators=1600, min_samples_split=5, max_depth=10, max_features=auto, min_samples_leaf=1, total=  15.2s\n",
      "[CV] bootstrap=True, n_estimators=400, min_samples_split=2, max_depth=10, max_features=sqrt, min_samples_leaf=4 \n",
      "[CV]  bootstrap=True, n_estimators=1600, min_samples_split=5, max_depth=10, max_features=auto, min_samples_leaf=1, total=  15.6s\n"
     ]
    },
    {
     "name": "stdout",
     "output_type": "stream",
     "text": [
      "[CV]  bootstrap=True, n_estimators=200, min_samples_split=2, max_depth=50, max_features=sqrt, min_samples_leaf=1, total=   1.6s\n",
      "[CV] bootstrap=True, n_estimators=400, min_samples_split=2, max_depth=10, max_features=sqrt, min_samples_leaf=4 \n",
      "[CV] bootstrap=True, n_estimators=400, min_samples_split=2, max_depth=10, max_features=sqrt, min_samples_leaf=4 \n",
      "[CV]  bootstrap=True, n_estimators=1600, min_samples_split=5, max_depth=10, max_features=auto, min_samples_leaf=1, total=  14.1s\n",
      "[CV]  bootstrap=True, n_estimators=200, min_samples_split=2, max_depth=50, max_features=sqrt, min_samples_leaf=1, total=   1.7s\n",
      "[CV] bootstrap=True, n_estimators=400, min_samples_split=2, max_depth=10, max_features=sqrt, min_samples_leaf=4 \n",
      "[CV] bootstrap=True, n_estimators=400, min_samples_split=2, max_depth=10, max_features=sqrt, min_samples_leaf=4 \n",
      "[CV]  bootstrap=True, n_estimators=1600, min_samples_split=5, max_depth=10, max_features=auto, min_samples_leaf=1, total=  15.1s\n",
      "[CV] bootstrap=False, n_estimators=1000, min_samples_split=10, max_depth=80, max_features=auto, min_samples_leaf=4 \n",
      "[CV]  bootstrap=True, n_estimators=1400, min_samples_split=10, max_depth=80, max_features=sqrt, min_samples_leaf=2, total=   7.2s\n",
      "[CV] bootstrap=False, n_estimators=1000, min_samples_split=10, max_depth=80, max_features=auto, min_samples_leaf=4 \n",
      "[CV]  bootstrap=True, n_estimators=200, min_samples_split=2, max_depth=50, max_features=sqrt, min_samples_leaf=1, total=   1.5s\n",
      "[CV] bootstrap=False, n_estimators=1000, min_samples_split=10, max_depth=80, max_features=auto, min_samples_leaf=4 \n",
      "[CV]  bootstrap=True, n_estimators=1600, min_samples_split=5, max_depth=10, max_features=auto, min_samples_leaf=1, total=  16.6s\n",
      "[CV] bootstrap=False, n_estimators=1000, min_samples_split=10, max_depth=80, max_features=auto, min_samples_leaf=4 \n",
      "[CV]  bootstrap=True, n_estimators=400, min_samples_split=2, max_depth=10, max_features=sqrt, min_samples_leaf=4, total=   1.8s\n",
      "[CV] bootstrap=False, n_estimators=1000, min_samples_split=10, max_depth=80, max_features=auto, min_samples_leaf=4 \n",
      "[CV]  bootstrap=True, n_estimators=400, min_samples_split=2, max_depth=10, max_features=sqrt, min_samples_leaf=4, total=   2.1s\n",
      "[CV] bootstrap=False, n_estimators=1200, min_samples_split=10, max_depth=None, max_features=auto, min_samples_leaf=2 \n",
      "[CV]  bootstrap=True, n_estimators=400, min_samples_split=2, max_depth=10, max_features=sqrt, min_samples_leaf=4, total=   2.0s\n",
      "[CV] bootstrap=False, n_estimators=1200, min_samples_split=10, max_depth=None, max_features=auto, min_samples_leaf=2 \n",
      "[CV]  bootstrap=True, n_estimators=400, min_samples_split=2, max_depth=10, max_features=sqrt, min_samples_leaf=4, total=   3.0s\n",
      "[CV]  bootstrap=True, n_estimators=1400, min_samples_split=10, max_depth=80, max_features=sqrt, min_samples_leaf=2, total=   7.7s\n",
      "[CV] bootstrap=False, n_estimators=1200, min_samples_split=10, max_depth=None, max_features=auto, min_samples_leaf=2 \n",
      "[CV] bootstrap=False, n_estimators=1200, min_samples_split=10, max_depth=None, max_features=auto, min_samples_leaf=2 \n",
      "[CV]  bootstrap=True, n_estimators=400, min_samples_split=2, max_depth=10, max_features=sqrt, min_samples_leaf=4, total=   3.2s\n",
      "[CV] bootstrap=False, n_estimators=1200, min_samples_split=10, max_depth=None, max_features=auto, min_samples_leaf=2 \n",
      "[CV]  bootstrap=False, n_estimators=1800, min_samples_split=2, max_depth=20, max_features=auto, min_samples_leaf=1, total=  41.4s\n",
      "[CV]  bootstrap=True, n_estimators=1400, min_samples_split=10, max_depth=80, max_features=sqrt, min_samples_leaf=2, total=  10.3s\n",
      "[CV] bootstrap=True, n_estimators=1600, min_samples_split=10, max_depth=20, max_features=sqrt, min_samples_leaf=1 \n",
      "[CV] bootstrap=True, n_estimators=1600, min_samples_split=10, max_depth=20, max_features=sqrt, min_samples_leaf=1 \n",
      "[CV]  bootstrap=True, n_estimators=1400, min_samples_split=10, max_depth=80, max_features=sqrt, min_samples_leaf=2, total=   8.2s\n",
      "[CV] bootstrap=True, n_estimators=1600, min_samples_split=10, max_depth=20, max_features=sqrt, min_samples_leaf=1 \n",
      "[CV]  bootstrap=True, n_estimators=1400, min_samples_split=10, max_depth=80, max_features=sqrt, min_samples_leaf=2, total=   9.0s\n",
      "[CV] bootstrap=True, n_estimators=1600, min_samples_split=10, max_depth=20, max_features=sqrt, min_samples_leaf=1 \n",
      "[CV]  bootstrap=True, n_estimators=1800, min_samples_split=2, max_depth=80, max_features=auto, min_samples_leaf=2, total=  19.2s\n",
      "[CV] bootstrap=True, n_estimators=1600, min_samples_split=10, max_depth=20, max_features=sqrt, min_samples_leaf=1 \n",
      "[CV]  bootstrap=True, n_estimators=1800, min_samples_split=2, max_depth=80, max_features=auto, min_samples_leaf=2, total=  19.3s\n",
      "[CV] bootstrap=True, n_estimators=1600, min_samples_split=10, max_depth=None, max_features=auto, min_samples_leaf=2 \n",
      "[CV]  bootstrap=True, n_estimators=1800, min_samples_split=2, max_depth=80, max_features=auto, min_samples_leaf=2, total=  19.2s\n",
      "[CV] bootstrap=True, n_estimators=1600, min_samples_split=10, max_depth=None, max_features=auto, min_samples_leaf=2 \n",
      "[CV]  bootstrap=True, n_estimators=1800, min_samples_split=2, max_depth=80, max_features=auto, min_samples_leaf=2, total=  20.7s\n",
      "[CV] bootstrap=True, n_estimators=1600, min_samples_split=10, max_depth=None, max_features=auto, min_samples_leaf=2 \n",
      "[CV]  bootstrap=True, n_estimators=1400, min_samples_split=2, max_depth=100, max_features=auto, min_samples_leaf=1, total=  18.9s\n",
      "[CV] bootstrap=True, n_estimators=1600, min_samples_split=10, max_depth=None, max_features=auto, min_samples_leaf=2 \n",
      "[CV]  bootstrap=True, n_estimators=1400, min_samples_split=2, max_depth=100, max_features=auto, min_samples_leaf=1, total=  20.0s\n",
      "[CV] bootstrap=True, n_estimators=1600, min_samples_split=10, max_depth=None, max_features=auto, min_samples_leaf=2 \n",
      "[CV]  bootstrap=True, n_estimators=1400, min_samples_split=2, max_depth=100, max_features=auto, min_samples_leaf=1, total=  21.4s\n",
      "[CV] bootstrap=False, n_estimators=1800, min_samples_split=2, max_depth=10, max_features=auto, min_samples_leaf=4 \n",
      "[CV]  bootstrap=True, n_estimators=1800, min_samples_split=2, max_depth=80, max_features=auto, min_samples_leaf=2, total=  23.4s\n",
      "[CV] bootstrap=False, n_estimators=1800, min_samples_split=2, max_depth=10, max_features=auto, min_samples_leaf=4 \n",
      "[CV]  bootstrap=False, n_estimators=1000, min_samples_split=10, max_depth=80, max_features=auto, min_samples_leaf=4, total=  12.2s\n",
      "[CV] bootstrap=False, n_estimators=1800, min_samples_split=2, max_depth=10, max_features=auto, min_samples_leaf=4 \n",
      "[CV]  bootstrap=True, n_estimators=1400, min_samples_split=2, max_depth=100, max_features=auto, min_samples_leaf=1, total=  20.3s\n",
      "[CV]  bootstrap=True, n_estimators=1400, min_samples_split=2, max_depth=100, max_features=auto, min_samples_leaf=1, total=  21.2s\n",
      "[CV] bootstrap=False, n_estimators=1800, min_samples_split=2, max_depth=10, max_features=auto, min_samples_leaf=4 \n",
      "[CV]  bootstrap=True, n_estimators=1600, min_samples_split=10, max_depth=20, max_features=sqrt, min_samples_leaf=1, total=   8.7s\n",
      "[CV] bootstrap=False, n_estimators=1800, min_samples_split=2, max_depth=10, max_features=auto, min_samples_leaf=4 \n",
      "[CV] bootstrap=True, n_estimators=1400, min_samples_split=2, max_depth=70, max_features=auto, min_samples_leaf=2 \n",
      "[CV]  bootstrap=False, n_estimators=1000, min_samples_split=10, max_depth=80, max_features=auto, min_samples_leaf=4, total=  13.1s\n",
      "[CV] bootstrap=True, n_estimators=1400, min_samples_split=2, max_depth=70, max_features=auto, min_samples_leaf=2 \n",
      "[CV]  bootstrap=False, n_estimators=1000, min_samples_split=10, max_depth=80, max_features=auto, min_samples_leaf=4, total=  12.6s\n",
      "[CV] bootstrap=True, n_estimators=1400, min_samples_split=2, max_depth=70, max_features=auto, min_samples_leaf=2 \n",
      "[CV]  bootstrap=True, n_estimators=1600, min_samples_split=10, max_depth=20, max_features=sqrt, min_samples_leaf=1, total=   8.8s\n",
      "[CV] bootstrap=True, n_estimators=1400, min_samples_split=2, max_depth=70, max_features=auto, min_samples_leaf=2 \n",
      "[CV]  bootstrap=True, n_estimators=1600, min_samples_split=10, max_depth=20, max_features=sqrt, min_samples_leaf=1, total=  10.7s\n",
      "[CV] bootstrap=True, n_estimators=1400, min_samples_split=2, max_depth=70, max_features=auto, min_samples_leaf=2 \n"
     ]
    },
    {
     "name": "stdout",
     "output_type": "stream",
     "text": [
      "[CV]  bootstrap=True, n_estimators=1600, min_samples_split=10, max_depth=20, max_features=sqrt, min_samples_leaf=1, total=  10.2s\n",
      "[CV] bootstrap=False, n_estimators=1000, min_samples_split=10, max_depth=80, max_features=sqrt, min_samples_leaf=1 \n"
     ]
    },
    {
     "name": "stderr",
     "output_type": "stream",
     "text": [
      "[Parallel(n_jobs=-1)]: Done 317 tasks      | elapsed:  2.8min\n"
     ]
    },
    {
     "name": "stdout",
     "output_type": "stream",
     "text": [
      "[CV]  bootstrap=True, n_estimators=1600, min_samples_split=10, max_depth=20, max_features=sqrt, min_samples_leaf=1, total=  11.5s\n",
      "[CV] bootstrap=False, n_estimators=1000, min_samples_split=10, max_depth=80, max_features=sqrt, min_samples_leaf=1 \n",
      "[CV]  bootstrap=False, n_estimators=1000, min_samples_split=10, max_depth=80, max_features=auto, min_samples_leaf=4, total=  15.4s\n",
      "[CV]  bootstrap=False, n_estimators=1000, min_samples_split=10, max_depth=80, max_features=auto, min_samples_leaf=4, total=  14.1s\n",
      "[CV] bootstrap=False, n_estimators=1000, min_samples_split=10, max_depth=80, max_features=sqrt, min_samples_leaf=1 \n",
      "[CV] bootstrap=False, n_estimators=1000, min_samples_split=10, max_depth=80, max_features=sqrt, min_samples_leaf=1 \n",
      "[CV]  bootstrap=False, n_estimators=1200, min_samples_split=10, max_depth=None, max_features=auto, min_samples_leaf=2, total=  16.0s\n",
      "[CV] bootstrap=False, n_estimators=1000, min_samples_split=10, max_depth=80, max_features=sqrt, min_samples_leaf=1 \n",
      "[CV]  bootstrap=False, n_estimators=1200, min_samples_split=10, max_depth=None, max_features=auto, min_samples_leaf=2, total=  17.9s\n",
      "[CV] bootstrap=False, n_estimators=2000, min_samples_split=10, max_depth=60, max_features=auto, min_samples_leaf=2 \n",
      "[CV]  bootstrap=False, n_estimators=1200, min_samples_split=10, max_depth=None, max_features=auto, min_samples_leaf=2, total=  18.1s\n",
      "[CV]  bootstrap=False, n_estimators=1200, min_samples_split=10, max_depth=None, max_features=auto, min_samples_leaf=2, total=  18.5s\n",
      "[CV] bootstrap=False, n_estimators=2000, min_samples_split=10, max_depth=60, max_features=auto, min_samples_leaf=2 \n",
      "[CV] bootstrap=False, n_estimators=2000, min_samples_split=10, max_depth=60, max_features=auto, min_samples_leaf=2 \n",
      "[CV]  bootstrap=True, n_estimators=1600, min_samples_split=10, max_depth=None, max_features=auto, min_samples_leaf=2, total=  16.9s\n",
      "[CV] bootstrap=False, n_estimators=2000, min_samples_split=10, max_depth=60, max_features=auto, min_samples_leaf=2 \n",
      "[CV]  bootstrap=False, n_estimators=1200, min_samples_split=10, max_depth=None, max_features=auto, min_samples_leaf=2, total=  20.6s\n",
      "[CV] bootstrap=False, n_estimators=2000, min_samples_split=10, max_depth=60, max_features=auto, min_samples_leaf=2 \n",
      "[CV]  bootstrap=False, n_estimators=1000, min_samples_split=10, max_depth=80, max_features=sqrt, min_samples_leaf=1, total=   7.5s\n",
      "[CV]  bootstrap=False, n_estimators=1000, min_samples_split=10, max_depth=80, max_features=sqrt, min_samples_leaf=1, total=   7.6s\n",
      "[CV] bootstrap=False, n_estimators=1400, min_samples_split=2, max_depth=80, max_features=sqrt, min_samples_leaf=4 \n",
      "[CV] bootstrap=False, n_estimators=1400, min_samples_split=2, max_depth=80, max_features=sqrt, min_samples_leaf=4 \n",
      "[CV]  bootstrap=False, n_estimators=1000, min_samples_split=10, max_depth=80, max_features=sqrt, min_samples_leaf=1, total=   7.1s\n",
      "[CV] bootstrap=False, n_estimators=1400, min_samples_split=2, max_depth=80, max_features=sqrt, min_samples_leaf=4 \n",
      "[CV]  bootstrap=False, n_estimators=1000, min_samples_split=10, max_depth=80, max_features=sqrt, min_samples_leaf=1, total=   7.6s\n",
      "[CV] bootstrap=False, n_estimators=1400, min_samples_split=2, max_depth=80, max_features=sqrt, min_samples_leaf=4 \n",
      "[CV]  bootstrap=True, n_estimators=1600, min_samples_split=10, max_depth=None, max_features=auto, min_samples_leaf=2, total=  18.1s\n",
      "[CV] bootstrap=False, n_estimators=1400, min_samples_split=2, max_depth=80, max_features=sqrt, min_samples_leaf=4 \n",
      "[CV]  bootstrap=True, n_estimators=1400, min_samples_split=2, max_depth=70, max_features=auto, min_samples_leaf=2, total=  13.8s\n",
      "[CV] bootstrap=False, n_estimators=800, min_samples_split=2, max_depth=20, max_features=sqrt, min_samples_leaf=4 \n",
      "[CV]  bootstrap=True, n_estimators=1400, min_samples_split=2, max_depth=70, max_features=auto, min_samples_leaf=2, total=  14.6s\n",
      "[CV] bootstrap=False, n_estimators=800, min_samples_split=2, max_depth=20, max_features=sqrt, min_samples_leaf=4 \n",
      "[CV]  bootstrap=True, n_estimators=1400, min_samples_split=2, max_depth=70, max_features=auto, min_samples_leaf=2, total=  14.9s\n",
      "[CV] bootstrap=False, n_estimators=800, min_samples_split=2, max_depth=20, max_features=sqrt, min_samples_leaf=4 \n",
      "[CV]  bootstrap=True, n_estimators=1600, min_samples_split=10, max_depth=None, max_features=auto, min_samples_leaf=2, total=  17.9s\n",
      "[CV] bootstrap=False, n_estimators=800, min_samples_split=2, max_depth=20, max_features=sqrt, min_samples_leaf=4 \n",
      "[CV]  bootstrap=False, n_estimators=1000, min_samples_split=10, max_depth=80, max_features=sqrt, min_samples_leaf=1, total=  10.3s\n",
      "[CV] bootstrap=False, n_estimators=800, min_samples_split=2, max_depth=20, max_features=sqrt, min_samples_leaf=4 \n",
      "[CV]  bootstrap=True, n_estimators=1600, min_samples_split=10, max_depth=None, max_features=auto, min_samples_leaf=2, total=  17.8s\n",
      "[CV] bootstrap=True, n_estimators=1800, min_samples_split=5, max_depth=60, max_features=sqrt, min_samples_leaf=2 \n",
      "[CV]  bootstrap=True, n_estimators=1400, min_samples_split=2, max_depth=70, max_features=auto, min_samples_leaf=2, total=  16.2s\n",
      "[CV] bootstrap=True, n_estimators=1800, min_samples_split=5, max_depth=60, max_features=sqrt, min_samples_leaf=2 \n",
      "[CV]  bootstrap=True, n_estimators=1600, min_samples_split=10, max_depth=None, max_features=auto, min_samples_leaf=2, total=  18.2s\n",
      "[CV] bootstrap=True, n_estimators=1800, min_samples_split=5, max_depth=60, max_features=sqrt, min_samples_leaf=2 \n",
      "[CV]  bootstrap=False, n_estimators=1400, min_samples_split=2, max_depth=80, max_features=sqrt, min_samples_leaf=4, total=   8.6s\n",
      "[CV] bootstrap=True, n_estimators=1800, min_samples_split=5, max_depth=60, max_features=sqrt, min_samples_leaf=2 \n",
      "[CV]  bootstrap=True, n_estimators=1400, min_samples_split=2, max_depth=70, max_features=auto, min_samples_leaf=2, total=  17.1s\n",
      "[CV]  bootstrap=False, n_estimators=800, min_samples_split=2, max_depth=20, max_features=sqrt, min_samples_leaf=4, total=   5.2s\n",
      "[CV] bootstrap=True, n_estimators=1800, min_samples_split=5, max_depth=60, max_features=sqrt, min_samples_leaf=2 \n",
      "[CV] bootstrap=False, n_estimators=400, min_samples_split=5, max_depth=90, max_features=auto, min_samples_leaf=1 \n",
      "[CV]  bootstrap=False, n_estimators=1400, min_samples_split=2, max_depth=80, max_features=sqrt, min_samples_leaf=4, total=   9.4s\n",
      "[CV] bootstrap=False, n_estimators=400, min_samples_split=5, max_depth=90, max_features=auto, min_samples_leaf=1 \n",
      "[CV]  bootstrap=False, n_estimators=800, min_samples_split=2, max_depth=20, max_features=sqrt, min_samples_leaf=4, total=   5.1s\n",
      "[CV] bootstrap=False, n_estimators=400, min_samples_split=5, max_depth=90, max_features=auto, min_samples_leaf=1 \n",
      "[CV]  bootstrap=False, n_estimators=1400, min_samples_split=2, max_depth=80, max_features=sqrt, min_samples_leaf=4, total=   9.9s\n",
      "[CV] bootstrap=False, n_estimators=400, min_samples_split=5, max_depth=90, max_features=auto, min_samples_leaf=1 \n",
      "[CV]  bootstrap=False, n_estimators=1800, min_samples_split=2, max_depth=10, max_features=auto, min_samples_leaf=4, total=  21.5s\n",
      "[CV] bootstrap=False, n_estimators=400, min_samples_split=5, max_depth=90, max_features=auto, min_samples_leaf=1 \n",
      "[CV]  bootstrap=False, n_estimators=1800, min_samples_split=2, max_depth=10, max_features=auto, min_samples_leaf=4, total=  23.2s\n",
      "[CV]  bootstrap=False, n_estimators=800, min_samples_split=2, max_depth=20, max_features=sqrt, min_samples_leaf=4, total=   6.4s\n",
      "[CV] bootstrap=True, n_estimators=1600, min_samples_split=5, max_depth=90, max_features=auto, min_samples_leaf=1 \n",
      "[CV] bootstrap=True, n_estimators=1600, min_samples_split=5, max_depth=90, max_features=auto, min_samples_leaf=1 \n",
      "[CV]  bootstrap=False, n_estimators=1800, min_samples_split=2, max_depth=10, max_features=auto, min_samples_leaf=4, total=  22.4s\n",
      "[CV] bootstrap=True, n_estimators=1600, min_samples_split=5, max_depth=90, max_features=auto, min_samples_leaf=1 \n",
      "[CV]  bootstrap=False, n_estimators=800, min_samples_split=2, max_depth=20, max_features=sqrt, min_samples_leaf=4, total=   7.5s\n",
      "[CV]  bootstrap=False, n_estimators=1400, min_samples_split=2, max_depth=80, max_features=sqrt, min_samples_leaf=4, total=  11.9s\n",
      "[CV] bootstrap=True, n_estimators=1600, min_samples_split=5, max_depth=90, max_features=auto, min_samples_leaf=1 \n"
     ]
    },
    {
     "name": "stdout",
     "output_type": "stream",
     "text": [
      "[CV] bootstrap=True, n_estimators=1600, min_samples_split=5, max_depth=90, max_features=auto, min_samples_leaf=1 \n",
      "[CV]  bootstrap=False, n_estimators=800, min_samples_split=2, max_depth=20, max_features=sqrt, min_samples_leaf=4, total=   7.4s\n",
      "[CV] bootstrap=False, n_estimators=400, min_samples_split=10, max_depth=90, max_features=sqrt, min_samples_leaf=2 \n",
      "[CV]  bootstrap=False, n_estimators=1400, min_samples_split=2, max_depth=80, max_features=sqrt, min_samples_leaf=4, total=  12.5s\n",
      "[CV] bootstrap=False, n_estimators=400, min_samples_split=10, max_depth=90, max_features=sqrt, min_samples_leaf=2 \n",
      "[CV]  bootstrap=False, n_estimators=1800, min_samples_split=2, max_depth=10, max_features=auto, min_samples_leaf=4, total=  25.0s\n",
      "[CV] bootstrap=False, n_estimators=400, min_samples_split=10, max_depth=90, max_features=sqrt, min_samples_leaf=2 \n",
      "[CV]  bootstrap=False, n_estimators=400, min_samples_split=5, max_depth=90, max_features=auto, min_samples_leaf=1, total=   5.9s\n",
      "[CV]  bootstrap=False, n_estimators=1800, min_samples_split=2, max_depth=10, max_features=auto, min_samples_leaf=4, total=  26.9s\n",
      "[CV] bootstrap=False, n_estimators=400, min_samples_split=10, max_depth=90, max_features=sqrt, min_samples_leaf=2 \n",
      "[CV] bootstrap=False, n_estimators=400, min_samples_split=10, max_depth=90, max_features=sqrt, min_samples_leaf=2 \n",
      "[CV]  bootstrap=False, n_estimators=400, min_samples_split=5, max_depth=90, max_features=auto, min_samples_leaf=1, total=   6.6s\n",
      "[CV] bootstrap=True, n_estimators=1600, min_samples_split=10, max_depth=None, max_features=sqrt, min_samples_leaf=1 \n",
      "[CV]  bootstrap=False, n_estimators=400, min_samples_split=10, max_depth=90, max_features=sqrt, min_samples_leaf=2, total=   4.2s\n",
      "[CV] bootstrap=True, n_estimators=1600, min_samples_split=10, max_depth=None, max_features=sqrt, min_samples_leaf=1 \n",
      "[CV]  bootstrap=True, n_estimators=1800, min_samples_split=5, max_depth=60, max_features=sqrt, min_samples_leaf=2, total=  10.4s\n",
      "[CV] bootstrap=True, n_estimators=1600, min_samples_split=10, max_depth=None, max_features=sqrt, min_samples_leaf=1 \n",
      "[CV] bootstrap=True, n_estimators=1600, min_samples_split=10, max_depth=None, max_features=sqrt, min_samples_leaf=1 \n",
      "[CV]  bootstrap=False, n_estimators=400, min_samples_split=5, max_depth=90, max_features=auto, min_samples_leaf=1, total=   6.9s\n",
      "[CV]  bootstrap=False, n_estimators=400, min_samples_split=5, max_depth=90, max_features=auto, min_samples_leaf=1, total=   6.8s\n",
      "[CV] bootstrap=True, n_estimators=1600, min_samples_split=10, max_depth=None, max_features=sqrt, min_samples_leaf=1 \n",
      "[CV]  bootstrap=True, n_estimators=1800, min_samples_split=5, max_depth=60, max_features=sqrt, min_samples_leaf=2, total=  10.9s\n",
      "[CV] bootstrap=True, n_estimators=2000, min_samples_split=5, max_depth=100, max_features=sqrt, min_samples_leaf=1 \n",
      "[CV]  bootstrap=False, n_estimators=400, min_samples_split=5, max_depth=90, max_features=auto, min_samples_leaf=1, total=   6.9s\n",
      "[CV] bootstrap=True, n_estimators=2000, min_samples_split=5, max_depth=100, max_features=sqrt, min_samples_leaf=1 \n",
      "[CV]  bootstrap=False, n_estimators=400, min_samples_split=10, max_depth=90, max_features=sqrt, min_samples_leaf=2, total=   4.3s\n",
      "[CV] bootstrap=True, n_estimators=2000, min_samples_split=5, max_depth=100, max_features=sqrt, min_samples_leaf=1 \n",
      "[CV]  bootstrap=False, n_estimators=400, min_samples_split=10, max_depth=90, max_features=sqrt, min_samples_leaf=2, total=   3.6s\n",
      "[CV] bootstrap=True, n_estimators=2000, min_samples_split=5, max_depth=100, max_features=sqrt, min_samples_leaf=1 \n",
      "[CV]  bootstrap=False, n_estimators=400, min_samples_split=10, max_depth=90, max_features=sqrt, min_samples_leaf=2, total=   4.2s\n",
      "[CV] bootstrap=True, n_estimators=2000, min_samples_split=5, max_depth=100, max_features=sqrt, min_samples_leaf=1 \n",
      "[CV]  bootstrap=True, n_estimators=1800, min_samples_split=5, max_depth=60, max_features=sqrt, min_samples_leaf=2, total=  10.1s\n",
      "[CV] bootstrap=True, n_estimators=1000, min_samples_split=5, max_depth=10, max_features=sqrt, min_samples_leaf=2 \n",
      "[CV]  bootstrap=False, n_estimators=400, min_samples_split=10, max_depth=90, max_features=sqrt, min_samples_leaf=2, total=   4.4s\n",
      "[CV] bootstrap=True, n_estimators=1000, min_samples_split=5, max_depth=10, max_features=sqrt, min_samples_leaf=2 \n",
      "[CV]  bootstrap=True, n_estimators=1800, min_samples_split=5, max_depth=60, max_features=sqrt, min_samples_leaf=2, total=  14.0s\n",
      "[CV] bootstrap=True, n_estimators=1000, min_samples_split=5, max_depth=10, max_features=sqrt, min_samples_leaf=2 \n",
      "[CV]  bootstrap=True, n_estimators=1800, min_samples_split=5, max_depth=60, max_features=sqrt, min_samples_leaf=2, total=  13.5s\n",
      "[CV] bootstrap=True, n_estimators=1000, min_samples_split=5, max_depth=10, max_features=sqrt, min_samples_leaf=2 \n",
      "[CV]  bootstrap=False, n_estimators=2000, min_samples_split=10, max_depth=60, max_features=auto, min_samples_leaf=2, total=  28.6s\n",
      "[CV] bootstrap=True, n_estimators=1000, min_samples_split=5, max_depth=10, max_features=sqrt, min_samples_leaf=2 \n",
      "[CV]  bootstrap=True, n_estimators=1000, min_samples_split=5, max_depth=10, max_features=sqrt, min_samples_leaf=2, total=   6.0s\n",
      "[CV] bootstrap=True, n_estimators=200, min_samples_split=5, max_depth=80, max_features=auto, min_samples_leaf=4 \n",
      "[CV]  bootstrap=True, n_estimators=1600, min_samples_split=10, max_depth=None, max_features=sqrt, min_samples_leaf=1, total=   9.5s\n",
      "[CV] bootstrap=True, n_estimators=200, min_samples_split=5, max_depth=80, max_features=auto, min_samples_leaf=4 \n",
      "[CV]  bootstrap=True, n_estimators=1000, min_samples_split=5, max_depth=10, max_features=sqrt, min_samples_leaf=2, total=   7.6s\n",
      "[CV] bootstrap=True, n_estimators=200, min_samples_split=5, max_depth=80, max_features=auto, min_samples_leaf=4 \n",
      "[CV]  bootstrap=False, n_estimators=2000, min_samples_split=10, max_depth=60, max_features=auto, min_samples_leaf=2, total=  29.1s\n",
      "[CV] bootstrap=True, n_estimators=200, min_samples_split=5, max_depth=80, max_features=auto, min_samples_leaf=4 \n",
      "[CV]  bootstrap=True, n_estimators=1600, min_samples_split=10, max_depth=None, max_features=sqrt, min_samples_leaf=1, total=   9.8s\n",
      "[CV] bootstrap=True, n_estimators=200, min_samples_split=5, max_depth=80, max_features=auto, min_samples_leaf=4 \n",
      "[CV]  bootstrap=False, n_estimators=2000, min_samples_split=10, max_depth=60, max_features=auto, min_samples_leaf=2, total=  28.6s\n",
      "[CV] bootstrap=False, n_estimators=2000, min_samples_split=2, max_depth=60, max_features=auto, min_samples_leaf=4 \n",
      "[CV]  bootstrap=True, n_estimators=1600, min_samples_split=10, max_depth=None, max_features=sqrt, min_samples_leaf=1, total=  10.1s\n",
      "[CV] bootstrap=False, n_estimators=2000, min_samples_split=2, max_depth=60, max_features=auto, min_samples_leaf=4 \n",
      "[CV]  bootstrap=True, n_estimators=1000, min_samples_split=5, max_depth=10, max_features=sqrt, min_samples_leaf=2, total=   5.9s\n",
      "[CV]  bootstrap=True, n_estimators=200, min_samples_split=5, max_depth=80, max_features=auto, min_samples_leaf=4, total=   2.0s\n",
      "[CV] bootstrap=False, n_estimators=2000, min_samples_split=2, max_depth=60, max_features=auto, min_samples_leaf=4 \n",
      "[CV] bootstrap=False, n_estimators=2000, min_samples_split=2, max_depth=60, max_features=auto, min_samples_leaf=4 \n",
      "[CV]  bootstrap=True, n_estimators=200, min_samples_split=5, max_depth=80, max_features=auto, min_samples_leaf=4, total=   1.6s\n",
      "[CV] bootstrap=False, n_estimators=2000, min_samples_split=2, max_depth=60, max_features=auto, min_samples_leaf=4 \n",
      "[CV]  bootstrap=False, n_estimators=2000, min_samples_split=10, max_depth=60, max_features=auto, min_samples_leaf=2, total=  31.3s\n",
      "[CV] bootstrap=True, n_estimators=600, min_samples_split=10, max_depth=100, max_features=auto, min_samples_leaf=2 \n",
      "[CV]  bootstrap=True, n_estimators=200, min_samples_split=5, max_depth=80, max_features=auto, min_samples_leaf=4, total=   1.7s\n",
      "[CV] bootstrap=True, n_estimators=600, min_samples_split=10, max_depth=100, max_features=auto, min_samples_leaf=2 \n",
      "[CV]  bootstrap=True, n_estimators=1600, min_samples_split=10, max_depth=None, max_features=sqrt, min_samples_leaf=1, total=  12.7s\n",
      "[CV]  bootstrap=True, n_estimators=200, min_samples_split=5, max_depth=80, max_features=auto, min_samples_leaf=4, total=   2.2s\n"
     ]
    },
    {
     "name": "stdout",
     "output_type": "stream",
     "text": [
      "[CV] bootstrap=True, n_estimators=600, min_samples_split=10, max_depth=100, max_features=auto, min_samples_leaf=2 \n",
      "[CV] bootstrap=True, n_estimators=600, min_samples_split=10, max_depth=100, max_features=auto, min_samples_leaf=2 \n",
      "[CV]  bootstrap=True, n_estimators=1600, min_samples_split=10, max_depth=None, max_features=sqrt, min_samples_leaf=1, total=  12.5s\n",
      "[CV]  bootstrap=True, n_estimators=200, min_samples_split=5, max_depth=80, max_features=auto, min_samples_leaf=4, total=   2.2s\n",
      "[CV] bootstrap=True, n_estimators=600, min_samples_split=10, max_depth=100, max_features=auto, min_samples_leaf=2 \n",
      "[CV] bootstrap=True, n_estimators=1000, min_samples_split=5, max_depth=100, max_features=auto, min_samples_leaf=4 \n",
      "[CV]  bootstrap=True, n_estimators=2000, min_samples_split=5, max_depth=100, max_features=sqrt, min_samples_leaf=1, total=  10.7s\n",
      "[CV] bootstrap=True, n_estimators=1000, min_samples_split=5, max_depth=100, max_features=auto, min_samples_leaf=4 \n",
      "[CV]  bootstrap=True, n_estimators=1000, min_samples_split=5, max_depth=10, max_features=sqrt, min_samples_leaf=2, total=   7.8s\n",
      "[CV] bootstrap=True, n_estimators=1000, min_samples_split=5, max_depth=100, max_features=auto, min_samples_leaf=4 \n",
      "[CV]  bootstrap=False, n_estimators=2000, min_samples_split=10, max_depth=60, max_features=auto, min_samples_leaf=2, total=  33.2s\n",
      "[CV]  bootstrap=True, n_estimators=1000, min_samples_split=5, max_depth=10, max_features=sqrt, min_samples_leaf=2, total=   5.7s\n",
      "[CV]  bootstrap=True, n_estimators=1600, min_samples_split=5, max_depth=90, max_features=auto, min_samples_leaf=1, total=  19.5s\n",
      "[CV] bootstrap=True, n_estimators=1000, min_samples_split=5, max_depth=100, max_features=auto, min_samples_leaf=4 \n",
      "[CV] bootstrap=True, n_estimators=1000, min_samples_split=5, max_depth=100, max_features=auto, min_samples_leaf=4 \n",
      "[CV] bootstrap=False, n_estimators=800, min_samples_split=10, max_depth=None, max_features=auto, min_samples_leaf=2 \n",
      "[CV]  bootstrap=True, n_estimators=1600, min_samples_split=5, max_depth=90, max_features=auto, min_samples_leaf=1, total=  20.6s\n",
      "[CV]  bootstrap=True, n_estimators=1600, min_samples_split=5, max_depth=90, max_features=auto, min_samples_leaf=1, total=  20.5s\n",
      "[CV] bootstrap=False, n_estimators=800, min_samples_split=10, max_depth=None, max_features=auto, min_samples_leaf=2 \n",
      "[CV] bootstrap=False, n_estimators=800, min_samples_split=10, max_depth=None, max_features=auto, min_samples_leaf=2 \n",
      "[CV]  bootstrap=True, n_estimators=2000, min_samples_split=5, max_depth=100, max_features=sqrt, min_samples_leaf=1, total=  14.1s\n",
      "[CV] bootstrap=False, n_estimators=800, min_samples_split=10, max_depth=None, max_features=auto, min_samples_leaf=2 \n",
      "[CV]  bootstrap=True, n_estimators=2000, min_samples_split=5, max_depth=100, max_features=sqrt, min_samples_leaf=1, total=  14.5s\n",
      "[CV] bootstrap=False, n_estimators=800, min_samples_split=10, max_depth=None, max_features=auto, min_samples_leaf=2 \n",
      "[CV]  bootstrap=True, n_estimators=1600, min_samples_split=5, max_depth=90, max_features=auto, min_samples_leaf=1, total=  21.9s\n",
      "[CV] bootstrap=False, n_estimators=800, min_samples_split=5, max_depth=70, max_features=sqrt, min_samples_leaf=4 \n",
      "[CV]  bootstrap=True, n_estimators=2000, min_samples_split=5, max_depth=100, max_features=sqrt, min_samples_leaf=1, total=  14.5s\n",
      "[CV] bootstrap=False, n_estimators=800, min_samples_split=5, max_depth=70, max_features=sqrt, min_samples_leaf=4 \n",
      "[CV]  bootstrap=True, n_estimators=600, min_samples_split=10, max_depth=100, max_features=auto, min_samples_leaf=2, total=   4.7s\n",
      "[CV] bootstrap=False, n_estimators=800, min_samples_split=5, max_depth=70, max_features=sqrt, min_samples_leaf=4 \n",
      "[CV]  bootstrap=True, n_estimators=2000, min_samples_split=5, max_depth=100, max_features=sqrt, min_samples_leaf=1, total=  14.7s\n",
      "[CV] bootstrap=False, n_estimators=800, min_samples_split=5, max_depth=70, max_features=sqrt, min_samples_leaf=4 \n",
      "[CV]  bootstrap=True, n_estimators=1600, min_samples_split=5, max_depth=90, max_features=auto, min_samples_leaf=1, total=  22.6s\n",
      "[CV] bootstrap=False, n_estimators=800, min_samples_split=5, max_depth=70, max_features=sqrt, min_samples_leaf=4 \n",
      "[CV]  bootstrap=True, n_estimators=600, min_samples_split=10, max_depth=100, max_features=auto, min_samples_leaf=2, total=   5.8s\n",
      "[CV] bootstrap=False, n_estimators=600, min_samples_split=10, max_depth=40, max_features=sqrt, min_samples_leaf=1 \n",
      "[CV]  bootstrap=True, n_estimators=600, min_samples_split=10, max_depth=100, max_features=auto, min_samples_leaf=2, total=   6.1s\n",
      "[CV] bootstrap=False, n_estimators=600, min_samples_split=10, max_depth=40, max_features=sqrt, min_samples_leaf=1 \n",
      "[CV]  bootstrap=True, n_estimators=600, min_samples_split=10, max_depth=100, max_features=auto, min_samples_leaf=2, total=   7.2s\n",
      "[CV] bootstrap=False, n_estimators=600, min_samples_split=10, max_depth=40, max_features=sqrt, min_samples_leaf=1 \n",
      "[CV]  bootstrap=True, n_estimators=600, min_samples_split=10, max_depth=100, max_features=auto, min_samples_leaf=2, total=   7.7s\n",
      "[CV] bootstrap=False, n_estimators=600, min_samples_split=10, max_depth=40, max_features=sqrt, min_samples_leaf=1 \n",
      "[CV]  bootstrap=False, n_estimators=800, min_samples_split=5, max_depth=70, max_features=sqrt, min_samples_leaf=4, total=   5.6s\n",
      "[CV] bootstrap=False, n_estimators=600, min_samples_split=10, max_depth=40, max_features=sqrt, min_samples_leaf=1 \n",
      "[CV]  bootstrap=True, n_estimators=1000, min_samples_split=5, max_depth=100, max_features=auto, min_samples_leaf=4, total=   9.5s\n",
      "[CV] bootstrap=True, n_estimators=400, min_samples_split=5, max_depth=100, max_features=sqrt, min_samples_leaf=1 \n",
      "[CV]  bootstrap=False, n_estimators=800, min_samples_split=5, max_depth=70, max_features=sqrt, min_samples_leaf=4, total=   5.7s\n",
      "[CV] bootstrap=True, n_estimators=400, min_samples_split=5, max_depth=100, max_features=sqrt, min_samples_leaf=1 \n",
      "[CV]  bootstrap=True, n_estimators=1000, min_samples_split=5, max_depth=100, max_features=auto, min_samples_leaf=4, total=   8.9s\n",
      "[CV] bootstrap=True, n_estimators=400, min_samples_split=5, max_depth=100, max_features=sqrt, min_samples_leaf=1 \n",
      "[CV]  bootstrap=True, n_estimators=1000, min_samples_split=5, max_depth=100, max_features=auto, min_samples_leaf=4, total=   9.9s\n",
      "[CV] bootstrap=True, n_estimators=400, min_samples_split=5, max_depth=100, max_features=sqrt, min_samples_leaf=1 \n",
      "[CV]  bootstrap=False, n_estimators=800, min_samples_split=5, max_depth=70, max_features=sqrt, min_samples_leaf=4, total=   6.0s\n",
      "[CV] bootstrap=True, n_estimators=400, min_samples_split=5, max_depth=100, max_features=sqrt, min_samples_leaf=1 \n",
      "[CV]  bootstrap=False, n_estimators=600, min_samples_split=10, max_depth=40, max_features=sqrt, min_samples_leaf=1, total=   5.5s\n",
      "[CV] bootstrap=True, n_estimators=1600, min_samples_split=2, max_depth=80, max_features=sqrt, min_samples_leaf=4 \n",
      "[CV]  bootstrap=False, n_estimators=600, min_samples_split=10, max_depth=40, max_features=sqrt, min_samples_leaf=1, total=   4.6s\n",
      "[CV] bootstrap=True, n_estimators=1600, min_samples_split=2, max_depth=80, max_features=sqrt, min_samples_leaf=4 \n",
      "[CV]  bootstrap=True, n_estimators=1000, min_samples_split=5, max_depth=100, max_features=auto, min_samples_leaf=4, total=   9.8s\n",
      "[CV] bootstrap=True, n_estimators=1600, min_samples_split=2, max_depth=80, max_features=sqrt, min_samples_leaf=4 \n",
      "[CV]  bootstrap=False, n_estimators=600, min_samples_split=10, max_depth=40, max_features=sqrt, min_samples_leaf=1, total=   4.7s\n",
      "[CV]  bootstrap=True, n_estimators=1000, min_samples_split=5, max_depth=100, max_features=auto, min_samples_leaf=4, total=   9.9s\n",
      "[CV] bootstrap=True, n_estimators=1600, min_samples_split=2, max_depth=80, max_features=sqrt, min_samples_leaf=4 \n",
      "[CV]  bootstrap=False, n_estimators=600, min_samples_split=10, max_depth=40, max_features=sqrt, min_samples_leaf=1, total=   5.6s\n",
      "[CV] bootstrap=True, n_estimators=1600, min_samples_split=2, max_depth=80, max_features=sqrt, min_samples_leaf=4 \n",
      "[CV] bootstrap=True, n_estimators=800, min_samples_split=10, max_depth=100, max_features=sqrt, min_samples_leaf=4 \n",
      "[CV]  bootstrap=False, n_estimators=800, min_samples_split=5, max_depth=70, max_features=sqrt, min_samples_leaf=4, total=   7.4s\n",
      "[CV] bootstrap=True, n_estimators=800, min_samples_split=10, max_depth=100, max_features=sqrt, min_samples_leaf=4 \n"
     ]
    },
    {
     "name": "stdout",
     "output_type": "stream",
     "text": [
      "[CV]  bootstrap=True, n_estimators=400, min_samples_split=5, max_depth=100, max_features=sqrt, min_samples_leaf=1, total=   2.2s\n",
      "[CV] bootstrap=True, n_estimators=800, min_samples_split=10, max_depth=100, max_features=sqrt, min_samples_leaf=4 \n",
      "[CV]  bootstrap=False, n_estimators=800, min_samples_split=5, max_depth=70, max_features=sqrt, min_samples_leaf=4, total=   7.4s\n",
      "[CV] bootstrap=True, n_estimators=800, min_samples_split=10, max_depth=100, max_features=sqrt, min_samples_leaf=4 \n",
      "[CV]  bootstrap=True, n_estimators=400, min_samples_split=5, max_depth=100, max_features=sqrt, min_samples_leaf=1, total=   3.0s\n",
      "[CV] bootstrap=True, n_estimators=800, min_samples_split=10, max_depth=100, max_features=sqrt, min_samples_leaf=4 \n",
      "[CV]  bootstrap=True, n_estimators=400, min_samples_split=5, max_depth=100, max_features=sqrt, min_samples_leaf=1, total=   2.7s\n",
      "[CV] bootstrap=True, n_estimators=1000, min_samples_split=10, max_depth=10, max_features=sqrt, min_samples_leaf=2 \n",
      "[CV]  bootstrap=True, n_estimators=400, min_samples_split=5, max_depth=100, max_features=sqrt, min_samples_leaf=1, total=   2.8s\n",
      "[CV] bootstrap=True, n_estimators=1000, min_samples_split=10, max_depth=10, max_features=sqrt, min_samples_leaf=2 \n",
      "[CV]  bootstrap=True, n_estimators=400, min_samples_split=5, max_depth=100, max_features=sqrt, min_samples_leaf=1, total=   3.0s\n",
      "[CV] bootstrap=True, n_estimators=1000, min_samples_split=10, max_depth=10, max_features=sqrt, min_samples_leaf=2 \n",
      "[CV]  bootstrap=False, n_estimators=800, min_samples_split=10, max_depth=None, max_features=auto, min_samples_leaf=2, total=  11.6s\n",
      "[CV] bootstrap=True, n_estimators=1000, min_samples_split=10, max_depth=10, max_features=sqrt, min_samples_leaf=2 \n",
      "[CV]  bootstrap=False, n_estimators=600, min_samples_split=10, max_depth=40, max_features=sqrt, min_samples_leaf=1, total=   4.5s\n",
      "[CV] bootstrap=True, n_estimators=1000, min_samples_split=10, max_depth=10, max_features=sqrt, min_samples_leaf=2 \n",
      "[CV]  bootstrap=False, n_estimators=800, min_samples_split=10, max_depth=None, max_features=auto, min_samples_leaf=2, total=  12.5s\n",
      "[CV] bootstrap=True, n_estimators=600, min_samples_split=10, max_depth=110, max_features=sqrt, min_samples_leaf=1 \n",
      "[CV]  bootstrap=False, n_estimators=800, min_samples_split=10, max_depth=None, max_features=auto, min_samples_leaf=2, total=  12.0s\n",
      "[CV] bootstrap=True, n_estimators=600, min_samples_split=10, max_depth=110, max_features=sqrt, min_samples_leaf=1 \n",
      "[CV]  bootstrap=False, n_estimators=800, min_samples_split=10, max_depth=None, max_features=auto, min_samples_leaf=2, total=  12.8s\n",
      "[CV] bootstrap=True, n_estimators=600, min_samples_split=10, max_depth=110, max_features=sqrt, min_samples_leaf=1 \n",
      "[CV]  bootstrap=False, n_estimators=800, min_samples_split=10, max_depth=None, max_features=auto, min_samples_leaf=2, total=  13.2s\n",
      "[CV] bootstrap=True, n_estimators=600, min_samples_split=10, max_depth=110, max_features=sqrt, min_samples_leaf=1 \n",
      "[CV]  bootstrap=True, n_estimators=800, min_samples_split=10, max_depth=100, max_features=sqrt, min_samples_leaf=4, total=   4.1s\n",
      "[CV] bootstrap=True, n_estimators=600, min_samples_split=10, max_depth=110, max_features=sqrt, min_samples_leaf=1 \n",
      "[CV]  bootstrap=True, n_estimators=800, min_samples_split=10, max_depth=100, max_features=sqrt, min_samples_leaf=4, total=   4.8s\n",
      "[CV] bootstrap=False, n_estimators=2000, min_samples_split=5, max_depth=None, max_features=sqrt, min_samples_leaf=4 \n",
      "[CV]  bootstrap=True, n_estimators=800, min_samples_split=10, max_depth=100, max_features=sqrt, min_samples_leaf=4, total=   4.8s\n",
      "[CV] bootstrap=False, n_estimators=2000, min_samples_split=5, max_depth=None, max_features=sqrt, min_samples_leaf=4 \n",
      "[CV]  bootstrap=True, n_estimators=800, min_samples_split=10, max_depth=100, max_features=sqrt, min_samples_leaf=4, total=   4.7s\n",
      "[CV] bootstrap=False, n_estimators=2000, min_samples_split=5, max_depth=None, max_features=sqrt, min_samples_leaf=4 \n",
      "[CV]  bootstrap=True, n_estimators=800, min_samples_split=10, max_depth=100, max_features=sqrt, min_samples_leaf=4, total=   5.0s\n",
      "[CV] bootstrap=False, n_estimators=2000, min_samples_split=5, max_depth=None, max_features=sqrt, min_samples_leaf=4 \n",
      "[CV]  bootstrap=True, n_estimators=600, min_samples_split=10, max_depth=110, max_features=sqrt, min_samples_leaf=1, total=   3.7s\n",
      "[CV] bootstrap=False, n_estimators=2000, min_samples_split=5, max_depth=None, max_features=sqrt, min_samples_leaf=4 \n",
      "[CV]  bootstrap=True, n_estimators=1000, min_samples_split=10, max_depth=10, max_features=sqrt, min_samples_leaf=2, total=   4.1s\n",
      "[CV]  bootstrap=True, n_estimators=1000, min_samples_split=10, max_depth=10, max_features=sqrt, min_samples_leaf=2, total=   5.2s\n",
      "[CV] bootstrap=True, n_estimators=800, min_samples_split=5, max_depth=40, max_features=sqrt, min_samples_leaf=1 \n",
      "[CV] bootstrap=True, n_estimators=800, min_samples_split=5, max_depth=40, max_features=sqrt, min_samples_leaf=1 \n",
      "[CV]  bootstrap=True, n_estimators=1000, min_samples_split=10, max_depth=10, max_features=sqrt, min_samples_leaf=2, total=   4.7s\n",
      "[CV]  bootstrap=True, n_estimators=600, min_samples_split=10, max_depth=110, max_features=sqrt, min_samples_leaf=1, total=   2.9s\n",
      "[CV] bootstrap=True, n_estimators=800, min_samples_split=5, max_depth=40, max_features=sqrt, min_samples_leaf=1 \n",
      "[CV] bootstrap=True, n_estimators=800, min_samples_split=5, max_depth=40, max_features=sqrt, min_samples_leaf=1 \n",
      "[CV]  bootstrap=True, n_estimators=600, min_samples_split=10, max_depth=110, max_features=sqrt, min_samples_leaf=1, total=   5.1s\n",
      "[CV] bootstrap=True, n_estimators=800, min_samples_split=5, max_depth=40, max_features=sqrt, min_samples_leaf=1 \n",
      "[CV]  bootstrap=True, n_estimators=600, min_samples_split=10, max_depth=110, max_features=sqrt, min_samples_leaf=1, total=   4.5s\n",
      "[CV] bootstrap=True, n_estimators=600, min_samples_split=2, max_depth=40, max_features=auto, min_samples_leaf=4 \n",
      "[CV]  bootstrap=True, n_estimators=1600, min_samples_split=2, max_depth=80, max_features=sqrt, min_samples_leaf=4, total=   8.1s\n",
      "[CV] bootstrap=True, n_estimators=600, min_samples_split=2, max_depth=40, max_features=auto, min_samples_leaf=4 \n",
      "[CV]  bootstrap=True, n_estimators=1600, min_samples_split=2, max_depth=80, max_features=sqrt, min_samples_leaf=4, total=   9.0s\n",
      "[CV]  bootstrap=True, n_estimators=1000, min_samples_split=10, max_depth=10, max_features=sqrt, min_samples_leaf=2, total=   6.8s\n",
      "[CV] bootstrap=True, n_estimators=600, min_samples_split=2, max_depth=40, max_features=auto, min_samples_leaf=4 \n",
      "[CV] bootstrap=True, n_estimators=600, min_samples_split=2, max_depth=40, max_features=auto, min_samples_leaf=4 \n",
      "[CV]  bootstrap=True, n_estimators=1000, min_samples_split=10, max_depth=10, max_features=sqrt, min_samples_leaf=2, total=   6.5s\n",
      "[CV]  bootstrap=True, n_estimators=1600, min_samples_split=2, max_depth=80, max_features=sqrt, min_samples_leaf=4, total=   8.6s\n",
      "[CV] bootstrap=True, n_estimators=600, min_samples_split=2, max_depth=40, max_features=auto, min_samples_leaf=4 \n",
      "[CV] bootstrap=False, n_estimators=600, min_samples_split=2, max_depth=30, max_features=sqrt, min_samples_leaf=4 \n",
      "[CV]  bootstrap=True, n_estimators=600, min_samples_split=10, max_depth=110, max_features=sqrt, min_samples_leaf=1, total=   5.2s\n",
      "[CV] bootstrap=False, n_estimators=600, min_samples_split=2, max_depth=30, max_features=sqrt, min_samples_leaf=4 \n",
      "[CV]  bootstrap=True, n_estimators=1600, min_samples_split=2, max_depth=80, max_features=sqrt, min_samples_leaf=4, total=   9.5s\n",
      "[CV] bootstrap=False, n_estimators=600, min_samples_split=2, max_depth=30, max_features=sqrt, min_samples_leaf=4 \n",
      "[CV]  bootstrap=True, n_estimators=1600, min_samples_split=2, max_depth=80, max_features=sqrt, min_samples_leaf=4, total=  11.7s\n",
      "[CV]  bootstrap=True, n_estimators=800, min_samples_split=5, max_depth=40, max_features=sqrt, min_samples_leaf=1, total=   5.3s\n",
      "[CV] bootstrap=False, n_estimators=600, min_samples_split=2, max_depth=30, max_features=sqrt, min_samples_leaf=4 \n",
      "[CV] bootstrap=False, n_estimators=600, min_samples_split=2, max_depth=30, max_features=sqrt, min_samples_leaf=4 \n",
      "[CV]  bootstrap=True, n_estimators=800, min_samples_split=5, max_depth=40, max_features=sqrt, min_samples_leaf=1, total=   4.8s\n"
     ]
    },
    {
     "name": "stdout",
     "output_type": "stream",
     "text": [
      "[CV] bootstrap=False, n_estimators=400, min_samples_split=10, max_depth=40, max_features=auto, min_samples_leaf=2 \n",
      "[CV]  bootstrap=False, n_estimators=2000, min_samples_split=2, max_depth=60, max_features=auto, min_samples_leaf=4, total=  27.2s\n",
      "[CV] bootstrap=False, n_estimators=400, min_samples_split=10, max_depth=40, max_features=auto, min_samples_leaf=2 \n",
      "[CV]  bootstrap=True, n_estimators=800, min_samples_split=5, max_depth=40, max_features=sqrt, min_samples_leaf=1, total=   5.6s\n",
      "[CV] bootstrap=False, n_estimators=400, min_samples_split=10, max_depth=40, max_features=auto, min_samples_leaf=2 \n",
      "[CV]  bootstrap=False, n_estimators=600, min_samples_split=2, max_depth=30, max_features=sqrt, min_samples_leaf=4, total=   4.5s\n",
      "[CV]  bootstrap=False, n_estimators=600, min_samples_split=2, max_depth=30, max_features=sqrt, min_samples_leaf=4, total=   4.3s\n",
      "[CV] bootstrap=False, n_estimators=400, min_samples_split=10, max_depth=40, max_features=auto, min_samples_leaf=2 \n",
      "[CV] bootstrap=False, n_estimators=400, min_samples_split=10, max_depth=40, max_features=auto, min_samples_leaf=2 \n",
      "[CV]  bootstrap=True, n_estimators=800, min_samples_split=5, max_depth=40, max_features=sqrt, min_samples_leaf=1, total=   6.3s\n",
      "[CV] bootstrap=False, n_estimators=1000, min_samples_split=2, max_depth=10, max_features=auto, min_samples_leaf=1 \n",
      "[CV]  bootstrap=False, n_estimators=2000, min_samples_split=2, max_depth=60, max_features=auto, min_samples_leaf=4, total=  26.6s\n",
      "[CV] bootstrap=False, n_estimators=1000, min_samples_split=2, max_depth=10, max_features=auto, min_samples_leaf=1 \n",
      "[CV]  bootstrap=False, n_estimators=2000, min_samples_split=2, max_depth=60, max_features=auto, min_samples_leaf=4, total=  27.3s\n",
      "[CV] bootstrap=False, n_estimators=1000, min_samples_split=2, max_depth=10, max_features=auto, min_samples_leaf=1 \n",
      "[CV]  bootstrap=True, n_estimators=800, min_samples_split=5, max_depth=40, max_features=sqrt, min_samples_leaf=1, total=   5.5s\n",
      "[CV] bootstrap=False, n_estimators=1000, min_samples_split=2, max_depth=10, max_features=auto, min_samples_leaf=1 \n",
      "[CV]  bootstrap=True, n_estimators=600, min_samples_split=2, max_depth=40, max_features=auto, min_samples_leaf=4, total=   5.7s\n",
      "[CV] bootstrap=False, n_estimators=1000, min_samples_split=2, max_depth=10, max_features=auto, min_samples_leaf=1 \n",
      "[CV]  bootstrap=False, n_estimators=600, min_samples_split=2, max_depth=30, max_features=sqrt, min_samples_leaf=4, total=   4.0s\n",
      "[CV] bootstrap=False, n_estimators=200, min_samples_split=5, max_depth=100, max_features=auto, min_samples_leaf=4 \n",
      "[CV]  bootstrap=True, n_estimators=600, min_samples_split=2, max_depth=40, max_features=auto, min_samples_leaf=4, total=   5.5s\n",
      "[CV] bootstrap=False, n_estimators=200, min_samples_split=5, max_depth=100, max_features=auto, min_samples_leaf=4 \n",
      "[CV]  bootstrap=True, n_estimators=600, min_samples_split=2, max_depth=40, max_features=auto, min_samples_leaf=4, total=   6.1s\n",
      "[CV] bootstrap=False, n_estimators=200, min_samples_split=5, max_depth=100, max_features=auto, min_samples_leaf=4 \n",
      "[CV]  bootstrap=False, n_estimators=2000, min_samples_split=2, max_depth=60, max_features=auto, min_samples_leaf=4, total=  28.1s\n",
      "[CV]  bootstrap=True, n_estimators=600, min_samples_split=2, max_depth=40, max_features=auto, min_samples_leaf=4, total=   6.3s\n",
      "[CV] bootstrap=False, n_estimators=200, min_samples_split=5, max_depth=100, max_features=auto, min_samples_leaf=4 \n",
      "[CV] bootstrap=False, n_estimators=200, min_samples_split=5, max_depth=100, max_features=auto, min_samples_leaf=4 \n",
      "[CV]  bootstrap=True, n_estimators=600, min_samples_split=2, max_depth=40, max_features=auto, min_samples_leaf=4, total=   6.3s\n",
      "[CV] bootstrap=True, n_estimators=2000, min_samples_split=2, max_depth=20, max_features=sqrt, min_samples_leaf=2 \n",
      "[CV]  bootstrap=False, n_estimators=600, min_samples_split=2, max_depth=30, max_features=sqrt, min_samples_leaf=4, total=   4.2s\n",
      "[CV] bootstrap=True, n_estimators=2000, min_samples_split=2, max_depth=20, max_features=sqrt, min_samples_leaf=2 \n",
      "[CV]  bootstrap=False, n_estimators=200, min_samples_split=5, max_depth=100, max_features=auto, min_samples_leaf=4, total=   2.1s\n",
      "[CV] bootstrap=True, n_estimators=2000, min_samples_split=2, max_depth=20, max_features=sqrt, min_samples_leaf=2 \n",
      "[CV]  bootstrap=False, n_estimators=200, min_samples_split=5, max_depth=100, max_features=auto, min_samples_leaf=4, total=   2.3s\n",
      "[CV] bootstrap=True, n_estimators=2000, min_samples_split=2, max_depth=20, max_features=sqrt, min_samples_leaf=2 \n",
      "[CV]  bootstrap=False, n_estimators=2000, min_samples_split=2, max_depth=60, max_features=auto, min_samples_leaf=4, total=  31.2s\n",
      "[CV] bootstrap=True, n_estimators=2000, min_samples_split=2, max_depth=20, max_features=sqrt, min_samples_leaf=2 \n",
      "[CV]  bootstrap=False, n_estimators=200, min_samples_split=5, max_depth=100, max_features=auto, min_samples_leaf=4, total=   3.3s\n",
      "[CV] bootstrap=True, n_estimators=2000, min_samples_split=10, max_depth=40, max_features=auto, min_samples_leaf=2 \n",
      "[CV]  bootstrap=False, n_estimators=200, min_samples_split=5, max_depth=100, max_features=auto, min_samples_leaf=4, total=   3.0s\n",
      "[CV] bootstrap=True, n_estimators=2000, min_samples_split=10, max_depth=40, max_features=auto, min_samples_leaf=2 \n",
      "[CV]  bootstrap=False, n_estimators=600, min_samples_split=2, max_depth=30, max_features=sqrt, min_samples_leaf=4, total=   5.8s\n",
      "[CV] bootstrap=True, n_estimators=2000, min_samples_split=10, max_depth=40, max_features=auto, min_samples_leaf=2 \n",
      "[CV]  bootstrap=False, n_estimators=200, min_samples_split=5, max_depth=100, max_features=auto, min_samples_leaf=4, total=   3.9s\n",
      "[CV] bootstrap=True, n_estimators=2000, min_samples_split=10, max_depth=40, max_features=auto, min_samples_leaf=2 \n",
      "[CV]  bootstrap=False, n_estimators=400, min_samples_split=10, max_depth=40, max_features=auto, min_samples_leaf=2, total=   5.5s\n",
      "[CV] bootstrap=True, n_estimators=2000, min_samples_split=10, max_depth=40, max_features=auto, min_samples_leaf=2 \n",
      "[CV]  bootstrap=False, n_estimators=400, min_samples_split=10, max_depth=40, max_features=auto, min_samples_leaf=2, total=   5.8s\n",
      "[CV]  bootstrap=False, n_estimators=400, min_samples_split=10, max_depth=40, max_features=auto, min_samples_leaf=2, total=   6.1s\n",
      "[CV]  bootstrap=False, n_estimators=400, min_samples_split=10, max_depth=40, max_features=auto, min_samples_leaf=2, total=   7.4s\n",
      "[CV]  bootstrap=False, n_estimators=400, min_samples_split=10, max_depth=40, max_features=auto, min_samples_leaf=2, total=   7.0s\n",
      "[CV]  bootstrap=False, n_estimators=2000, min_samples_split=5, max_depth=None, max_features=sqrt, min_samples_leaf=4, total=  13.7s\n",
      "[CV]  bootstrap=False, n_estimators=2000, min_samples_split=5, max_depth=None, max_features=sqrt, min_samples_leaf=4, total=  15.2s\n",
      "[CV]  bootstrap=False, n_estimators=2000, min_samples_split=5, max_depth=None, max_features=sqrt, min_samples_leaf=4, total=  14.3s\n",
      "[CV]  bootstrap=False, n_estimators=2000, min_samples_split=5, max_depth=None, max_features=sqrt, min_samples_leaf=4, total=  16.2s\n",
      "[CV]  bootstrap=False, n_estimators=2000, min_samples_split=5, max_depth=None, max_features=sqrt, min_samples_leaf=4, total=  16.0s\n",
      "[CV]  bootstrap=False, n_estimators=1000, min_samples_split=2, max_depth=10, max_features=auto, min_samples_leaf=1, total=  11.1s\n",
      "[CV]  bootstrap=True, n_estimators=2000, min_samples_split=2, max_depth=20, max_features=sqrt, min_samples_leaf=2, total=   8.3s\n",
      "[CV]  bootstrap=False, n_estimators=1000, min_samples_split=2, max_depth=10, max_features=auto, min_samples_leaf=1, total=  12.1s\n",
      "[CV]  bootstrap=False, n_estimators=1000, min_samples_split=2, max_depth=10, max_features=auto, min_samples_leaf=1, total=  12.5s\n",
      "[CV]  bootstrap=False, n_estimators=1000, min_samples_split=2, max_depth=10, max_features=auto, min_samples_leaf=1, total=  12.4s\n",
      "[CV]  bootstrap=True, n_estimators=2000, min_samples_split=2, max_depth=20, max_features=sqrt, min_samples_leaf=2, total=  11.3s\n",
      "[CV]  bootstrap=False, n_estimators=1000, min_samples_split=2, max_depth=10, max_features=auto, min_samples_leaf=1, total=  12.9s\n",
      "[CV]  bootstrap=True, n_estimators=2000, min_samples_split=2, max_depth=20, max_features=sqrt, min_samples_leaf=2, total=   9.4s\n",
      "[CV]  bootstrap=True, n_estimators=2000, min_samples_split=2, max_depth=20, max_features=sqrt, min_samples_leaf=2, total=  10.0s\n"
     ]
    },
    {
     "name": "stdout",
     "output_type": "stream",
     "text": [
      "[CV]  bootstrap=True, n_estimators=2000, min_samples_split=2, max_depth=20, max_features=sqrt, min_samples_leaf=2, total=  10.8s\n",
      "[CV]  bootstrap=True, n_estimators=2000, min_samples_split=10, max_depth=40, max_features=auto, min_samples_leaf=2, total=  13.7s\n",
      "[CV]  bootstrap=True, n_estimators=2000, min_samples_split=10, max_depth=40, max_features=auto, min_samples_leaf=2, total=  13.3s\n",
      "[CV]  bootstrap=True, n_estimators=2000, min_samples_split=10, max_depth=40, max_features=auto, min_samples_leaf=2, total=  14.5s\n",
      "[CV]  bootstrap=True, n_estimators=2000, min_samples_split=10, max_depth=40, max_features=auto, min_samples_leaf=2, total=  14.2s\n",
      "[CV]  bootstrap=True, n_estimators=2000, min_samples_split=10, max_depth=40, max_features=auto, min_samples_leaf=2, total=  13.6s\n"
     ]
    },
    {
     "name": "stderr",
     "output_type": "stream",
     "text": [
      "[Parallel(n_jobs=-1)]: Done 500 out of 500 | elapsed:  4.2min finished\n"
     ]
    },
    {
     "data": {
      "text/plain": [
       "RandomizedSearchCV(cv=5, error_score='raise',\n",
       "          estimator=RandomForestRegressor(bootstrap=True, criterion='mse', max_depth=None,\n",
       "           max_features='auto', max_leaf_nodes=None,\n",
       "           min_impurity_decrease=0.0, min_impurity_split=None,\n",
       "           min_samples_leaf=1, min_samples_split=2,\n",
       "           min_weight_fraction_leaf=0.0, n_estimators=300, n_jobs=1,\n",
       "           oob_score=False, random_state=42, verbose=0, warm_start=False),\n",
       "          fit_params=None, iid=True, n_iter=100, n_jobs=-1,\n",
       "          param_distributions={'bootstrap': [True, False], 'n_estimators': [200, 400, 600, 800, 1000, 1200, 1400, 1600, 1800, 2000], 'min_samples_split': [2, 5, 10], 'max_depth': [10, 20, 30, 40, 50, 60, 70, 80, 90, 100, 110, None], 'max_features': ['auto', 'sqrt'], 'min_samples_leaf': [1, 2, 4]},\n",
       "          pre_dispatch='2*n_jobs', random_state=42, refit=True,\n",
       "          return_train_score='warn', scoring=None, verbose=2)"
      ]
     },
     "execution_count": 152,
     "metadata": {},
     "output_type": "execute_result"
    }
   ],
   "source": [
    "from sklearn.model_selection import RandomizedSearchCV\n",
    "\n",
    "# Number of trees in random forest\n",
    "n_estimators = [int(x) for x in np.linspace(start = 200, stop = 2000, num = 10)]\n",
    "# Number of features to consider at every split\n",
    "max_features = ['auto', 'sqrt']\n",
    "# Maximum number of levels in tree\n",
    "max_depth = [int(x) for x in np.linspace(10, 110, num = 11)]\n",
    "max_depth.append(None)\n",
    "# Minimum number of samples required to split a node\n",
    "min_samples_split = [2, 5, 10]\n",
    "# Minimum number of samples required at each leaf node\n",
    "min_samples_leaf = [1, 2, 4]\n",
    "# Method of selecting samples for training each tree\n",
    "bootstrap = [True, False]\n",
    "\n",
    "# Create the random grid\n",
    "random_grid = {'n_estimators': n_estimators,\n",
    "               'max_features': max_features,\n",
    "               'max_depth': max_depth,\n",
    "               'min_samples_split': min_samples_split,\n",
    "               'min_samples_leaf': min_samples_leaf,\n",
    "               'bootstrap': bootstrap}\n",
    "\n",
    "rf_random = RandomizedSearchCV(estimator = rf, \n",
    "                               param_distributions = random_grid, \n",
    "                               n_iter = 50, cv = 5, \n",
    "                               verbose=2, \n",
    "                               random_state=42, \n",
    "                               n_jobs = -1)\n",
    "\n",
    "# Fit the random search model\n",
    "rf_random.fit(train_features, train_labels)"
   ]
  },
  {
   "cell_type": "code",
   "execution_count": 80,
   "metadata": {},
   "outputs": [
    {
     "data": {
      "text/plain": [
       "{'bootstrap': False,\n",
       " 'max_depth': 50,\n",
       " 'max_features': 'sqrt',\n",
       " 'min_samples_leaf': 2,\n",
       " 'min_samples_split': 2,\n",
       " 'n_estimators': 800}"
      ]
     },
     "execution_count": 80,
     "metadata": {},
     "output_type": "execute_result"
    }
   ],
   "source": [
    "rf_random.best_params_"
   ]
  },
  {
   "cell_type": "code",
   "execution_count": 170,
   "metadata": {},
   "outputs": [
    {
     "data": {
      "text/plain": [
       "GridSearchCV(cv=5, error_score='raise',\n",
       "       estimator=RandomForestRegressor(bootstrap=True, criterion='mse', max_depth=None,\n",
       "           max_features='auto', max_leaf_nodes=None,\n",
       "           min_impurity_decrease=0.0, min_impurity_split=None,\n",
       "           min_samples_leaf=1, min_samples_split=2,\n",
       "           min_weight_fraction_leaf=0.0, n_estimators=300, n_jobs=1,\n",
       "           oob_score=False, random_state=42, verbose=0, warm_start=False),\n",
       "       fit_params=None, iid=True, n_jobs=-1,\n",
       "       param_grid={'bootstrap': [True, False], 'n_estimators': [100, 200, 300, 400, 600, 1000], 'min_samples_split': [2, 3, 4], 'max_depth': [25, 50, 75, 100], 'max_features': [2, 3, 4], 'min_samples_leaf': [2, 3, 4]},\n",
       "       pre_dispatch='2*n_jobs', refit=True, return_train_score='warn',\n",
       "       scoring='neg_mean_squared_error', verbose=0)"
      ]
     },
     "execution_count": 170,
     "metadata": {},
     "output_type": "execute_result"
    }
   ],
   "source": [
    "from sklearn.model_selection import GridSearchCV\n",
    "\n",
    "grid_param = {\n",
    "    'bootstrap': [True, False],\n",
    "    'max_depth': [25, 50, 75, 100],\n",
    "    'max_features': [2, 3, 4],\n",
    "    'min_samples_leaf': [2, 3, 4],\n",
    "    'min_samples_split': [2, 3, 4],\n",
    "    'n_estimators': [100, 200, 300, 400, 600, 1000]\n",
    "}\n",
    "\n",
    "rf_search = GridSearchCV(estimator = rf,  \n",
    "                     param_grid = grid_param,\n",
    "                     scoring = 'neg_mean_squared_error',\n",
    "                     cv = 5,\n",
    "                     n_jobs = -1)\n",
    "\n",
    "rf_search.fit(train_features, train_labels)  "
   ]
  },
  {
   "cell_type": "code",
   "execution_count": 171,
   "metadata": {},
   "outputs": [
    {
     "data": {
      "text/plain": [
       "{'bootstrap': True,\n",
       " 'max_depth': 25,\n",
       " 'max_features': 4,\n",
       " 'min_samples_leaf': 2,\n",
       " 'min_samples_split': 2,\n",
       " 'n_estimators': 600}"
      ]
     },
     "execution_count": 171,
     "metadata": {},
     "output_type": "execute_result"
    }
   ],
   "source": [
    "rf_search.best_params_"
   ]
  },
  {
   "cell_type": "code",
   "execution_count": 148,
   "metadata": {},
   "outputs": [
    {
     "data": {
      "text/plain": [
       "RandomForestRegressor(bootstrap=True, criterion='mse', max_depth=None,\n",
       "           max_features='auto', max_leaf_nodes=None,\n",
       "           min_impurity_decrease=0.0, min_impurity_split=None,\n",
       "           min_samples_leaf=1, min_samples_split=2,\n",
       "           min_weight_fraction_leaf=0.0, n_estimators=300, n_jobs=1,\n",
       "           oob_score=False, random_state=42, verbose=0, warm_start=False)"
      ]
     },
     "execution_count": 148,
     "metadata": {},
     "output_type": "execute_result"
    }
   ],
   "source": [
    "# rf.fit(train_features, train_labels)  "
   ]
  },
  {
   "cell_type": "code",
   "execution_count": 232,
   "metadata": {},
   "outputs": [
    {
     "name": "stdout",
     "output_type": "stream",
     "text": [
      "Mean Absolute Error: 3795.33 views for all viewcounts.\n",
      "Mean Absolute Error: 735.77 views for 0-5000 views.\n",
      "Mean Absolute Error: 313.45 views for 0-1000 views.\n"
     ]
    }
   ],
   "source": [
    "# Was 9861 views before sentiment added -- need channel info (num subscribers etc.)\n",
    "# Use the forest's predict method on the test data\n",
    "# predictions = rf_random.predict(test_features)\n",
    "predictions_all = rf_search.predict(test_features)\n",
    "predictions_0_5000 = rf_search.predict(test_0_5000_f)\n",
    "predictions_0_1000 = rf_search.predict(test_0_1000_f)\n",
    "\n",
    "predictions1_all = (10 ** predictions_all) - 1\n",
    "test_labels1_all = (10 ** test_labels) - 1\n",
    "\n",
    "predictions1_0_5000 = (10 ** predictions_0_5000) - 1\n",
    "test_labels1_0_5000 = (10 ** test_0_5000_l) - 1\n",
    "\n",
    "predictions1_0_1000 = (10 ** predictions_0_1000) - 1\n",
    "test_labels1_0_1000 = (10 ** test_0_1000_l) - 1\n",
    "\n",
    "# Calculate the absolute errors\n",
    "errors_all = abs(predictions1_all - test_labels1_all)\n",
    "errors_0_5000 = abs(predictions1_0_5000 - test_labels1_0_5000)\n",
    "errors_0_1000 = abs(predictions1_0_1000 - test_labels1_0_1000)\n",
    "\n",
    "# Print out the mean absolute error (mae)\n",
    "print('Mean Absolute Error:', round(np.mean(errors_all), 2), 'views for all viewcounts.')\n",
    "print('Mean Absolute Error:', round(np.mean(errors_0_5000), 2), 'views for 0-5000 views.')\n",
    "print('Mean Absolute Error:', round(np.mean(errors_0_1000), 2), 'views for 0-1000 views.')"
   ]
  },
  {
   "cell_type": "code",
   "execution_count": 234,
   "metadata": {},
   "outputs": [
    {
     "name": "stdout",
     "output_type": "stream",
     "text": [
      "R^2: 0.8 views for all viewcounts.\n"
     ]
    }
   ],
   "source": [
    "from sklearn import metrics\n",
    "\n",
    "r2_all = metrics.r2_score(test_labels1_all, predictions1_all)\n",
    "\n",
    "# Print out the mean absolute error (mae)\n",
    "print('R^2:', round(np.mean(r2_all), 2), 'views for all viewcounts.')"
   ]
  },
  {
   "cell_type": "code",
   "execution_count": 59,
   "metadata": {},
   "outputs": [
    {
     "data": {
      "image/png": "[encoded data removed]",
      "text/plain": [
       "<Figure size 432x288 with 1 Axes>"
      ]
     },
     "metadata": {},
     "output_type": "display_data"
    }
   ],
   "source": [
    "plt.scatter(predictions, test_labels, s = 5)\n",
    "plt.xlabel('Predicted')\n",
    "plt.ylabel('Actual')\n",
    "plt.title('Predicted vs Actual')\n",
    "plt.ylim(0, 500000)\n",
    "plt.xlim(0, 500000)\n",
    "plt.show()"
   ]
  },
  {
   "cell_type": "code",
   "execution_count": 60,
   "metadata": {},
   "outputs": [
    {
     "data": {
      "text/plain": [
       "(0, 500000)"
      ]
     },
     "execution_count": 60,
     "metadata": {},
     "output_type": "execute_result"
    },
    {
     "data": {
      "image/png": "[encoded data removed]",
      "text/plain": [
       "<Figure size 432x288 with 1 Axes>"
      ]
     },
     "metadata": {},
     "output_type": "display_data"
    }
   ],
   "source": [
    "fig, ax = plt.subplots()\n",
    "ax.scatter(predictions, test_labels, s=5, zorder=10)\n",
    "\n",
    "lims = [\n",
    "    np.min([ax.get_xlim(), ax.get_ylim()]),  # min of both axes\n",
    "    np.max([ax.get_xlim(), ax.get_ylim()]),  # max of both axes\n",
    "]\n",
    "\n",
    "# now plot both limits against eachother\n",
    "ax.plot(lims, lims, 'k-', alpha=0.75, zorder=0)\n",
    "ax.set_aspect('equal')\n",
    "ax.set_xlim(0,500000)\n",
    "ax.set_ylim(0,500000)"
   ]
  },
  {
   "cell_type": "code",
   "execution_count": 61,
   "metadata": {},
   "outputs": [
    {
     "name": "stdout",
     "output_type": "stream",
     "text": [
      "Variable: likes                Importance: 0.39\n",
      "Variable: dislikes             Importance: 0.35\n",
      "Variable: rating               Importance: 0.09\n",
      "Variable: date_published       Importance: 0.06\n",
      "Variable: time_since_published Importance: 0.05\n",
      "Variable: length               Importance: 0.03\n",
      "Variable: subscriberCount      Importance: 0.02\n",
      "Variable: compound_title       Importance: 0.01\n",
      "Variable: compound_description Importance: 0.01\n"
     ]
    }
   ],
   "source": [
    "# Get numerical feature importances\n",
    "importances = list(rf.feature_importances_)\n",
    "# List of tuples with variable and importance\n",
    "feature_importances = [(feature, round(importance, 2)) for feature, importance in zip(feature_list, importances)]\n",
    "# Sort the feature importances by most important first\n",
    "feature_importances = sorted(feature_importances, key = lambda x: x[1], reverse = True)\n",
    "# Print out the feature and importances \n",
    "[print('Variable: {:20} Importance: {}'.format(*pair)) for pair in feature_importances];"
   ]
  },
  {
   "cell_type": "code",
   "execution_count": 104,
   "metadata": {},
   "outputs": [
    {
     "data": {
      "image/png": "[encoded data removed]",
      "text/plain": [
       "<Figure size 720x720 with 2 Axes>"
      ]
     },
     "metadata": {},
     "output_type": "display_data"
    }
   ],
   "source": [
    "plt.figure(figsize=(10,10))\n",
    "plt.matshow(df_all_num_sent.corr(), fignum=1, cmap = 'RdBu')\n",
    "plt.xticks(range(len(df_all_num_sent.columns)), df_all_num_sent.columns, rotation=45)\n",
    "plt.yticks(range(len(df_all_num_sent.columns)), df_all_num_sent.columns, rotation=45)\n",
    "plt.colorbar()\n",
    "plt.show()"
   ]
  }
 ],
 "metadata": {
  "kernelspec": {
   "display_name": "Python 3",
   "language": "python",
   "name": "python3"
  },
  "language_info": {
   "codemirror_mode": {
    "name": "ipython",
    "version": 3
   },
   "file_extension": ".py",
   "mimetype": "text/x-python",
   "name": "python",
   "nbconvert_exporter": "python",
   "pygments_lexer": "ipython3",
   "version": "3.5.2"
  }
 },
 "nbformat": 4,
 "nbformat_minor": 2
}
