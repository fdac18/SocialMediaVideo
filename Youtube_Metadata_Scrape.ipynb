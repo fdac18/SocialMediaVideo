{
 "cells": [
  {
   "cell_type": "code",
   "execution_count": 23,
   "metadata": {},
   "outputs": [],
   "source": [
    "# imports\n",
    "import os\n",
    "import re\n"
   ]
  },
  {
   "cell_type": "code",
   "execution_count": 3,
   "metadata": {},
   "outputs": [
    {
     "data": {
      "text/plain": [
       "0"
      ]
     },
     "execution_count": 3,
     "metadata": {},
     "output_type": "execute_result"
    }
   ],
   "source": [
    "# make directory for our data\n",
    "os.system(\"mkdir data\")\n",
    "\n",
    "# aggregate the full data set\n",
    "os.system(\"cp sports-1m-dataset/original/test_partition.txt ./data/full_dataset.txt\")\n",
    "os.system(\"cat sports-1m-dataset/original/train_partition.txt >> ./data/full_dataset.txt\")"
   ]
  },
  {
   "cell_type": "markdown",
   "metadata": {},
   "source": [
    "### do not run section below again!!!"
   ]
  },
  {
   "cell_type": "code",
   "execution_count": 19,
   "metadata": {},
   "outputs": [
    {
     "data": {
      "text/plain": [
       "0"
      ]
     },
     "execution_count": 19,
     "metadata": {},
     "output_type": "execute_result"
    }
   ],
   "source": [
    "# 3 categories of videos\n",
    "# boxing (2)\n",
    "# table tennis (96)\n",
    "# american football (393)\n",
    "\n",
    "# create boxing videos dataset\n",
    "os.system(\"grep -m 1000 -o '^[^ ]\\+ 2$' ./data/full_dataset.txt > ./data/2.txt\")\n",
    "\n",
    "# create table tennis dataset\n",
    "os.system(\"grep -m 1000 -o '^[^ ]\\+ 96$' ./data/full_dataset.txt > ./data/96.txt\")\n",
    "\n",
    "# create american football dataset\n",
    "os.system(\"grep -m 1000 -o '^[^ ]\\+ 393$' ./data/full_dataset.txt > ./data/393.txt\")\n",
    "\n",
    "# ran some sed scripts from command line to strip category numbers off end of lines"
   ]
  },
  {
   "cell_type": "code",
   "execution_count": 27,
   "metadata": {},
   "outputs": [],
   "source": [
    "boxing_url = [] # boxing url list\n",
    "table_tennis_url = [] # table tennis url list\n",
    "american_football_url = [] # american football url list\n",
    "\n",
    "f = open(\"./data/boxing.txt\", 'r')\n",
    "for line in f:\n",
    "    boxing_url.append(re.sub(pattern = r'\\n$', repl = r'', string = line))\n",
    "f.close()\n",
    "    \n",
    "f = open(\"./data/table_tennis.txt\", 'r')\n",
    "for line in f:\n",
    "    table_tennis_url.append(re.sub(pattern = r'\\n$', repl = r'', string = line))\n",
    "f.close()\n",
    "\n",
    "f = open(\"./data/american_football.txt\", 'r')\n",
    "for line in f:\n",
    "    american_football_url.append(re.sub(pattern = r'\\n$', repl = r'', string = line))\n",
    "f.close()"
   ]
  },
  {
   "cell_type": "code",
   "execution_count": 32,
   "metadata": {},
   "outputs": [
    {
     "name": "stdout",
     "output_type": "stream",
     "text": [
      "https://www.youtube.com/watch?v=eCRZsMfFPT8\n",
      "https://www.youtube.com/watch?v=tZNMiHLt18Q\n",
      "https://www.youtube.com/watch?v=dGaljmaSIlQ\n",
      "https://www.youtube.com/watch?v=9u_PjjtXBj0\n",
      "https://www.youtube.com/watch?v=qQrx8fH8GH4\n",
      "https://www.youtube.com/watch?v=BfCpLYRds5A\n",
      "https://www.youtube.com/watch?v=SDYuQo8ntv4\n",
      "https://www.youtube.com/watch?v=gFdd8wQitrA\n",
      "https://www.youtube.com/watch?v=IX_-ah1RR0o\n",
      "https://www.youtube.com/watch?v=E11EftSImwU\n"
     ]
    }
   ],
   "source": [
    "\n",
    "for video in boxing_url[0:10]:\n",
    "    print(video)\n"
   ]
  }
 ],
 "metadata": {
  "kernelspec": {
   "display_name": "Python 3",
   "language": "python",
   "name": "python3"
  },
  "language_info": {
   "codemirror_mode": {
    "name": "ipython",
    "version": 3
   },
   "file_extension": ".py",
   "mimetype": "text/x-python",
   "name": "python",
   "nbconvert_exporter": "python",
   "pygments_lexer": "ipython3",
   "version": "3.5.2"
  }
 },
 "nbformat": 4,
 "nbformat_minor": 2
}
