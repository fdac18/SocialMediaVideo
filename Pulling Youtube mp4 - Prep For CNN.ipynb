{
 "cells": [
  {
   "cell_type": "code",
   "execution_count": 145,
   "metadata": {},
   "outputs": [],
   "source": [
    "import pafy\n",
    "import os"
   ]
  },
  {
   "cell_type": "code",
   "execution_count": 146,
   "metadata": {},
   "outputs": [],
   "source": [
    "import cv2\n",
    "import numpy as np"
   ]
  },
  {
   "cell_type": "code",
   "execution_count": 154,
   "metadata": {},
   "outputs": [
    {
     "name": "stdout",
     "output_type": "stream",
     "text": [
      "Title: 10 second timer\n",
      "Author: The 16th Cavern\n",
      "ID: egfn6cPDQ6Q\n",
      "Duration: 00:00:15\n",
      "Rating: 4.0755147934\n",
      "Views: None\n",
      "Thumbnail: http://i.ytimg.com/vi/egfn6cPDQ6Q/default.jpg\n"
     ]
    }
   ],
   "source": [
    "v = pafy.new(\"https://www.youtube.com/watch?v=egfn6cPDQ6Q\")\n",
    "print(v)"
   ]
  },
  {
   "cell_type": "code",
   "execution_count": 103,
   "metadata": {},
   "outputs": [
    {
     "name": "stdout",
     "output_type": "stream",
     "text": [
      "video:mp4@1920x1080\n"
     ]
    }
   ],
   "source": [
    "s = v.getbestvideo(preftype=\"mp4\", ftypestrict=True)\n",
    "print(s)"
   ]
  },
  {
   "cell_type": "code",
   "execution_count": 23,
   "metadata": {},
   "outputs": [
    {
     "data": {
      "text/plain": [
       "'/home/bbass11/SocialMediaVideo/YouTubeFiles'"
      ]
     },
     "execution_count": 23,
     "metadata": {},
     "output_type": "execute_result"
    }
   ],
   "source": [
    "os.getcwd()\n",
    "#os.chdir(\"\")"
   ]
  },
  {
   "cell_type": "code",
   "execution_count": 50,
   "metadata": {},
   "outputs": [],
   "source": [
    "#os.mkdir('TempDir')"
   ]
  },
  {
   "cell_type": "code",
   "execution_count": 51,
   "metadata": {},
   "outputs": [
    {
     "name": "stdout",
     "output_type": "stream",
     "text": [
      "  338,817 Bytes [100.00%] received. Rate: [1422 KB/s].  ETA: [0 secs]    \r"
     ]
    },
    {
     "data": {
      "text/plain": [
       "'/home/bbass11/SocialMediaVideo/YouTubeFiles/TempDir/10 second timer.mp4'"
      ]
     },
     "execution_count": 51,
     "metadata": {},
     "output_type": "execute_result"
    }
   ],
   "source": [
    "fn = s.download(filepath='/home/bbass11/SocialMediaVideo/YouTubeFiles/TempDir', meta=False)"
   ]
  },
  {
   "cell_type": "code",
   "execution_count": 67,
   "metadata": {},
   "outputs": [],
   "source": [
    "def count_frames_manual(video):\n",
    "    # initialize the total number of frames read\n",
    "    total = 0\n",
    " \n",
    "    # loop over the frames of the video\n",
    "    while True:\n",
    "        # grab the current frame\n",
    "        (grabbed, frame) = video.read()\n",
    "     \n",
    "        # check to see if we have reached the end of the video\n",
    "        if not grabbed:\n",
    "            break\n",
    " \n",
    "        # increment the total number of frames read\n",
    "        total += 1\n",
    " \n",
    "    # return the total number of frames in the video file\n",
    "    return total"
   ]
  },
  {
   "cell_type": "code",
   "execution_count": 68,
   "metadata": {},
   "outputs": [],
   "source": [
    "def count_frames(path, override=False):\n",
    "    # grab a pointer to the video file and initialize the total\n",
    "    # number of frames read\n",
    "    video = cv2.VideoCapture(path)\n",
    "    total = 0\n",
    "\n",
    "    # if the override flag is passed in, revert to the manual\n",
    "    # method of counting frames\n",
    "    if override:\n",
    "        total = count_frames_manual(video)\n",
    "\n",
    "    # otherwise, let's try the fast way first\n",
    "    else:\n",
    "        try:\n",
    "            total = int(video.get(cv2.cv.CV_CAP_PROP_FRAME_COUNT))\n",
    "        except:\n",
    "            total = count_frames_manual(video)\n",
    "\n",
    "    video.release()\n",
    "\n",
    "    # return the total number of frames in the video\n",
    "    return total"
   ]
  },
  {
   "cell_type": "code",
   "execution_count": null,
   "metadata": {},
   "outputs": [],
   "source": [
    "# Adding Train Directory\n",
    "try:\n",
    "    if not os.path.exists('Train'):\n",
    "        os.makedirs('Train')\n",
    "except OSError:\n",
    "    print ('Error: Creating directory of data Train')\n",
    "\n",
    "if os.path.exists('Train'):\n",
    "    os.chdir('Train')"
   ]
  },
  {
   "cell_type": "code",
   "execution_count": 142,
   "metadata": {},
   "outputs": [
    {
     "name": "stdout",
     "output_type": "stream",
     "text": [
      "Number of Frames: 437\n",
      "Sampling: 150\n",
      "Sampling Array: [  0 150 300]\n",
      "Creating...200/frame0.jpg\n",
      "Creating...200/frame150.jpg\n",
      "Creating...200/frame300.jpg\n"
     ]
    }
   ],
   "source": [
    "# Playing video from file:\n",
    "path = '/home/bbass11/SocialMediaVideo/YouTubeFiles/TempDir/10 second timer.mp4'\n",
    "cap = cv2.VideoCapture(path)\n",
    "\n",
    "num_frames = count_frames(path)\n",
    "print('Number of Frames:', num_frames)\n",
    "\n",
    "FPS = cap.get(cv2.CAP_PROP_FPS)\n",
    "Delta = 5\n",
    "Diff = round(FPS*Delta)\n",
    "print('Sampling:', Diff)\n",
    "\n",
    "df_fr = np.arange(0,num_frames, Diff)\n",
    "print('Sampling Array:', df_fr)\n",
    "\n",
    "# views = v.viewcount()\n",
    "views = 200\n",
    "\n",
    "# Run in Train Directory!\n",
    "try:\n",
    "    if not os.path.exists(str(views)):\n",
    "        os.makedirs(str(views))\n",
    "except OSError:\n",
    "    print ('Error: Creating directory of data Views')\n",
    "\n",
    "    \n",
    "# Pull out sampled frames at FPS * Delta frequency\n",
    "currentFrame = 0\n",
    "for i in range(num_frames):\n",
    "    # Capture frame-by-frame\n",
    "    ret, frame = cap.read()\n",
    "\n",
    "    # Need to add if statement here based to determine which folder the files go into\n",
    "    # Create bins of different amounts and store files in each\n",
    "    # Alternatively create a separate file for each and use regression\n",
    "    if i in df_fr:\n",
    "        # Saves image of the current frame in jpg file\n",
    "        name = str(views) + '/frame' + str(i) + '.jpg'\n",
    "        print ('Creating...' + name)\n",
    "        cv2.imwrite(name, frame)\n",
    "\n",
    "# When everything done, release the capture\n",
    "cap.release()\n",
    "cv2.destroyAllWindows()"
   ]
  },
  {
   "cell_type": "code",
   "execution_count": 138,
   "metadata": {},
   "outputs": [],
   "source": [
    "os.chdir('/home/bbass11/SocialMediaVideo/YouTubeFiles')"
   ]
  },
  {
   "cell_type": "code",
   "execution_count": 141,
   "metadata": {},
   "outputs": [
    {
     "data": {
      "text/plain": [
       "'/home/bbass11/SocialMediaVideo/YouTubeFiles/Train'"
      ]
     },
     "execution_count": 141,
     "metadata": {},
     "output_type": "execute_result"
    }
   ],
   "source": [
    "pwd()"
   ]
  }
 ],
 "metadata": {
  "kernelspec": {
   "display_name": "Python 3",
   "language": "python",
   "name": "python3"
  },
  "language_info": {
   "codemirror_mode": {
    "name": "ipython",
    "version": 3
   },
   "file_extension": ".py",
   "mimetype": "text/x-python",
   "name": "python",
   "nbconvert_exporter": "python",
   "pygments_lexer": "ipython3",
   "version": "3.5.2"
  }
 },
 "nbformat": 4,
 "nbformat_minor": 2
}
